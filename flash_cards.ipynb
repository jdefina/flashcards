{
 "cells": [
  {
   "cell_type": "code",
   "execution_count": 2,
   "metadata": {},
   "outputs": [],
   "source": [
    "from dotenv import load_dotenv\n",
    "import os\n",
    "import openai\n",
    "from datasets import load_dataset\n",
    "import llama_index\n",
    "from llama_index import Document\n",
    "from llama_index.node_parser import SimpleNodeParser\n",
    "from llama_index.vector_stores import PineconeVectorStore\n",
    "from llama_index import GPTVectorStoreIndex, StorageContext, ServiceContext\n",
    "import chromadb\n",
    "from llama_index import VectorStoreIndex\n",
    "from llama_index.vector_stores import ChromaVectorStore\n",
    "from llama_index.storage.storage_context import StorageContext\n",
    "from llama_index.prompts import PromptTemplate\n",
    "from llama_index.embeddings.openai import OpenAIEmbedding\n",
    "from llama_index.node_parser import SimpleNodeParser\n",
    "from pathlib import Path\n",
    "from llama_index import download_loader\n"
   ]
  },
  {
   "cell_type": "code",
   "execution_count": 3,
   "metadata": {},
   "outputs": [],
   "source": [
    "from llama_index.embeddings import OpenAIEmbedding\n",
    "from llama_index.text_splitter import SentenceSplitter\n",
    "from llama_index.extractors import TitleExtractor\n",
    "from llama_index.ingestion import IngestionPipeline, IngestionCache"
   ]
  },
  {
   "cell_type": "code",
   "execution_count": 4,
   "metadata": {},
   "outputs": [],
   "source": [
    "from llama_index import download_loader\n",
    "from pathlib import Path\n",
    "from llama_index import download_loader\n",
    "from llama_index import VectorStoreIndex\n",
    "from llama_index import SummaryIndex\n",
    "import openai\n",
    "from llama_index.indices.document_summary import DocumentSummaryIndex\n"
   ]
  },
  {
   "cell_type": "code",
   "execution_count": 5,
   "metadata": {},
   "outputs": [],
   "source": [
    "from llama_index.llms import OpenAI\n",
    "from llama_index import (\n",
    "    SimpleDirectoryReader,\n",
    "    ServiceContext,\n",
    "    get_response_synthesizer,\n",
    ")"
   ]
  },
  {
   "cell_type": "code",
   "execution_count": 6,
   "metadata": {},
   "outputs": [],
   "source": [
    "from llama_index import ServiceContext, VectorStoreIndex\n",
    "from llama_index.extractors import (\n",
    "    TitleExtractor,\n",
    "    QuestionsAnsweredExtractor,\n",
    ")\n",
    "from llama_index.ingestion import IngestionPipeline\n",
    "from llama_index.text_splitter import TokenTextSplitter\n",
    "\n"
   ]
  },
  {
   "cell_type": "code",
   "execution_count": 7,
   "metadata": {},
   "outputs": [],
   "source": [
    "\n",
    "\n",
    "os.environ['OPENAI_API_KEY'] = openai_api_key # platform.openai.com"
   ]
  },
  {
   "cell_type": "code",
   "execution_count": 8,
   "metadata": {},
   "outputs": [],
   "source": [
    "PDFReader = download_loader(\"PDFReader\")\n",
    "\n",
    "loader = PDFReader()\n",
    "documents = loader.load_data(file=Path('C:/Users/jrdef/Downloads/civil_war.pdf'))"
   ]
  },
  {
   "cell_type": "code",
   "execution_count": 142,
   "metadata": {},
   "outputs": [],
   "source": [
    "page2 = documents[1:3]"
   ]
  },
  {
   "cell_type": "code",
   "execution_count": 143,
   "metadata": {},
   "outputs": [
    {
     "data": {
      "text/plain": [
       "[Document(id_='aa14e6e3-384e-4784-9819-c4f93fb53fac', embedding=None, metadata={'page_label': '2', 'file_name': 'civil_war.pdf'}, excluded_embed_metadata_keys=[], excluded_llm_metadata_keys=[], relationships={}, hash='33ed949e40bfcbfdb0cd134c4eabf4eb366f0bd79e931dbc296240abba0e6cd8', text='The N? r ~ h  a~so enjoyed the steady leadership of President Lincoln. At a time when opm1on m the North wa\" b;tterly div1·..Jed lie ap 1· d kill t . -· • • . ,. u , p 1e uncommon s o the difficult task of keeping the :~::.,.icn t::Jg-cther. Finally, Lincoln\\'s decisior! tr, P\\'\\'G,\\'::1::\\\\·_, cn!3ncipation was a fateful step that changed the nature of the,•.-:-,;· !.__;.,;_c):\\'1 -. ,:h::ermin:::;tion-and the determina-tion of thousands of African ).:oJi·r•, \\'.c,,;, ir, rhs North and South-sustained northern spirits, even as the -\\'>\\'ar s::ipf.,c\"1 codhern resolve. 0 Checkpoint What were some of the reasons the North prevailed in the Civil War? The War\\'s Lasting Impact The United States had never experienced a war like the Civil War. Some indi-vidual battles produced casualties greater than the United States had previously sustained in entire wars. When the war was over, more than 600,000 Americans were dead. Hundreds of thousands more were maimed. The Civil War ushered in the harsh reality of modern warfare. For the first time, ordinary citizens could see the carnage of the battlefield through the pho-tographs of journalists such as Mathew Brady. His exhibition \"The Dead at Antietam\" provided graphic evidence of the terrible realities of war. Effects on the Economy After the fighting ended, social and political disil-lusionment on both sides fed economic greed. The era following the war came to be labeled the Gilded Age-a term that suggested a superficial glitter and beauty covering up an underlying decay. Nevertheless, in the North, the indus-trial boom that was fueled by the war continued. In 1862, Congress passed both the Land Grant College Act and legislation authorizing a protective tariff. The Land Grant College Act gave money from the sale of public lands to states for the establishment of universities that taught \"agriculture and mechanical arts.\" The tariff protected northern industry from foreign competition and raised much-needed revenue for the Union war effort. It also led to a surge in manufacturing that lasted far beyond the end of the war. After 1865, northern factories, banks, and cities underwent sweeping industrialization, helping the Dnited States emerge as a global economic power. In contrast, rebuilding the South was slow and tortured. Southern cities, such as Richmond and Atlanta, lay in ruins, as did many of the region\\'s factories and railroads. The South struggled to regain its economic footing after the war, often Lincoln\\'s funeral casket is displayed to mourners in Philadelphia, Pennsylvania. \\n~oteTakinq Reading Skill: Understand Effects Use a concept web to identify the effects of the Civil War. \\nChapter 11 Section 5 393 •• J \\n', start_char_idx=None, end_char_idx=None, text_template='{metadata_str}\\n\\n{content}', metadata_template='{key}: {value}', metadata_seperator='\\n'),\n",
       " Document(id_='d0d1e615-2d08-4796-b153-855dfa5428bb', embedding=None, metadata={'page_label': '3', 'file_name': 'civil_war.pdf'}, excluded_embed_metadata_keys=[], excluded_llm_metadata_keys=[], relationships={}, hash='41e54890a6a891fe6d435ee5fe74a3a54a9c8de30dea57606e60a9b5b7788c07', text=\"I i' MO Union state la Confederate state -Union forces -Confederate forces , ~-----$ Union victory · .. Confederate victory iacour •Y~~, 10&4\\\\ 1s&4) d )'Harbor oune 3, 1\\\\862) Q Union blockade ~r~cksburg (~~:·0~:, \\\\ ersburg A,pri\\\\ 18&5) • nc 10&4-I 71 ti C r-----~L~r~~=--=~~~-;-;;;:~:;::-i J\\\\ t a 1 o,ea,71 \\\\ AR 70yw AtlanLa. Ouly-Sep ., L .> lA Gulf of Mexico I 90°W Map Skills After its momentous defeats in 1863, the Confederacy fought a defensive war until its . armies finally surrendered to Union troops. 1. Locate: (a) Gettysburg, (b) Petersburg, (c) Atlanta, (d) Appomattox Court House 2. Regions Where was most of the fighting concentrated after 1863? Why? 3. Draw Conclusions Which side do you think suffered the most as a result of the Civil War? Why? 394 ,.,.).'(ha• \\\\estun GA ,,,,._? ',,\\\\ 11 , , i•SavJr.,nan j ~--~,1~\\\\ 80':i\\\\V ______ ::ri'-1'-i --r---· \\nCivil War Deaths 400~-----300 C: :Jl ::, 0 i 200 .,, Cl. 0 100 0 Union Confederacy SOURCE: Encyclopedia Britannica A The Costs of War • Union costs: $6.1 billion; inflation 80 percent • Confederate costs: $2 billion; inflation 9,000 percent • Many southern farms, factories, and railroads were destroyed. • Southern industry was crippled. • Confederate states lost two thirds of their wealth. American Deaths in All Wars (estimates) 32.2% 49.1% I••• •• 0.4% 1.0% Civil War 623,000 World War II 407,500 World War I 116,500 Vietnam War 58,000 Korean War 37,000 Mexican-American War 13,500 American Revolution 4,SOO Other major wars 8,000 SOURCES: U.S. Military History Institute; Department of Defense The death toll from the Civil War was staggering. More than half a million soldiers died-nearly as many were killed as in all other American wars combined. Additionally, more than 500,000 soldiers were wounded in the fighting. The material devastation of the war would plague the South for decades after its defeat. \\n\", start_char_idx=None, end_char_idx=None, text_template='{metadata_str}\\n\\n{content}', metadata_template='{key}: {value}', metadata_seperator='\\n')]"
      ]
     },
     "execution_count": 143,
     "metadata": {},
     "output_type": "execute_result"
    }
   ],
   "source": [
    "page2"
   ]
  },
  {
   "cell_type": "code",
   "execution_count": 5,
   "metadata": {},
   "outputs": [],
   "source": [
    "db = chromadb.PersistentClient(path=\"C:/Users/jrdef/Documents\")"
   ]
  },
  {
   "cell_type": "code",
   "execution_count": 6,
   "metadata": {},
   "outputs": [],
   "source": [
    "chroma_collection = db.get_or_create_collection(\"quickstart\")\n"
   ]
  },
  {
   "cell_type": "code",
   "execution_count": 226,
   "metadata": {},
   "outputs": [],
   "source": [
    "prompt1 = (\n",
    "    \"for the following ducoment think carefully to Make a list of terms and definitions that are defined in the context. make sure that all possible defintions are found as my life depends on the accuracy, \"\n",
    "    \"with one pair on each line. \"\n",
    "    \"If a term is missing it's definition, use your best judgment. \"\n",
    "    \"Write each line as as follows:\\nTerm: <term> Definition: <definition>\"\n",
    ")"
   ]
  },
  {
   "cell_type": "code",
   "execution_count": 90,
   "metadata": {},
   "outputs": [],
   "source": [
    "prompt2 = (\n",
    "    \"Make a list of terms and definitions that are defined in the context, \"\n",
    "    \"with one pair on each line. \"\n",
    "    \"If a term is missing it's definition, use your best judgment. \"\n",
    "    \"Write each line as as follows:\\nTerm: <term> Definition: <definition>\"\n",
    ")"
   ]
  },
  {
   "cell_type": "code",
   "execution_count": 184,
   "metadata": {},
   "outputs": [],
   "source": [
    "prompt3 = (\n",
    "    \"Carefully review the content and identify key terms along with their definitions. \"\n",
    "    \"Please ensure each term and its corresponding definition are clearly identified and related to the context. \"\n",
    "    \"Format the output with one term-definition pair per line for easy readability. \"\n",
    "    \"In cases where a term's definition is not explicitly stated, use informed judgment to provide a concise, accurate definition. \"\n",
    "    \"If there is a name which has importance also include this as a term and then create a definition\"\n",
    "    \"Present the information in the following structured format:\\n\"\n",
    "    \"Term: <term>\\nDefinition: <definition>\\n\"\n",
    "    \"---\\n\"\n",
    "    \"Repeat this structure for each term-definition pair. Ensure accuracy and relevance in the context of the document.\"\n",
    ")"
   ]
  },
  {
   "cell_type": "code",
   "execution_count": 197,
   "metadata": {},
   "outputs": [],
   "source": [
    "prompt4 = (\n",
    "    \"Make a list of terms and definitions that are defined in the context, \"\n",
    "    \"Carefully review the content and identify key terms along with their definitions. \"\n",
    "    \"Please ensure each term and its corresponding definition are clearly identified and related to the context. \"\n",
    "    \"Format the output with one term-definition pair per line for easy readability. \"\n",
    "    \"In cases where a term's definition is not explicitly stated, use informed judgment to provide a concise, accurate definition. \"\n",
    "    \"If there is a name which has importance also include this as a term and then create a definition\"\n",
    "    \"Present the information in the following structured format:\\n\"\n",
    "    \"Term: <term>\\nDefinition: <definition>\\n\"\n",
    "    \"---\\n\"\n",
    "    \"Repeat this structure for each term-definition pair. Ensure accuracy and relevance in the context of the document.\"\n",
    ")"
   ]
  },
  {
   "cell_type": "markdown",
   "metadata": {},
   "source": [
    "TRY 3"
   ]
  },
  {
   "cell_type": "code",
   "execution_count": 221,
   "metadata": {},
   "outputs": [],
   "source": [
    "service_context = ServiceContext.from_defaults(llm=llm, chunk_size=1024)\n"
   ]
  },
  {
   "cell_type": "code",
   "execution_count": null,
   "metadata": {},
   "outputs": [],
   "source": [
    "response_synthesizer = get_response_synthesizer(\n",
    "    response_mode=\"tree_summarize\", use_async=True\n",
    ")\n",
    "index5 = doc_summary_index = DocumentSummaryIndex.from_documents(\n",
    "    page2,\n",
    "    service_context=service_context,\n",
    "    response_synthesizer=response_synthesizer\n",
    "    \n",
    ")"
   ]
  },
  {
   "cell_type": "code",
   "execution_count": 224,
   "metadata": {},
   "outputs": [],
   "source": [
    "pear1 = extract_terms(doc_summary_index)"
   ]
  },
  {
   "cell_type": "code",
   "execution_count": 225,
   "metadata": {},
   "outputs": [
    {
     "data": {
      "text/plain": [
       "{'President Lincoln': 'The leader of the North during the Civil War who played a crucial role in keeping the nation together and made the decision to issue the Emancipation Proclamation.',\n",
       " 'Emancipation': 'The act of freeing enslaved individuals, which was a fateful step taken by President Lincoln during the Civil War that changed the nature of the conflict and inspired thousands of African Americans in the North and South.',\n",
       " 'Northern Spirits': \"The determination and resolve of the people in the North during the Civil War, which was sustained by President Lincoln's leadership and the decision to issue the Emancipation Proclamation.\",\n",
       " 'Modern Warfare': 'The harsh reality of warfare experienced during the Civil War, which included high casualties and the use of new technologies such as photography to document the carnage.',\n",
       " 'Gilded Age': 'The period following the Civil War characterized by social and political disillusionment, economic greed, and superficial glitter covering up underlying decay.',\n",
       " 'Land Grant College Act': 'Legislation passed by Congress in 1862 that provided money from the sale of public lands to states for the establishment of universities focused on agriculture and mechanical arts.',\n",
       " 'Protective Tariff': 'Legislation passed by Congress in 1862 that protected northern industry from foreign competition and raised revenue for the Union war effort.',\n",
       " 'Industrialization': 'The process of developing industries and manufacturing on a large scale, which occurred in the North after the Civil War and helped the United States become a global economic power.',\n",
       " 'Rebuilding the South': 'The slow and difficult process of recovering and reconstructing the Southern states after the Civil War, which involved rebuilding cities, factories, and railroads.'}"
      ]
     },
     "execution_count": 225,
     "metadata": {},
     "output_type": "execute_result"
    }
   ],
   "source": [
    "pear1"
   ]
  },
  {
   "cell_type": "markdown",
   "metadata": {},
   "source": [
    "TRY 2"
   ]
  },
  {
   "cell_type": "code",
   "execution_count": 219,
   "metadata": {},
   "outputs": [
    {
     "data": {
      "text/plain": [
       "[Document(id_='aa14e6e3-384e-4784-9819-c4f93fb53fac', embedding=None, metadata={'page_label': '2', 'file_name': 'civil_war.pdf'}, excluded_embed_metadata_keys=[], excluded_llm_metadata_keys=[], relationships={}, hash='33ed949e40bfcbfdb0cd134c4eabf4eb366f0bd79e931dbc296240abba0e6cd8', text='The N? r ~ h  a~so enjoyed the steady leadership of President Lincoln. At a time when opm1on m the North wa\" b;tterly div1·..Jed lie ap 1· d kill t . -· • • . ,. u , p 1e uncommon s o the difficult task of keeping the :~::.,.icn t::Jg-cther. Finally, Lincoln\\'s decisior! tr, P\\'\\'G,\\'::1::\\\\·_, cn!3ncipation was a fateful step that changed the nature of the,•.-:-,;· !.__;.,;_c):\\'1 -. ,:h::ermin:::;tion-and the determina-tion of thousands of African ).:oJi·r•, \\'.c,,;, ir, rhs North and South-sustained northern spirits, even as the -\\'>\\'ar s::ipf.,c\"1 codhern resolve. 0 Checkpoint What were some of the reasons the North prevailed in the Civil War? The War\\'s Lasting Impact The United States had never experienced a war like the Civil War. Some indi-vidual battles produced casualties greater than the United States had previously sustained in entire wars. When the war was over, more than 600,000 Americans were dead. Hundreds of thousands more were maimed. The Civil War ushered in the harsh reality of modern warfare. For the first time, ordinary citizens could see the carnage of the battlefield through the pho-tographs of journalists such as Mathew Brady. His exhibition \"The Dead at Antietam\" provided graphic evidence of the terrible realities of war. Effects on the Economy After the fighting ended, social and political disil-lusionment on both sides fed economic greed. The era following the war came to be labeled the Gilded Age-a term that suggested a superficial glitter and beauty covering up an underlying decay. Nevertheless, in the North, the indus-trial boom that was fueled by the war continued. In 1862, Congress passed both the Land Grant College Act and legislation authorizing a protective tariff. The Land Grant College Act gave money from the sale of public lands to states for the establishment of universities that taught \"agriculture and mechanical arts.\" The tariff protected northern industry from foreign competition and raised much-needed revenue for the Union war effort. It also led to a surge in manufacturing that lasted far beyond the end of the war. After 1865, northern factories, banks, and cities underwent sweeping industrialization, helping the Dnited States emerge as a global economic power. In contrast, rebuilding the South was slow and tortured. Southern cities, such as Richmond and Atlanta, lay in ruins, as did many of the region\\'s factories and railroads. The South struggled to regain its economic footing after the war, often Lincoln\\'s funeral casket is displayed to mourners in Philadelphia, Pennsylvania. \\n~oteTakinq Reading Skill: Understand Effects Use a concept web to identify the effects of the Civil War. \\nChapter 11 Section 5 393 •• J \\n', start_char_idx=None, end_char_idx=None, text_template='{metadata_str}\\n\\n{content}', metadata_template='{key}: {value}', metadata_seperator='\\n'),\n",
       " Document(id_='d0d1e615-2d08-4796-b153-855dfa5428bb', embedding=None, metadata={'page_label': '3', 'file_name': 'civil_war.pdf'}, excluded_embed_metadata_keys=[], excluded_llm_metadata_keys=[], relationships={}, hash='41e54890a6a891fe6d435ee5fe74a3a54a9c8de30dea57606e60a9b5b7788c07', text=\"I i' MO Union state la Confederate state -Union forces -Confederate forces , ~-----$ Union victory · .. Confederate victory iacour •Y~~, 10&4\\\\ 1s&4) d )'Harbor oune 3, 1\\\\862) Q Union blockade ~r~cksburg (~~:·0~:, \\\\ ersburg A,pri\\\\ 18&5) • nc 10&4-I 71 ti C r-----~L~r~~=--=~~~-;-;;;:~:;::-i J\\\\ t a 1 o,ea,71 \\\\ AR 70yw AtlanLa. Ouly-Sep ., L .> lA Gulf of Mexico I 90°W Map Skills After its momentous defeats in 1863, the Confederacy fought a defensive war until its . armies finally surrendered to Union troops. 1. Locate: (a) Gettysburg, (b) Petersburg, (c) Atlanta, (d) Appomattox Court House 2. Regions Where was most of the fighting concentrated after 1863? Why? 3. Draw Conclusions Which side do you think suffered the most as a result of the Civil War? Why? 394 ,.,.).'(ha• \\\\estun GA ,,,,._? ',,\\\\ 11 , , i•SavJr.,nan j ~--~,1~\\\\ 80':i\\\\V ______ ::ri'-1'-i --r---· \\nCivil War Deaths 400~-----300 C: :Jl ::, 0 i 200 .,, Cl. 0 100 0 Union Confederacy SOURCE: Encyclopedia Britannica A The Costs of War • Union costs: $6.1 billion; inflation 80 percent • Confederate costs: $2 billion; inflation 9,000 percent • Many southern farms, factories, and railroads were destroyed. • Southern industry was crippled. • Confederate states lost two thirds of their wealth. American Deaths in All Wars (estimates) 32.2% 49.1% I••• •• 0.4% 1.0% Civil War 623,000 World War II 407,500 World War I 116,500 Vietnam War 58,000 Korean War 37,000 Mexican-American War 13,500 American Revolution 4,SOO Other major wars 8,000 SOURCES: U.S. Military History Institute; Department of Defense The death toll from the Civil War was staggering. More than half a million soldiers died-nearly as many were killed as in all other American wars combined. Additionally, more than 500,000 soldiers were wounded in the fighting. The material devastation of the war would plague the South for decades after its defeat. \\n\", start_char_idx=None, end_char_idx=None, text_template='{metadata_str}\\n\\n{content}', metadata_template='{key}: {value}', metadata_seperator='\\n')]"
      ]
     },
     "execution_count": 219,
     "metadata": {},
     "output_type": "execute_result"
    }
   ],
   "source": [
    "page2"
   ]
  },
  {
   "cell_type": "code",
   "execution_count": 211,
   "metadata": {},
   "outputs": [],
   "source": [
    "transformations = [\n",
    "    TokenTextSplitter(chunk_size=128, chunk_overlap=64),\n",
    "    TitleExtractor(nodes=5),\n",
    "    QuestionsAnsweredExtractor(questions=3),\n",
    "]\n",
    "\n",
    "service_context = ServiceContext.from_defaults(\n",
    "    transformations=transformations\n",
    ")"
   ]
  },
  {
   "cell_type": "code",
   "execution_count": 214,
   "metadata": {},
   "outputs": [],
   "source": [
    "vector_store = ChromaVectorStore(chroma_collection=chroma_collection)\n",
    "# setup our storage (vector db)\n",
    "storage_context = StorageContext.from_defaults(\n",
    "    vector_store=vector_store\n",
    ")\n",
    "# setup the index/query process, ie the embedding model (and completion if used)\n",
    "embed_model = OpenAIEmbedding(model='text-embedding-ada-002', embed_batch_size=100)\n",
    "service_context = ServiceContext.from_defaults(embed_model=embed_model)\n",
    "\n",
    "index4 = GPTVectorStoreIndex.from_documents(\n",
    "    page2, storage_context=storage_context,\n",
    "    service_context=service_context\n",
    ")"
   ]
  },
  {
   "cell_type": "code",
   "execution_count": 216,
   "metadata": {},
   "outputs": [],
   "source": [
    "banana1 = extract_terms(index4)"
   ]
  },
  {
   "cell_type": "code",
   "execution_count": 227,
   "metadata": {},
   "outputs": [
    {
     "data": {
      "text/plain": [
       "{'secession': 'the act of a state leaving or withdrawing from the Union',\n",
       " 'Reconstruction': 'the period after the Civil War in which the United States government worked to rebuild the Southern states and integrate newly freed African Americans into society',\n",
       " 'stipulations': 'conditions or requirements that must be met',\n",
       " 'freedmen': 'formerly enslaved African Americans',\n",
       " 'productivity': 'the ability to produce goods or services',\n",
       " 'citizenship': 'the status of being a member of a particular country and having rights and responsibilities within that country',\n",
       " 'Proclamation of Amnesty and Reconstruction': 'a plan issued by President Lincoln that offered leniency to the South and outlined conditions for states to rejoin the Union',\n",
       " 'loyalty oath': 'a pledge of allegiance or loyalty to a particular entity or cause',\n",
       " 'military districts': 'geographic areas under the control of military commanders',\n",
       " 'Fourteenth Amendment': 'an amendment to the Constitution that guaranteed equal rights and protection under the law for all citizens',\n",
       " 'suffrage': 'the right to vote',\n",
       " 'impeachment': 'the process of charging a public official with wrongdoing in office'}"
      ]
     },
     "execution_count": 227,
     "metadata": {},
     "output_type": "execute_result"
    }
   ],
   "source": [
    "banana1"
   ]
  },
  {
   "cell_type": "markdown",
   "metadata": {},
   "source": [
    "TRY 1"
   ]
  },
  {
   "cell_type": "code",
   "execution_count": 169,
   "metadata": {},
   "outputs": [],
   "source": [
    "def get_llm(openai_api_key, max_tokens=8192):\n",
    "    os.environ[\"OPENAI_API_KEY\"] = openai_api_key\n",
    "    return OpenAI(\n",
    "        temperature=0.0, model='gpt-3.5-turbo-16k', max_tokens=max_tokens\n",
    "    )"
   ]
  },
  {
   "cell_type": "code",
   "execution_count": null,
   "metadata": {},
   "outputs": [],
   "source": [
    "def get_index(documents, llm, api_key):\n",
    "\n",
    "    service_context = ServiceContext.from_defaults(llm=llm, chunk_size=512, chunk_overlap=200)\n",
    "\n",
    "    response_synthesizer = get_response_synthesizer(\n",
    "    response_mode=\"tree_summarize\", use_async=True\n",
    "    )\n",
    "    \n",
    "    temp_index = SummaryIndex.from_documents(\n",
    "        documents, \n",
    "        service_context=service_context\n",
    "    )\n",
    "\n",
    "    return llm, temp_index"
   ]
  },
  {
   "cell_type": "code",
   "execution_count": 215,
   "metadata": {},
   "outputs": [],
   "source": [
    "def extract_terms(index):\n",
    "    query_engine = index.as_query_engine()\n",
    "\n",
    "\n",
    "    terms_definitions = str(query_engine.query(prompt2))\n",
    "    terms_definitions = [\n",
    "        x\n",
    "        for x in terms_definitions.split(\"\\n\")\n",
    "        if x and \"Term:\" in x and \"Definition:\" in x\n",
    "    ]\n",
    "    # parse the text into a dict\n",
    "    terms_to_definition = {\n",
    "        x.split(\"Definition:\")[0]\n",
    "        .split(\"Term:\")[-1]\n",
    "        .strip(): x.split(\"Definition:\")[-1]\n",
    "        .strip()\n",
    "        for x in terms_definitions\n",
    "    }\n",
    "    return terms_to_definition"
   ]
  },
  {
   "cell_type": "code",
   "execution_count": 220,
   "metadata": {},
   "outputs": [],
   "source": [
    "llm = get_llm(openai_api_key)\n"
   ]
  },
  {
   "cell_type": "code",
   "execution_count": 173,
   "metadata": {},
   "outputs": [],
   "source": [
    "llm2, index3 = get_index(page2, llm, openai_api_key)"
   ]
  },
  {
   "cell_type": "code",
   "execution_count": 203,
   "metadata": {},
   "outputs": [],
   "source": [
    "index3.storage_context.persist(persist_dir=\"C:/Users/jrdef/Documents\")"
   ]
  },
  {
   "cell_type": "code",
   "execution_count": 200,
   "metadata": {},
   "outputs": [],
   "source": [
    "apple10 = extract_terms(index3)"
   ]
  },
  {
   "cell_type": "code",
   "execution_count": 202,
   "metadata": {},
   "outputs": [
    {
     "data": {
      "text/plain": [
       "{}"
      ]
     },
     "execution_count": 202,
     "metadata": {},
     "output_type": "execute_result"
    }
   ],
   "source": [
    "apple10"
   ]
  },
  {
   "cell_type": "code",
   "execution_count": 189,
   "metadata": {},
   "outputs": [
    {
     "data": {
      "text/plain": [
       "{'President Lincoln': 'The leader of the North during the Civil War who played a crucial role in keeping the nation together and issued the Emancipation Proclamation.',\n",
       " 'Modern warfare': 'The type of warfare that was introduced during the Civil War, characterized by high casualties and the use of new technologies.',\n",
       " 'Gilded Age': 'The period following the Civil War characterized by economic greed and social and political disillusionment, particularly in the North.',\n",
       " 'Land Grant College Act': 'Legislation passed by Congress in 1862 that provided money from the sale of public lands to states for the establishment of universities focused on agriculture and mechanical arts.',\n",
       " 'Protective tariff': 'Legislation passed by Congress in 1862 that imposed taxes on imported goods, protecting northern industries from foreign competition and raising revenue for the Union war effort.',\n",
       " 'Industrialization': 'The process of developing industries on a large scale, which occurred in the North after the Civil War and helped the United States become a global economic power.',\n",
       " 'Reconstruction': 'The process of rebuilding the South after the Civil War, which was slow and difficult due to the destruction of cities, factories, and railroads.',\n",
       " 'Confederacy': 'The group of southern states that seceded from the Union and fought against the North during the Civil War.',\n",
       " 'Union': 'The group of northern states that remained part of the United States and fought against the Confederacy during the Civil War.',\n",
       " 'Emancipation Proclamation': 'The decision made by President Lincoln to free slaves in Confederate territory, which changed the nature of the war and inspired thousands of African Americans to join the Union cause.'}"
      ]
     },
     "execution_count": 189,
     "metadata": {},
     "output_type": "execute_result"
    }
   ],
   "source": [
    "apple9"
   ]
  },
  {
   "cell_type": "code",
   "execution_count": 111,
   "metadata": {},
   "outputs": [
    {
     "data": {
      "text/plain": [
       "{\"Lincoln's decision\": \"Refers to President Lincoln's decision to issue the Emancipation Proclamation, which declared that all slaves in Confederate territory were to be set free.\",\n",
       " 'Emancipation': 'The act of setting slaves free from bondage or servitude.',\n",
       " 'North': 'Refers to the northern states of the United States during the Civil War, which were opposed to slavery and fought against the Confederate states.',\n",
       " 'South': 'Refers to the southern states of the United States during the Civil War, which seceded from the Union and fought to preserve slavery.',\n",
       " 'Civil War': 'Refers to the war fought between the northern and southern states of the United States from 1861 to 1865, primarily over the issue of slavery.',\n",
       " 'Casualties': 'Refers to the number of people killed, wounded, or missing in action during a war or battle.',\n",
       " 'Modern warfare': 'Refers to the use of advanced technology and tactics in warfare, often resulting in high casualties and destruction.',\n",
       " 'Gilded Age': 'Refers to the period in American history following the Civil War, characterized by rapid industrialization and economic growth, but also marked by social and political corruption.'}"
      ]
     },
     "execution_count": 111,
     "metadata": {},
     "output_type": "execute_result"
    }
   ],
   "source": [
    "apple1"
   ]
  },
  {
   "cell_type": "code",
   "execution_count": 138,
   "metadata": {},
   "outputs": [
    {
     "data": {
      "text/plain": [
       "{'President Lincoln': 'The leader of the North during the Civil War who played a crucial role in keeping the nation together and made the fateful decision to issue the Emancipation Proclamation.',\n",
       " 'Emancipation Proclamation': 'A decision made by President Lincoln that declared all slaves in Confederate territory to be free, changing the nature of the war and inspiring thousands of African Americans to join the Union cause.',\n",
       " 'Civil War': 'A war fought between the Northern states (Union) and the Southern states (Confederacy) from 1861 to 1865, resulting in the deaths of over 600,000 Americans and ushering in the harsh reality of modern warfare.',\n",
       " 'Gilded Age': 'The era following the Civil War characterized by social and political disillusionment, economic greed, and superficial glitter and beauty covering up underlying decay.',\n",
       " 'Land Grant College Act': 'Legislation passed by Congress in 1862 that provided money from the sale of public lands to states for the establishment of universities focused on agriculture and mechanical arts.',\n",
       " 'Protective Tariff': 'Legislation passed by Congress in 1862 that protected northern industry from foreign competition and raised revenue for the Union war effort, leading to a surge in manufacturing and the emergence of the United'}"
      ]
     },
     "execution_count": 138,
     "metadata": {},
     "output_type": "execute_result"
    }
   ],
   "source": [
    "apple2"
   ]
  },
  {
   "cell_type": "code",
   "execution_count": 141,
   "metadata": {},
   "outputs": [
    {
     "data": {
      "text/plain": [
       "{'President Lincoln': 'The leader of the North during the Civil War.',\n",
       " 'Emancipation': \"Lincoln's decision to free the slaves, which changed the nature of the war.\",\n",
       " 'Determination': 'The resolve and perseverance of African Americans in the North and South during the war.',\n",
       " 'Casualties': 'The number of people killed or injured in individual battles during the war.',\n",
       " 'Modern warfare': 'The harsh reality of war that was experienced for the first time during the Civil War.',\n",
       " 'Gilded Age': 'The era following the war characterized by superficial glitter and beauty covering up underlying decay.',\n",
       " 'Land Grant College Act': 'Legislation that provided money to states for the establishment of universities teaching agriculture and mechanical arts.',\n",
       " 'Protective tariff': 'Legislation that protected northern industry from foreign competition and raised revenue for the Union war effort.',\n",
       " 'Industrialization': 'The process of developing industries and manufacturing in the North after the war.',\n",
       " 'Rebuilding': \"The slow and difficult process of restoring the South's economy and infrastructure after the war.\"}"
      ]
     },
     "execution_count": 141,
     "metadata": {},
     "output_type": "execute_result"
    }
   ],
   "source": [
    "apple3"
   ]
  },
  {
   "cell_type": "code",
   "execution_count": 149,
   "metadata": {},
   "outputs": [
    {
     "data": {
      "text/plain": [
       "{'President Lincoln': 'The leader of the North during the Civil War who played a crucial role in keeping the nation together and issued the Emancipation Proclamation.',\n",
       " 'Modern warfare': 'The type of warfare that was introduced during the Civil War, characterized by high casualties and the use of new technologies.',\n",
       " 'Gilded Age': 'The period following the Civil War characterized by economic greed and social and political disillusionment, particularly in the North.',\n",
       " 'Land Grant College Act': 'Legislation passed by Congress in 1862 that provided money from the sale of public lands to states for the establishment of universities focused on agriculture and mechanical arts.',\n",
       " 'Protective tariff': 'Legislation passed by Congress in 1862 that imposed taxes on imported goods, protecting northern industries from foreign competition and generating revenue for the Union war effort.',\n",
       " 'Industrialization': 'The process of developing industries on a large scale, which occurred in the North after the Civil War and helped the United States become a global economic power.',\n",
       " 'Reconstruction': 'The process of rebuilding the South after the Civil War, which was slow and difficult due to the destruction of cities, factories, and railroads.',\n",
       " 'Confederacy': 'The group of southern states that seceded from the Union and'}"
      ]
     },
     "execution_count": 149,
     "metadata": {},
     "output_type": "execute_result"
    }
   ],
   "source": [
    "apple4"
   ]
  },
  {
   "cell_type": "code",
   "execution_count": 155,
   "metadata": {},
   "outputs": [
    {
     "data": {
      "text/plain": [
       "{'President Lincoln': 'The leader of the North during the Civil War who played a crucial role in keeping the nation together and issued the Emancipation Proclamation.',\n",
       " 'Emancipation': 'The act of freeing enslaved individuals, which was a fateful step taken by President Lincoln during the Civil War.',\n",
       " 'Gilded Age': 'The era following the Civil War characterized by economic greed and a superficial glitter covering up underlying decay.',\n",
       " 'Land Grant College Act': 'Legislation passed by Congress in 1862 that provided money from the sale of public lands to states for the establishment of universities teaching agriculture and mechanical arts.',\n",
       " 'Protective tariff': 'Legislation passed by Congress in 1862 that imposed taxes on imported goods to protect northern industry from foreign competition and raise revenue for the Union war effort.',\n",
       " 'Industrialization': 'The process of developing industries on a large scale, which occurred in the North after the Civil War and helped the United States become a global economic power.',\n",
       " 'Reconstruction': 'The process of rebuilding the South after the Civil War, which was slow and difficult due to the destruction of cities, factories, and railroads.',\n",
       " 'Confederacy': 'The southern states that seceded from the Union and fought against the North during the Civil War.',\n",
       " 'Union': 'The northern states that remained part of the United States and fought against the Confederacy during the Civil War.',\n",
       " 'Gettysburg': 'A significant battle during the Civil War that took place in Gettysburg, Pennsylvania and resulted in a Union victory.',\n",
       " 'Petersburg': 'A city in Virginia where a major battle took place during the Civil War, with Union forces eventually capturing the city.',\n",
       " 'Atlanta': 'A city in Georgia that was a key target for Union forces during the Civil War and was eventually captured.',\n",
       " 'Appomattox Court House': 'The location in Virginia where Confederate General Robert E. Lee surrendered to Union General Ulysses S. Grant, effectively ending the Civil War.',\n",
       " 'Inflation': 'A general increase in prices and decrease in the purchasing power of money, which was experienced to a significant extent during and after the Civil War.',\n",
       " 'Casualties': 'The number of people killed, wounded, or missing in action during a war or battle.'}"
      ]
     },
     "execution_count": 155,
     "metadata": {},
     "output_type": "execute_result"
    }
   ],
   "source": [
    "apple5"
   ]
  },
  {
   "cell_type": "code",
   "execution_count": 159,
   "metadata": {},
   "outputs": [
    {
     "data": {
      "text/plain": [
       "{'President Lincoln': 'The leader of the North during the Civil War who played a crucial role in keeping the nation together and issued the Emancipation Proclamation.',\n",
       " 'Modern warfare': 'The type of warfare that was introduced during the Civil War, characterized by high casualties and the use of new technologies.',\n",
       " 'Gilded Age': 'The period following the Civil War characterized by economic greed and social and political disillusionment, particularly in the North.',\n",
       " 'Land Grant College Act': 'Legislation passed by Congress in 1862 that provided money from the sale of public lands to states for the establishment of universities focused on agriculture and mechanical arts.',\n",
       " 'Protective tariff': 'Legislation passed by Congress in 1862 that imposed taxes on imported goods, protecting northern industries from foreign competition and generating revenue for the Union war effort.',\n",
       " 'Industrialization': 'The process of developing industries on a large scale, which occurred in the North after the Civil War and helped the United States become a global economic power.',\n",
       " 'Reconstruction': 'The process of rebuilding the South after the Civil War, which was slow and difficult due to the destruction of cities, factories, and railroads.',\n",
       " 'Confederacy': 'The group of southern states that seceded from the Union and fought against the North during the Civil War.',\n",
       " 'Union': 'The group of northern states that remained part of the United States and fought against the Confederacy during the Civil War.',\n",
       " 'Emancipation Proclamation': 'The decision made by President Lincoln to free enslaved people in Confederate territory, which had a significant impact on the nature of the war and the determination of African Americans in the North and South.'}"
      ]
     },
     "execution_count": 159,
     "metadata": {},
     "output_type": "execute_result"
    }
   ],
   "source": [
    "apple6"
   ]
  },
  {
   "cell_type": "code",
   "execution_count": 180,
   "metadata": {},
   "outputs": [
    {
     "data": {
      "text/plain": [
       "{}"
      ]
     },
     "execution_count": 180,
     "metadata": {},
     "output_type": "execute_result"
    }
   ],
   "source": [
    "apple8"
   ]
  }
 ],
 "metadata": {
  "kernelspec": {
   "display_name": "Python 3",
   "language": "python",
   "name": "python3"
  },
  "language_info": {
   "codemirror_mode": {
    "name": "ipython",
    "version": 3
   },
   "file_extension": ".py",
   "mimetype": "text/x-python",
   "name": "python",
   "nbconvert_exporter": "python",
   "pygments_lexer": "ipython3",
   "version": "3.11.7"
  }
 },
 "nbformat": 4,
 "nbformat_minor": 2
}
