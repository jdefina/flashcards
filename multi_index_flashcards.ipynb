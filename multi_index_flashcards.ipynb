{
 "cells": [
  {
   "cell_type": "code",
   "execution_count": 65,
   "metadata": {},
   "outputs": [],
   "source": [
    "from dotenv import load_dotenv\n",
    "import os\n",
    "import openai\n",
    "import llama_index\n",
    "from llama_index import Document\n",
    "from llama_index import StorageContext, ServiceContext\n",
    "from llama_index.storage.storage_context import StorageContext\n",
    "from llama_index.embeddings.openai import OpenAIEmbedding\n",
    "from pathlib import Path\n",
    "from llama_index.embeddings import OpenAIEmbedding\n",
    "from llama_index.text_splitter import SentenceSplitter\n",
    "from llama_index.ingestion import IngestionPipeline, IngestionCache\n",
    "from pathlib import Path\n",
    "from llama_index import download_loader\n",
    "from llama_index.indices.document_summary import DocumentSummaryIndex\n",
    "from llama_index.llms import OpenAI\n",
    "from llama_index import (\n",
    "    SimpleDirectoryReader,\n",
    "    get_response_synthesizer,\n",
    ")\n",
    "from llama_index.ingestion import IngestionPipeline\n",
    "import asyncio\n",
    "from llama_index import (\n",
    "    load_index_from_storage,\n",
    "    set_global_service_context\n",
    ")\n",
    "from llama_index.callbacks import CallbackManager, TokenCountingHandler\n",
    "from llama_index.node_parser import SentenceSplitter\n",
    "import tiktoken\n",
    "from llama_index import set_global_handler\n",
    "import asyncio\n",
    "from threading import Thread\n",
    "import queue\n",
    "from concurrent.futures import ThreadPoolExecutor\n",
    "import pandas as pd\n",
    "import time\n",
    "import concurrent.futures\n"
   ]
  },
  {
   "cell_type": "markdown",
   "metadata": {},
   "source": [
    "#### OPEN AI STUFF"
   ]
  },
  {
   "cell_type": "code",
   "execution_count": 66,
   "metadata": {},
   "outputs": [],
   "source": [
    "OPENAI_API_KEY = ''"
   ]
  },
  {
   "cell_type": "code",
   "execution_count": 67,
   "metadata": {},
   "outputs": [],
   "source": [
    "os.environ['OPENAI_API_KEY'] = OPENAI_API_KEY"
   ]
  },
  {
   "cell_type": "markdown",
   "metadata": {},
   "source": [
    "#### PDF READER AND CHUNKING"
   ]
  },
  {
   "cell_type": "code",
   "execution_count": 37,
   "metadata": {},
   "outputs": [],
   "source": [
    "PDFReader = download_loader(\"PDFReader\")\n",
    "\n",
    "loader = PDFReader()\n",
    "documents = loader.load_data(file=Path('C:/Users/jrdef/Downloads/DesELD Day2.pdf'))"
   ]
  },
  {
   "cell_type": "code",
   "execution_count": 64,
   "metadata": {},
   "outputs": [
    {
     "name": "stdout",
     "output_type": "stream",
     "text": [
      "['Designated English Language Development \\nDay Two \\nSvetlana J. Lazarova and Tonja Byrom \\n  Learning Objectives \\nBy the end of this presentation, you will be able to: \\n●Deﬁne language objectives and language functions, \\n●Create standards-based, functional language objectives, \\n●Align vocabulary and language structures with language \\nfunctions, and \\n●Access Uﬂo and complete practice activities. \\n 1.Language Objectives and Language \\nFunctions \\na.Practicum #3: Creating Functional \\nObjectives for the Three Modes of \\nCommunication \\n2.Tiered Vocabulary and Structures in Service \\nof Communication \\na.Practicum #4: Planning Language \\nFunctions, Structures, and Vocabulary \\n3.Uﬂo Tool \\nT oday’s Agenda \\n Language \\nObjectives and \\nLanguage Functions 1\\nPlanning for Language Use in \\nSupport of Content Learning  W iggins and M c T ighe. (2005). U nders tanding b y D esign. Learning O bjectiv es \\nfr om ELD S tandar ds and \\ninclusiv e o f all 3 modes o f \\nc omm unica tion \\nP erf ormanc e Assessmen t Language-Speciﬁc Approach to Backward Design \\nI ns truction and practic e in \\nall modes, with tar get ed \\nv ocabulary and s tructur es \\n Content Objectives and Language Objectives \\nDeﬁne what students must know \\nand be able to do within the \\ntopic of a lesson or a unit. \\n●Content-focused \\n●Standards-based \\n●Measurable Identify the language students \\nwill  need to use  in order to \\nunderstand, interact with, and \\npresent about with the content \\nof the lesson. \\n●Communication-focused \\n(grounded in language function) \\n●Content-based \\n Let’s Examine an Example \\nContent Objective: Draft \\na paragraph about an experience \\nwith the animal world. \\nLanguage Objective:  \\nUsing transitional phrases within a \\nparagraph, describe an experience \\nwith the animal world. What do you notice about \\nthe language objective? \\n●Speciﬁc Academic Language \\n●Communication-Focused Task \\n Communication-Focused Language Objectives: \\nLanguage Functions \\nA language function refers to what students DO with the English \\nlanguage as they engage with content and interact with others. \\nAcademic Language and Functions: https://drive.google.com/ﬁle/d/1T4K8buFRI9yT3nAeygyP8k_jtUHcjCtd/view?usp=sharing  (Colorín Colorado) \\n Language Objectives: \\nBloom’s Verb Wheel \\nMeasurable Objectives \\n●Modes of Communication \\n●Higher-Order Thinking \\nSkills \\nNB: For ALL proﬁciency levels \\n ● Gr eet o thers \\nappr opria t ely . \\n● I n tr oduc e themselv es \\nwhen the y meet people. \\n● Ask and r espond t o \\nques tions about v ery \\nbasic personal \\nin f orma tion. \\n● Ask and t ell o thers \\nwhether or no t the y \\nunders tand them. \\n● Ask and t ell wha t f ood \\nthe y lik e or dislik e. \\n● U se a pho t o t o ask and \\nt ell about f amily .', \"● I n tr oduc e themselv es \\nwhen the y meet people. \\n● Ask and r espond t o \\nques tions about v ery \\nbasic personal \\nin f orma tion. \\n● Ask and t ell o thers \\nwhether or no t the y \\nunders tand them. \\n● Ask and t ell wha t f ood \\nthe y lik e or dislik e. \\n● U se a pho t o t o ask and \\nt ell about f amily . ● S har e ideas with o thers \\nabout ho w t o c elebra t e \\na friend's birthda y . \\n● Mak e a ho t el \\nr eserv a tion b y phone. \\n● P os t a r eaction t o a \\nfriend's social media \\npos t about a c onc ert \\nthe y a tt ended. \\n● P articipa t e in a \\nc on v ersa tion with a \\npartner t o iden tify the \\nin f orma tion the y need \\nt o plan a trip . ● D escribe ho w and wh y \\none beha v es in a c ertain \\nw a y when visiting a \\nf amily f or dinner . \\n● I n t eract with the ho t el \\ns ta ff t o c omplain. \\n● C on tribut e t o an online \\ndiscussion about a \\ncurr en t social issue. \\n● D iscuss curr en t issues \\nr ela t ed t o immigra tion \\nand outline the curr en t \\nrules f or getting \\ncitizenship . Functional Objectives in the Collaborative  Mode \\nE mer ging                         Expanding                     B ridging \\n Practicum #3: Creating Functional Objectives for \\nthe Three Modes of Communication \\nConsider a current or future thematic unit of study through the lens of the \\nthree parts of the CA ELD Standards. \\nCreate at least three functional language objectives for this unit; \\none for each mode of communication. \\n 10 \\nMINUTE \\nBREAK \\n Share and Debrief \\nIn your groups share the functional language objectives you \\ncreated for each mode of communication during Practicum #3. \\n Open \\nDiscussion: \\nHow do we \\nsupport English \\nlanguage \\ndevelopment \\nthrough \\nintegration of \\nall content? \\nCurtain, H. I., & Dahlberg, C. A. A. (2015) . Languages and learners: Making the match: World language instruction in K-8 classrooms and beyond . Pearson. \\n Tiered Vocabulary \\nand Structures in \\nService of \\nCommunication 2\\nPlanning to Support Language \\nReception and Production \\n W iggins and M c T ighe. (2005). U nders tanding b y D esign. P erf ormanc e Assessmen t Language-Speciﬁc Approach to Backward Design \\nI ns truction and practic e in \\nall modes, with tar get ed \\nv ocabulary and s tructur es Learning O bjectiv es \\nfr om ELD S tandar ds and \\ninclusiv e o f all 3 modes o f \\nc omm unica tion \\n W iggins and M c T ighe. (2005). U nders tanding b y D esign.\", '(2015) . Languages and learners: Making the match: World language instruction in K-8 classrooms and beyond . Pearson. \\n Tiered Vocabulary \\nand Structures in \\nService of \\nCommunication 2\\nPlanning to Support Language \\nReception and Production \\n W iggins and M c T ighe. (2005). U nders tanding b y D esign. P erf ormanc e Assessmen t Language-Speciﬁc Approach to Backward Design \\nI ns truction and practic e in \\nall modes, with tar get ed \\nv ocabulary and s tructur es Learning O bjectiv es \\nfr om ELD S tandar ds and \\ninclusiv e o f all 3 modes o f \\nc omm unica tion \\n W iggins and M c T ighe. (2005). U nders tanding b y D esign. Language-Speciﬁc Approach to Backward Design \\nLearning O bjectiv es \\nfr om ELD S tandar ds and \\ninclusiv e o f all 3 modes o f \\nc omm unica tion \\nP erf ormanc e Assessmen t \\nI ns truction and practic e in \\nall modes, with tar get ed \\nv ocabulary and s tructur es \\n ELD \\nStandards \\nModes of \\nCommunication Integrate: \\nBackward Design in \\nLanguage Learning Collaborative \\nTask Interpretive \\nTask \\nProductive  \\nTask \\nA dap t ed fr om \\nO hio D epartmen t o f E duca tion, 2017 \\n BEFORE  We Plan  Learning Experiences and Instruction \\nLanguage Functions Related Structures and Patterns  From your language \\nobjectives: What are \\nthe functions you \\nidentiﬁed? \\nFlood the Chat\\n Structures in Service of Communication: How English Works \\nFunction and Meaning \\nBEFORE \\nForm and Grammar \\nLanguage \\nFunctions Related Structures \\nand Language Patterns \\n compare comparative and \\nsuperlative of adj. & adv. \\n Tiered Vocabulary and Academic Language \\nThe Keys to Planning for Language Learning (2014). Clementi and Terrill. Tier 2 examples: obvious , complex , establish , argue and verify .Tier 3 examples: burner, photosynthesis, election, and court.  \\n 1) Identify the language functions \\nstudents will use in order to \\nunderstand, exchange, and produce \\nlanguage. Make sure that functions \\nmove from lower- to higher-order \\nthinking skills throughout the unit,    \\nat all proﬁciency levels. \\n2) Identify the \\ngrammatical structures \\nand language patterns \\nstudents will need to \\nlearn and practice for \\neach function. There \\nmay be many. 3) List the vocabulary \\nstudents will need to \\nknow in order to \\nunderstand, exchange, \\nand produce language \\nin relation to the unit of \\nstudy. Consider how your students are using language in the unit of study you \\nbegan planning in Practicum #3 . Using the organizer for Practicum #4: \\nPracticum #4: Planning Language Functions, Structures, and Vocabulary \\n Share and Debrief \\nIn your groups share the language functions, related structures, \\nand vocabulary you created during Practicum #4.', 'Make sure that functions \\nmove from lower- to higher-order \\nthinking skills throughout the unit,    \\nat all proﬁciency levels. \\n2) Identify the \\ngrammatical structures \\nand language patterns \\nstudents will need to \\nlearn and practice for \\neach function. There \\nmay be many. 3) List the vocabulary \\nstudents will need to \\nknow in order to \\nunderstand, exchange, \\nand produce language \\nin relation to the unit of \\nstudy. Consider how your students are using language in the unit of study you \\nbegan planning in Practicum #3 . Using the organizer for Practicum #4: \\nPracticum #4: Planning Language Functions, Structures, and Vocabulary \\n Share and Debrief \\nIn your groups share the language functions, related structures, \\nand vocabulary you created during Practicum #4. \\n Using Uﬂo 3 Applying Learning to Practice \\n Brandon and Sina: \\nHere is the learning objective we created for Day 2’s \\ntraining (re:Uﬂo):  Create a Uﬂo account and complete \\npractice activities within the app. \\n1.Please do not mess with any of the other slides in this \\nslide deck (: - because we will know and send our \\npeople after you! \\n2.Feel free to add slides below here. \\n3.You have up to 30 minutes for your training of people, \\nso please create any instructions and activities to guide \\nthem to create their account, how to use the platform, \\nand send them oﬀ to complete the practice activities \\nthat are there.']\n"
     ]
    }
   ],
   "source": [
    "doc_chunks = process_documents(documents)"
   ]
  },
  {
   "cell_type": "code",
   "execution_count": 61,
   "metadata": {},
   "outputs": [
    {
     "data": {
      "text/plain": [
       "[Document(id_='0f40ac27-6077-4e9f-a16c-82438f33be3c', embedding=None, metadata={'page_label': '1', 'file_name': 'DesELD Day2.pdf'}, excluded_embed_metadata_keys=[], excluded_llm_metadata_keys=[], relationships={}, hash='e8f6b4f1ffe7f7e388e6834af6c64e4ee7561d253c87113c3a90e1edc660b5ad', text='Designated English Language Development \\nDay Two \\nSvetlana J. Lazarova and Tonja Byrom \\n ', start_char_idx=None, end_char_idx=None, text_template='{metadata_str}\\n\\n{content}', metadata_template='{key}: {value}', metadata_seperator='\\n'),\n",
       " Document(id_='42c8eaa4-6e55-48ea-8b81-8e80fa3cb71b', embedding=None, metadata={'page_label': '2', 'file_name': 'DesELD Day2.pdf'}, excluded_embed_metadata_keys=[], excluded_llm_metadata_keys=[], relationships={}, hash='bf190a96fd5c7123a9b1035eb7f01c9ec7bda8d53557698af9f1bccbbb4f3742', text='Learning Objectives \\nBy the end of this presentation, you will be able to: \\n●Deﬁne language objectives and language functions, \\n●Create standards-based, functional language objectives, \\n●Align vocabulary and language structures with language \\nfunctions, and \\n●Access Uﬂo and complete practice activities. \\n', start_char_idx=None, end_char_idx=None, text_template='{metadata_str}\\n\\n{content}', metadata_template='{key}: {value}', metadata_seperator='\\n'),\n",
       " Document(id_='91f6e568-3a30-464f-ae84-a6b931700186', embedding=None, metadata={'page_label': '3', 'file_name': 'DesELD Day2.pdf'}, excluded_embed_metadata_keys=[], excluded_llm_metadata_keys=[], relationships={}, hash='e33aca59cc9942a0ab4efe10a2b4fbffc40b869c08b89d5507aa2b73ca2ea23d', text='1.Language Objectives and Language \\nFunctions \\na.Practicum #3: Creating Functional \\nObjectives for the Three Modes of \\nCommunication \\n2.Tiered Vocabulary and Structures in Service \\nof Communication \\na.Practicum #4: Planning Language \\nFunctions, Structures, and Vocabulary \\n3.Uﬂo Tool \\nT oday’s Agenda \\n', start_char_idx=None, end_char_idx=None, text_template='{metadata_str}\\n\\n{content}', metadata_template='{key}: {value}', metadata_seperator='\\n'),\n",
       " Document(id_='76f59e59-0ff3-427b-aa77-358ac592b010', embedding=None, metadata={'page_label': '4', 'file_name': 'DesELD Day2.pdf'}, excluded_embed_metadata_keys=[], excluded_llm_metadata_keys=[], relationships={}, hash='a2037ea8f3ca78e86a3814c1bdc17bf1083956f51eba2c5831e4d1eee7f2fd07', text='Language \\nObjectives and \\nLanguage Functions 1\\nPlanning for Language Use in \\nSupport of Content Learning ', start_char_idx=None, end_char_idx=None, text_template='{metadata_str}\\n\\n{content}', metadata_template='{key}: {value}', metadata_seperator='\\n'),\n",
       " Document(id_='51659f99-f872-4c8a-be97-94c1fed7a110', embedding=None, metadata={'page_label': '5', 'file_name': 'DesELD Day2.pdf'}, excluded_embed_metadata_keys=[], excluded_llm_metadata_keys=[], relationships={}, hash='14df02e92fd7df51d193cc35036caebb1492b142fb6d01f590b6a3fce6e52ae4', text='W iggins and M c T ighe. (2005). U nders tanding b y D esign. Learning O bjectiv es \\nfr om ELD S tandar ds and \\ninclusiv e o f all 3 modes o f \\nc omm unica tion \\nP erf ormanc e Assessmen t Language-Speciﬁc Approach to Backward Design \\nI ns truction and practic e in \\nall modes, with tar get ed \\nv ocabulary and s tructur es \\n', start_char_idx=None, end_char_idx=None, text_template='{metadata_str}\\n\\n{content}', metadata_template='{key}: {value}', metadata_seperator='\\n'),\n",
       " Document(id_='75296539-1985-4388-b339-c2bc1e879f17', embedding=None, metadata={'page_label': '6', 'file_name': 'DesELD Day2.pdf'}, excluded_embed_metadata_keys=[], excluded_llm_metadata_keys=[], relationships={}, hash='9db8e477ac0e3847b358c99dee44054ed0bd09eb78d269f2e06d4ece1cf78996', text='Content Objectives and Language Objectives \\nDeﬁne what students must know \\nand be able to do within the \\ntopic of a lesson or a unit. \\n●Content-focused \\n●Standards-based \\n●Measurable Identify the language students \\nwill  need to use  in order to \\nunderstand, interact with, and \\npresent about with the content \\nof the lesson. \\n●Communication-focused \\n(grounded in language function) \\n●Content-based \\n', start_char_idx=None, end_char_idx=None, text_template='{metadata_str}\\n\\n{content}', metadata_template='{key}: {value}', metadata_seperator='\\n'),\n",
       " Document(id_='6f614b65-744f-45a9-ac2f-cc7ad9f043c3', embedding=None, metadata={'page_label': '7', 'file_name': 'DesELD Day2.pdf'}, excluded_embed_metadata_keys=[], excluded_llm_metadata_keys=[], relationships={}, hash='4f1e0a2d5eed6395e8e56bf16908ec4d1a661702dd0cc13e458858d138808b31', text='Let’s Examine an Example \\nContent Objective: Draft \\na paragraph about an experience \\nwith the animal world. \\nLanguage Objective:  \\nUsing transitional phrases within a \\nparagraph, describe an experience \\nwith the animal world. What do you notice about \\nthe language objective? \\n●Speciﬁc Academic Language \\n●Communication-Focused Task \\n', start_char_idx=None, end_char_idx=None, text_template='{metadata_str}\\n\\n{content}', metadata_template='{key}: {value}', metadata_seperator='\\n'),\n",
       " Document(id_='61f7a806-6c59-4e43-9a3a-e08f6cdbfb20', embedding=None, metadata={'page_label': '8', 'file_name': 'DesELD Day2.pdf'}, excluded_embed_metadata_keys=[], excluded_llm_metadata_keys=[], relationships={}, hash='5e9563a3552be4ac9aee797d008311fb955e3ebbe4753f3db5f5487e8168ad31', text='Communication-Focused Language Objectives: \\nLanguage Functions \\nA language function refers to what students DO with the English \\nlanguage as they engage with content and interact with others. \\nAcademic Language and Functions: https://drive.google.com/ﬁle/d/1T4K8buFRI9yT3nAeygyP8k_jtUHcjCtd/view?usp=sharing  (Colorín Colorado) \\n', start_char_idx=None, end_char_idx=None, text_template='{metadata_str}\\n\\n{content}', metadata_template='{key}: {value}', metadata_seperator='\\n'),\n",
       " Document(id_='3e282d14-6c3f-4aba-ac84-79f2be7be4bb', embedding=None, metadata={'page_label': '9', 'file_name': 'DesELD Day2.pdf'}, excluded_embed_metadata_keys=[], excluded_llm_metadata_keys=[], relationships={}, hash='74a8440503d4197f6df05ada4859c852a7b8fd339645ba028887b1389030a550', text='Language Objectives: \\nBloom’s Verb Wheel \\nMeasurable Objectives \\n●Modes of Communication \\n●Higher-Order Thinking \\nSkills \\nNB: For ALL proﬁciency levels \\n', start_char_idx=None, end_char_idx=None, text_template='{metadata_str}\\n\\n{content}', metadata_template='{key}: {value}', metadata_seperator='\\n'),\n",
       " Document(id_='76fd1da4-da8d-4cd4-ae27-fae10726cc80', embedding=None, metadata={'page_label': '10', 'file_name': 'DesELD Day2.pdf'}, excluded_embed_metadata_keys=[], excluded_llm_metadata_keys=[], relationships={}, hash='3bbdce6c901c131712c77dd53dd4cce7c584ce213b6ae58bddbda6a9fa82fa1f', text=\"● Gr eet o thers \\nappr opria t ely . \\n● I n tr oduc e themselv es \\nwhen the y meet people. \\n● Ask and r espond t o \\nques tions about v ery \\nbasic personal \\nin f orma tion. \\n● Ask and t ell o thers \\nwhether or no t the y \\nunders tand them. \\n● Ask and t ell wha t f ood \\nthe y lik e or dislik e. \\n● U se a pho t o t o ask and \\nt ell about f amily . ● S har e ideas with o thers \\nabout ho w t o c elebra t e \\na friend's birthda y . \\n● Mak e a ho t el \\nr eserv a tion b y phone. \\n● P os t a r eaction t o a \\nfriend's social media \\npos t about a c onc ert \\nthe y a tt ended. \\n● P articipa t e in a \\nc on v ersa tion with a \\npartner t o iden tify the \\nin f orma tion the y need \\nt o plan a trip . ● D escribe ho w and wh y \\none beha v es in a c ertain \\nw a y when visiting a \\nf amily f or dinner . \\n● I n t eract with the ho t el \\ns ta ff t o c omplain. \\n● C on tribut e t o an online \\ndiscussion about a \\ncurr en t social issue. \\n● D iscuss curr en t issues \\nr ela t ed t o immigra tion \\nand outline the curr en t \\nrules f or getting \\ncitizenship . Functional Objectives in the Collaborative  Mode \\nE mer ging                         Expanding                     B ridging \\n\", start_char_idx=None, end_char_idx=None, text_template='{metadata_str}\\n\\n{content}', metadata_template='{key}: {value}', metadata_seperator='\\n'),\n",
       " Document(id_='eb03b65d-9a41-4493-a42c-7b7ca908c07a', embedding=None, metadata={'page_label': '11', 'file_name': 'DesELD Day2.pdf'}, excluded_embed_metadata_keys=[], excluded_llm_metadata_keys=[], relationships={}, hash='46e808a5f93662b53d60f8f996d7f2ec5bf1834f1a9f4720ee2aa52d3a7273bb', text='Practicum #3: Creating Functional Objectives for \\nthe Three Modes of Communication \\nConsider a current or future thematic unit of study through the lens of the \\nthree parts of the CA ELD Standards. \\nCreate at least three functional language objectives for this unit; \\none for each mode of communication. \\n', start_char_idx=None, end_char_idx=None, text_template='{metadata_str}\\n\\n{content}', metadata_template='{key}: {value}', metadata_seperator='\\n'),\n",
       " Document(id_='d139788e-7ebc-4252-8b65-3f16759ffd0b', embedding=None, metadata={'page_label': '12', 'file_name': 'DesELD Day2.pdf'}, excluded_embed_metadata_keys=[], excluded_llm_metadata_keys=[], relationships={}, hash='5abec8c83cbb7cb4e715e75699e593110d621202e932a0f95476b3ee75d4d9fd', text='10 \\nMINUTE \\nBREAK \\n', start_char_idx=None, end_char_idx=None, text_template='{metadata_str}\\n\\n{content}', metadata_template='{key}: {value}', metadata_seperator='\\n'),\n",
       " Document(id_='3f0e55cf-4f63-4dd0-9cd9-a49f49c059f7', embedding=None, metadata={'page_label': '13', 'file_name': 'DesELD Day2.pdf'}, excluded_embed_metadata_keys=[], excluded_llm_metadata_keys=[], relationships={}, hash='69d0644247f8fff3697de67e12da476d0026e2189d8898eb349e0bb257770799', text='Share and Debrief \\nIn your groups share the functional language objectives you \\ncreated for each mode of communication during Practicum #3. \\n', start_char_idx=None, end_char_idx=None, text_template='{metadata_str}\\n\\n{content}', metadata_template='{key}: {value}', metadata_seperator='\\n'),\n",
       " Document(id_='00f2d96b-a9dc-48d7-a79e-cb721b7e48f2', embedding=None, metadata={'page_label': '14', 'file_name': 'DesELD Day2.pdf'}, excluded_embed_metadata_keys=[], excluded_llm_metadata_keys=[], relationships={}, hash='54e9aef31845d1aca700ca6ebc4d556bcbee962211fb857b82d0554de84a9415', text='Open \\nDiscussion: \\nHow do we \\nsupport English \\nlanguage \\ndevelopment \\nthrough \\nintegration of \\nall content? \\nCurtain, H. I., & Dahlberg, C. A. A. (2015) . Languages and learners: Making the match: World language instruction in K-8 classrooms and beyond . Pearson. \\n', start_char_idx=None, end_char_idx=None, text_template='{metadata_str}\\n\\n{content}', metadata_template='{key}: {value}', metadata_seperator='\\n'),\n",
       " Document(id_='202b4155-10d6-480e-a210-3b009bf48e46', embedding=None, metadata={'page_label': '15', 'file_name': 'DesELD Day2.pdf'}, excluded_embed_metadata_keys=[], excluded_llm_metadata_keys=[], relationships={}, hash='b2fb7b7ee035fb8e70f554eebc1c3fdb546a4d843518754911e6f135a6c3653e', text='Tiered Vocabulary \\nand Structures in \\nService of \\nCommunication 2\\nPlanning to Support Language \\nReception and Production \\n', start_char_idx=None, end_char_idx=None, text_template='{metadata_str}\\n\\n{content}', metadata_template='{key}: {value}', metadata_seperator='\\n'),\n",
       " Document(id_='7d6963c2-26d5-48d8-962c-c10f9a10f329', embedding=None, metadata={'page_label': '16', 'file_name': 'DesELD Day2.pdf'}, excluded_embed_metadata_keys=[], excluded_llm_metadata_keys=[], relationships={}, hash='f5075f80f5f3a2696aff7f49947bd38bf311d88ccf2cf7f9021c3cc2de862341', text='W iggins and M c T ighe. (2005). U nders tanding b y D esign. P erf ormanc e Assessmen t Language-Speciﬁc Approach to Backward Design \\nI ns truction and practic e in \\nall modes, with tar get ed \\nv ocabulary and s tructur es Learning O bjectiv es \\nfr om ELD S tandar ds and \\ninclusiv e o f all 3 modes o f \\nc omm unica tion \\n', start_char_idx=None, end_char_idx=None, text_template='{metadata_str}\\n\\n{content}', metadata_template='{key}: {value}', metadata_seperator='\\n'),\n",
       " Document(id_='26265f32-2c37-453c-84f9-cfd1a4b04385', embedding=None, metadata={'page_label': '17', 'file_name': 'DesELD Day2.pdf'}, excluded_embed_metadata_keys=[], excluded_llm_metadata_keys=[], relationships={}, hash='f88ab4a6f35ceaea71597e46495374ded2b32d5c0e161be3b112848f133fb9ed', text='W iggins and M c T ighe. (2005). U nders tanding b y D esign. Language-Speciﬁc Approach to Backward Design \\nLearning O bjectiv es \\nfr om ELD S tandar ds and \\ninclusiv e o f all 3 modes o f \\nc omm unica tion \\nP erf ormanc e Assessmen t \\nI ns truction and practic e in \\nall modes, with tar get ed \\nv ocabulary and s tructur es \\n', start_char_idx=None, end_char_idx=None, text_template='{metadata_str}\\n\\n{content}', metadata_template='{key}: {value}', metadata_seperator='\\n'),\n",
       " Document(id_='a9057332-cd1c-4c58-ad76-092593faaf0b', embedding=None, metadata={'page_label': '18', 'file_name': 'DesELD Day2.pdf'}, excluded_embed_metadata_keys=[], excluded_llm_metadata_keys=[], relationships={}, hash='501dc9f3a3b9dada192f40cdc3573ca85b604d6fd4b798471d72d93378967324', text='ELD \\nStandards \\nModes of \\nCommunication Integrate: \\nBackward Design in \\nLanguage Learning Collaborative \\nTask Interpretive \\nTask \\nProductive  \\nTask \\nA dap t ed fr om \\nO hio D epartmen t o f E duca tion, 2017 \\n', start_char_idx=None, end_char_idx=None, text_template='{metadata_str}\\n\\n{content}', metadata_template='{key}: {value}', metadata_seperator='\\n'),\n",
       " Document(id_='6f6e38f8-6421-436d-91d4-d3149ac400e6', embedding=None, metadata={'page_label': '19', 'file_name': 'DesELD Day2.pdf'}, excluded_embed_metadata_keys=[], excluded_llm_metadata_keys=[], relationships={}, hash='fde5da39279f7878758348f78b27cbd2568bc770d6813ab7035c0befe50c3e03', text='BEFORE  We Plan  Learning Experiences and Instruction \\nLanguage Functions Related Structures and Patterns ', start_char_idx=None, end_char_idx=None, text_template='{metadata_str}\\n\\n{content}', metadata_template='{key}: {value}', metadata_seperator='\\n'),\n",
       " Document(id_='c8d70b0c-2365-49c2-bd09-b2e084b8fd12', embedding=None, metadata={'page_label': '20', 'file_name': 'DesELD Day2.pdf'}, excluded_embed_metadata_keys=[], excluded_llm_metadata_keys=[], relationships={}, hash='eb4f9a135c0f51b59187f77e4c4b5dd5a0858a431e4bcf4186089d38d53b0a0a', text='From your language \\nobjectives: What are \\nthe functions you \\nidentiﬁed? \\nFlood the Chat\\n', start_char_idx=None, end_char_idx=None, text_template='{metadata_str}\\n\\n{content}', metadata_template='{key}: {value}', metadata_seperator='\\n'),\n",
       " Document(id_='5e69e56b-bdab-4c74-8403-7aea4b692793', embedding=None, metadata={'page_label': '21', 'file_name': 'DesELD Day2.pdf'}, excluded_embed_metadata_keys=[], excluded_llm_metadata_keys=[], relationships={}, hash='964e0ba324451483b97f301214e6a8fcabcc14ffdf8c8ca2ab1553c0cace4eb1', text='Structures in Service of Communication: How English Works \\nFunction and Meaning \\nBEFORE \\nForm and Grammar \\nLanguage \\nFunctions Related Structures \\nand Language Patterns \\n compare comparative and \\nsuperlative of adj. & adv. \\n', start_char_idx=None, end_char_idx=None, text_template='{metadata_str}\\n\\n{content}', metadata_template='{key}: {value}', metadata_seperator='\\n'),\n",
       " Document(id_='99373dd8-b3cb-4c6f-85ea-322cbf5f3023', embedding=None, metadata={'page_label': '22', 'file_name': 'DesELD Day2.pdf'}, excluded_embed_metadata_keys=[], excluded_llm_metadata_keys=[], relationships={}, hash='e610df8b84959c87cef70709b6d9c678eed611f0f60aae8b5487159d99cb9e90', text='Tiered Vocabulary and Academic Language \\nThe Keys to Planning for Language Learning (2014). Clementi and Terrill. Tier 2 examples: obvious , complex , establish , argue and verify .Tier 3 examples: burner, photosynthesis, election, and court.  \\n', start_char_idx=None, end_char_idx=None, text_template='{metadata_str}\\n\\n{content}', metadata_template='{key}: {value}', metadata_seperator='\\n'),\n",
       " Document(id_='a4bf5445-1c62-49ce-a533-8e51dde9d0e9', embedding=None, metadata={'page_label': '23', 'file_name': 'DesELD Day2.pdf'}, excluded_embed_metadata_keys=[], excluded_llm_metadata_keys=[], relationships={}, hash='f10f0c61c14584931133798afac39a6dc18e624b3c2ac9f17ab08c3a56e0068d', text='1) Identify the language functions \\nstudents will use in order to \\nunderstand, exchange, and produce \\nlanguage. Make sure that functions \\nmove from lower- to higher-order \\nthinking skills throughout the unit,    \\nat all proﬁciency levels. \\n2) Identify the \\ngrammatical structures \\nand language patterns \\nstudents will need to \\nlearn and practice for \\neach function. There \\nmay be many. 3) List the vocabulary \\nstudents will need to \\nknow in order to \\nunderstand, exchange, \\nand produce language \\nin relation to the unit of \\nstudy. Consider how your students are using language in the unit of study you \\nbegan planning in Practicum #3 . Using the organizer for Practicum #4: \\nPracticum #4: Planning Language Functions, Structures, and Vocabulary \\n', start_char_idx=None, end_char_idx=None, text_template='{metadata_str}\\n\\n{content}', metadata_template='{key}: {value}', metadata_seperator='\\n'),\n",
       " Document(id_='fc2b9c78-5453-4a43-93f8-2890a5460e7b', embedding=None, metadata={'page_label': '24', 'file_name': 'DesELD Day2.pdf'}, excluded_embed_metadata_keys=[], excluded_llm_metadata_keys=[], relationships={}, hash='8ef61c6ac43461e4d8770cc67e778cf2f585fa34632ba5c65a9dafea0261300f', text='Share and Debrief \\nIn your groups share the language functions, related structures, \\nand vocabulary you created during Practicum #4. \\n', start_char_idx=None, end_char_idx=None, text_template='{metadata_str}\\n\\n{content}', metadata_template='{key}: {value}', metadata_seperator='\\n'),\n",
       " Document(id_='d0bda982-b385-47f1-a69c-b77c8d5421bb', embedding=None, metadata={'page_label': '25', 'file_name': 'DesELD Day2.pdf'}, excluded_embed_metadata_keys=[], excluded_llm_metadata_keys=[], relationships={}, hash='38a86943662af16e824690565676e7b7fae945612a0018083d93b134f75fb338', text='Using Uﬂo 3 Applying Learning to Practice \\n', start_char_idx=None, end_char_idx=None, text_template='{metadata_str}\\n\\n{content}', metadata_template='{key}: {value}', metadata_seperator='\\n'),\n",
       " Document(id_='d9c3d36e-58ff-4d4e-b44e-3367df7b0f7c', embedding=None, metadata={'page_label': '26', 'file_name': 'DesELD Day2.pdf'}, excluded_embed_metadata_keys=[], excluded_llm_metadata_keys=[], relationships={}, hash='b6800bd3b83305427637740d4c2221926fed949fe8dcd937034c91e95f43cec8', text='Brandon and Sina: \\nHere is the learning objective we created for Day 2’s \\ntraining (re:Uﬂo):  Create a Uﬂo account and complete \\npractice activities within the app. \\n1.Please do not mess with any of the other slides in this \\nslide deck (: - because we will know and send our \\npeople after you! \\n2.Feel free to add slides below here. \\n3.You have up to 30 minutes for your training of people, \\nso please create any instructions and activities to guide \\nthem to create their account, how to use the platform, \\nand send them oﬀ to complete the practice activities \\nthat are there. ', start_char_idx=None, end_char_idx=None, text_template='{metadata_str}\\n\\n{content}', metadata_template='{key}: {value}', metadata_seperator='\\n'),\n",
       " Document(id_='d154b50a-2944-4136-a3b6-5939d322833a', embedding=None, metadata={'page_label': '27', 'file_name': 'DesELD Day2.pdf'}, excluded_embed_metadata_keys=[], excluded_llm_metadata_keys=[], relationships={}, hash='5a5249767fedfbb049d5a289222a8b6a526db6e9712327dda334e6dca5111175', text='', start_char_idx=None, end_char_idx=None, text_template='{metadata_str}\\n\\n{content}', metadata_template='{key}: {value}', metadata_seperator='\\n')]"
      ]
     },
     "execution_count": 61,
     "metadata": {},
     "output_type": "execute_result"
    }
   ],
   "source": [
    "documents"
   ]
  },
  {
   "cell_type": "code",
   "execution_count": 9,
   "metadata": {},
   "outputs": [],
   "source": [
    "dc_cut = doc_chunks[:10]"
   ]
  },
  {
   "cell_type": "code",
   "execution_count": 15,
   "metadata": {},
   "outputs": [],
   "source": [
    "llm = get_llm(OPENAI_API_KEY)"
   ]
  },
  {
   "cell_type": "code",
   "execution_count": 25,
   "metadata": {},
   "outputs": [
    {
     "name": "stdout",
     "output_type": "stream",
     "text": [
      "current doc id: caa1a5ef-998c-4bf1-8a5b-b8c4d61f2e27\n",
      "current doc id: 54afb60e-5952-4b16-aa9a-5694dcae5aee\n",
      "current doc id: 1a555c4d-82bf-4932-8309-23af241caece\n",
      "current doc id: 13d2a537-2f5c-4048-a251-08018184259d\n",
      "current doc id: 35d76123-35f4-49e2-a7fb-a2d3689e1f33\n",
      "current doc id: 8be19b5d-24aa-45e8-873f-6d918d4807b7\n",
      "current doc id: f70ddcf8-2093-49f6-a13b-5b1e63bdba74\n",
      "current doc id: aa014e8e-95e6-4837-9bce-0d1d598c2713\n",
      "current doc id: af90b898-2f80-4601-b443-73cd13113b68\n",
      "current doc id: 8ae59b5e-67e1-4d29-ad59-6323560ace07\n"
     ]
    }
   ],
   "source": [
    "indices = get_ds_indices(dc_cut, llm, callback_manager, OPENAI_API_KEY)"
   ]
  },
  {
   "cell_type": "code",
   "execution_count": 26,
   "metadata": {},
   "outputs": [],
   "source": [
    "sum2 = summarize_indices(indices, summaryPrompt3)"
   ]
  },
  {
   "cell_type": "code",
   "execution_count": 27,
   "metadata": {},
   "outputs": [],
   "source": [
    "terms2, terms_by_index = extract_terms(sum2,define_prompt)"
   ]
  },
  {
   "cell_type": "code",
   "execution_count": 31,
   "metadata": {},
   "outputs": [],
   "source": [
    "pd.set_option('display.max_columns', None)"
   ]
  },
  {
   "cell_type": "code",
   "execution_count": 32,
   "metadata": {},
   "outputs": [
    {
     "data": {
      "text/html": [
       "<div>\n",
       "<style scoped>\n",
       "    .dataframe tbody tr th:only-of-type {\n",
       "        vertical-align: middle;\n",
       "    }\n",
       "\n",
       "    .dataframe tbody tr th {\n",
       "        vertical-align: top;\n",
       "    }\n",
       "\n",
       "    .dataframe thead th {\n",
       "        text-align: right;\n",
       "    }\n",
       "</style>\n",
       "<table border=\"1\" class=\"dataframe\">\n",
       "  <thead>\n",
       "    <tr style=\"text-align: right;\">\n",
       "      <th></th>\n",
       "      <th>Brandon</th>\n",
       "      <th>Leticia</th>\n",
       "      <th>Melissa</th>\n",
       "      <th>paperwork</th>\n",
       "      <th>modification</th>\n",
       "      <th>agreement</th>\n",
       "      <th>dissemination</th>\n",
       "      <th>platform</th>\n",
       "      <th>waiting room</th>\n",
       "      <th>being on time</th>\n",
       "      <th>Tanya Byram</th>\n",
       "      <th>Sina</th>\n",
       "      <th>Fethlana</th>\n",
       "      <th>professional development material</th>\n",
       "      <th>enhance experience</th>\n",
       "      <th>tool</th>\n",
       "      <th>being able to work with the material</th>\n",
       "      <th>developing things for students</th>\n",
       "      <th>Doctor Brandon Vaswell</th>\n",
       "      <th>Tina Assisi</th>\n",
       "      <th>Tanya Byron</th>\n",
       "      <th>Svetlana La Sarova</th>\n",
       "      <th>Melissa Garcia</th>\n",
       "      <th>Zoom</th>\n",
       "      <th>Professional learning opportunities</th>\n",
       "      <th>Designated ELD</th>\n",
       "      <th>Integrated language development</th>\n",
       "      <th>Literacy development</th>\n",
       "      <th>Capacity building</th>\n",
       "      <th>Implementation of the English learner roadmap</th>\n",
       "      <th>Grant work</th>\n",
       "      <th>Multilingual Academic Support Unit</th>\n",
       "      <th>Los Angeles County Office of Education</th>\n",
       "      <th>EPIC grant</th>\n",
       "      <th>Educator workforce investment</th>\n",
       "      <th>Language acquisition</th>\n",
       "      <th>Svetlana</th>\n",
       "      <th>Online credential programs</th>\n",
       "      <th>Methods</th>\n",
       "      <th>World language methods</th>\n",
       "      <th>High school Spanish teacher</th>\n",
       "      <th>Elementary dual language immersion programs</th>\n",
       "      <th>World Languages Standards Committee</th>\n",
       "      <th>English language development</th>\n",
       "      <th>English learner</th>\n",
       "    </tr>\n",
       "  </thead>\n",
       "  <tbody>\n",
       "    <tr>\n",
       "      <th>0</th>\n",
       "      <td>A human name mentioned in the text.; A person ...</td>\n",
       "      <td>A human name mentioned in the text.</td>\n",
       "      <td>A human name mentioned in the text.</td>\n",
       "      <td>Documents or forms that need to be completed o...</td>\n",
       "      <td>A change or alteration made to something.</td>\n",
       "      <td>A mutual understanding or arrangement between ...</td>\n",
       "      <td>The act of spreading or sharing information or...</td>\n",
       "      <td>A medium or channel used to distribute or pres...</td>\n",
       "      <td>A designated area where people wait, typically...</td>\n",
       "      <td>Arriving or completing tasks at the scheduled ...</td>\n",
       "      <td>A human name mentioned in the text.; A person ...</td>\n",
       "      <td>A human name mentioned in the text.</td>\n",
       "      <td>A human name mentioned in the text.</td>\n",
       "      <td>Material that is designed to enhance the skill...</td>\n",
       "      <td>To improve or make better the overall experien...</td>\n",
       "      <td>An instrument or device used to perform a spec...</td>\n",
       "      <td>The ability to effectively use and engage with...</td>\n",
       "      <td>The process of creating or designing education...</td>\n",
       "      <td>A doctor mentioned in the text, affiliated wit...</td>\n",
       "      <td>A person mentioned in the text, affiliated wit...</td>\n",
       "      <td>A person mentioned in the text, affiliated wit...</td>\n",
       "      <td>A person mentioned in the text, affiliated wit...</td>\n",
       "      <td>A person mentioned in the text, affiliated wit...</td>\n",
       "      <td>A platform mentioned in the text, used for the...</td>\n",
       "      <td>Opportunities mentioned in the text for profes...</td>\n",
       "      <td>An abbreviation mentioned in the text, referri...</td>\n",
       "      <td>A concept mentioned in the text, referring to ...</td>\n",
       "      <td>A concept mentioned in the text, referring to ...</td>\n",
       "      <td>A concept mentioned in the text, referring to ...</td>\n",
       "      <td>A process mentioned in the text, referring to ...</td>\n",
       "      <td>A project mentioned in the text that is being ...</td>\n",
       "      <td>A unit or department that provides support and...</td>\n",
       "      <td>The administrative body responsible for overse...</td>\n",
       "      <td>A grant focused on investing in the educator w...</td>\n",
       "      <td>The allocation of resources and support to imp...</td>\n",
       "      <td>The process of learning and acquiring a new la...</td>\n",
       "      <td>A person mentioned in the text.</td>\n",
       "      <td>Programs mentioned in the text that are coordi...</td>\n",
       "      <td>Teaching approaches or strategies mentioned in...</td>\n",
       "      <td>Teaching approaches or strategies mentioned in...</td>\n",
       "      <td>A role mentioned in the text that Tanya Byram ...</td>\n",
       "      <td>Programs mentioned in the text where Tanya Byr...</td>\n",
       "      <td>A committee mentioned in the text that Tanya B...</td>\n",
       "      <td>The process of acquiring proficiency in the En...</td>\n",
       "      <td>A term mentioned in the text to describe Tanya...</td>\n",
       "    </tr>\n",
       "  </tbody>\n",
       "</table>\n",
       "</div>"
      ],
      "text/plain": [
       "                                             Brandon  \\\n",
       "0  A human name mentioned in the text.; A person ...   \n",
       "\n",
       "                               Leticia                              Melissa  \\\n",
       "0  A human name mentioned in the text.  A human name mentioned in the text.   \n",
       "\n",
       "                                           paperwork  \\\n",
       "0  Documents or forms that need to be completed o...   \n",
       "\n",
       "                                modification  \\\n",
       "0  A change or alteration made to something.   \n",
       "\n",
       "                                           agreement  \\\n",
       "0  A mutual understanding or arrangement between ...   \n",
       "\n",
       "                                       dissemination  \\\n",
       "0  The act of spreading or sharing information or...   \n",
       "\n",
       "                                            platform  \\\n",
       "0  A medium or channel used to distribute or pres...   \n",
       "\n",
       "                                        waiting room  \\\n",
       "0  A designated area where people wait, typically...   \n",
       "\n",
       "                                       being on time  \\\n",
       "0  Arriving or completing tasks at the scheduled ...   \n",
       "\n",
       "                                         Tanya Byram  \\\n",
       "0  A human name mentioned in the text.; A person ...   \n",
       "\n",
       "                                  Sina                             Fethlana  \\\n",
       "0  A human name mentioned in the text.  A human name mentioned in the text.   \n",
       "\n",
       "                   professional development material  \\\n",
       "0  Material that is designed to enhance the skill...   \n",
       "\n",
       "                                  enhance experience  \\\n",
       "0  To improve or make better the overall experien...   \n",
       "\n",
       "                                                tool  \\\n",
       "0  An instrument or device used to perform a spec...   \n",
       "\n",
       "                being able to work with the material  \\\n",
       "0  The ability to effectively use and engage with...   \n",
       "\n",
       "                      developing things for students  \\\n",
       "0  The process of creating or designing education...   \n",
       "\n",
       "                              Doctor Brandon Vaswell  \\\n",
       "0  A doctor mentioned in the text, affiliated wit...   \n",
       "\n",
       "                                         Tina Assisi  \\\n",
       "0  A person mentioned in the text, affiliated wit...   \n",
       "\n",
       "                                         Tanya Byron  \\\n",
       "0  A person mentioned in the text, affiliated wit...   \n",
       "\n",
       "                                  Svetlana La Sarova  \\\n",
       "0  A person mentioned in the text, affiliated wit...   \n",
       "\n",
       "                                      Melissa Garcia  \\\n",
       "0  A person mentioned in the text, affiliated wit...   \n",
       "\n",
       "                                                Zoom  \\\n",
       "0  A platform mentioned in the text, used for the...   \n",
       "\n",
       "                 Professional learning opportunities  \\\n",
       "0  Opportunities mentioned in the text for profes...   \n",
       "\n",
       "                                      Designated ELD  \\\n",
       "0  An abbreviation mentioned in the text, referri...   \n",
       "\n",
       "                     Integrated language development  \\\n",
       "0  A concept mentioned in the text, referring to ...   \n",
       "\n",
       "                                Literacy development  \\\n",
       "0  A concept mentioned in the text, referring to ...   \n",
       "\n",
       "                                   Capacity building  \\\n",
       "0  A concept mentioned in the text, referring to ...   \n",
       "\n",
       "       Implementation of the English learner roadmap  \\\n",
       "0  A process mentioned in the text, referring to ...   \n",
       "\n",
       "                                          Grant work  \\\n",
       "0  A project mentioned in the text that is being ...   \n",
       "\n",
       "                  Multilingual Academic Support Unit  \\\n",
       "0  A unit or department that provides support and...   \n",
       "\n",
       "              Los Angeles County Office of Education  \\\n",
       "0  The administrative body responsible for overse...   \n",
       "\n",
       "                                          EPIC grant  \\\n",
       "0  A grant focused on investing in the educator w...   \n",
       "\n",
       "                       Educator workforce investment  \\\n",
       "0  The allocation of resources and support to imp...   \n",
       "\n",
       "                                Language acquisition  \\\n",
       "0  The process of learning and acquiring a new la...   \n",
       "\n",
       "                          Svetlana  \\\n",
       "0  A person mentioned in the text.   \n",
       "\n",
       "                          Online credential programs  \\\n",
       "0  Programs mentioned in the text that are coordi...   \n",
       "\n",
       "                                             Methods  \\\n",
       "0  Teaching approaches or strategies mentioned in...   \n",
       "\n",
       "                              World language methods  \\\n",
       "0  Teaching approaches or strategies mentioned in...   \n",
       "\n",
       "                         High school Spanish teacher  \\\n",
       "0  A role mentioned in the text that Tanya Byram ...   \n",
       "\n",
       "         Elementary dual language immersion programs  \\\n",
       "0  Programs mentioned in the text where Tanya Byr...   \n",
       "\n",
       "                 World Languages Standards Committee  \\\n",
       "0  A committee mentioned in the text that Tanya B...   \n",
       "\n",
       "                        English language development  \\\n",
       "0  The process of acquiring proficiency in the En...   \n",
       "\n",
       "                                     English learner  \n",
       "0  A term mentioned in the text to describe Tanya...  "
      ]
     },
     "execution_count": 32,
     "metadata": {},
     "output_type": "execute_result"
    }
   ],
   "source": [
    "terms2"
   ]
  },
  {
   "cell_type": "markdown",
   "metadata": {},
   "source": [
    "#### TOKENS"
   ]
  },
  {
   "cell_type": "code",
   "execution_count": 41,
   "metadata": {},
   "outputs": [],
   "source": [
    "token_counter = TokenCountingHandler(\n",
    "    tokenizer=tiktoken.encoding_for_model(\"gpt-3.5-turbo\").encode\n",
    ")\n",
    "\n",
    "callback_manager = CallbackManager([token_counter])"
   ]
  },
  {
   "cell_type": "markdown",
   "metadata": {},
   "source": [
    "#### PROMPTS"
   ]
  },
  {
   "cell_type": "code",
   "execution_count": 12,
   "metadata": {},
   "outputs": [],
   "source": [
    "define_prompt = \"\"\"\n",
    "\n",
    "Based on the provided summary, your task is to identify and list all terms along with their definitions. \n",
    "\n",
    "Each term should be followed by its corresponding definition. \n",
    "\n",
    "I a human name is present, if it is relevant, it should be counted as a term and followed by a definition.\n",
    "\n",
    "If a term's definition is not explicitly stated, use your best judgment to infer it based on the context.\n",
    "\n",
    "Format your response as follows: \n",
    "Term: <term> Definition: <definition>\n",
    "\n",
    "Focus on capturing a wide range of terms, prioritizing the quantity of terms identified. \n",
    "\n",
    "Precision in the definitions is important but secondary to the relevance of terms extracted.\n",
    "\n",
    "To assist you in understanding the context and relevance, here is the summary of the text: '{}'\n",
    "\n",
    "\"\"\"\n",
    "\n",
    "summaryPrompt3 = (\n",
    "    \"\"\"Task: Conduct a detailed analysis of this '{}' in these specific steps:\n",
    "    1. Meticulously identify and list every human name mentioned, focusing on both historical figures and any other individuals. Pay special attention to ensure no name is overlooked.\n",
    "    2. Carefully extract and enumerate all events detailed in the text, including both major and minor occurrences, ensuring a comprehensive capture of the timeline.\n",
    "    3. Thoroughly identify all significant terms and concepts, including technical jargon, theories, or specific subject matter terminology.\n",
    "    4. Make sure to get as many terms as possible in this summary \n",
    "    After completing these steps, synthesize this information into a cohesive and comprehensive summary. The summary should seamlessly incorporate the identified names, events, and terms, providing a clear, accurate, and complete overview of the text's content.\"\"\"\n",
    ")\n",
    "\n",
    "summaryPrompt4 = (\n",
    "    \"\"\"Task: Conduct a detailed analysis in these specific steps:\n",
    "    1. Meticulously identify and list every human name mentioned, focusing on both historical figures and any other individuals. Pay special attention to ensure no name is overlooked.\n",
    "    2. Carefully extract and enumerate all events detailed in the text, including both major and minor occurrences, ensuring a comprehensive capture of the timeline.\n",
    "    3. Thoroughly identify all significant terms and concepts, including technical jargon, theories, or specific subject matter terminology.\n",
    "    4. Make sure to get as many terms as possible in this summary \n",
    "    After completing these steps, synthesize this information into a cohesive and comprehensive summary. The summary should seamlessly incorporate the identified names, events, and terms, providing a clear, accurate, and complete overview of the text's content.\"\"\"\n",
    ")"
   ]
  },
  {
   "cell_type": "markdown",
   "metadata": {},
   "source": [
    "#### CODE GET LLM, MAKE INDICES, SUMMARIZE, AND MAKE TERMS"
   ]
  },
  {
   "cell_type": "code",
   "execution_count": null,
   "metadata": {},
   "outputs": [],
   "source": []
  },
  {
   "cell_type": "markdown",
   "metadata": {},
   "source": [
    "##### PROCESS DOCS"
   ]
  },
  {
   "cell_type": "code",
   "execution_count": 63,
   "metadata": {},
   "outputs": [],
   "source": [
    "def process_documents(documents):\n",
    "    # Combine texts from all documents\n",
    "    combined_text = ''\n",
    "    for document in documents:\n",
    "        combined_text += document.text + \" \"\n",
    "    # Initialize the sentence parser\n",
    "    sentence_parser = SentenceSplitter(chunk_size=736, chunk_overlap=200)\n",
    "    text_chunks = sentence_parser.split_text(combined_text)\n",
    "    \n",
    "    print(text_chunks)\n",
    "\n",
    "    # Process each text chunk\n",
    "    doc_chunks = []\n",
    "    order_counter = 0\n",
    "    for text_chunk in text_chunks:\n",
    "        for doc in documents:\n",
    "            if text_chunk in doc.text:\n",
    "                new_doc_metadata = {\n",
    "                    'page_label': doc.metadata.get('page_label', None),\n",
    "                    'chunk_order': order_counter\n",
    "                }\n",
    "                new_doc = Document(text=text_chunk, metadata=new_doc_metadata)\n",
    "                doc_chunks.append(new_doc)\n",
    "                order_counter += 1\n",
    "                break\n",
    "\n",
    "    return doc_chunks"
   ]
  },
  {
   "cell_type": "markdown",
   "metadata": {},
   "source": [
    "##### GET LLM"
   ]
  },
  {
   "cell_type": "code",
   "execution_count": 44,
   "metadata": {},
   "outputs": [],
   "source": [
    "def get_llm(openai_api_key, max_tokens=8192):\n",
    "\n",
    "    os.environ[\"OPENAI_API_KEY\"] = openai_api_key\n",
    "    return OpenAI(\n",
    "        temperature=0.0, model='gpt-3.5-turbo-0125', max_tokens=max_tokens\n",
    "    )"
   ]
  },
  {
   "cell_type": "markdown",
   "metadata": {},
   "source": [
    "##### MAKE INDEXES"
   ]
  },
  {
   "cell_type": "code",
   "execution_count": 45,
   "metadata": {},
   "outputs": [],
   "source": [
    "def get_ds_indices(documents, llm, c_m, api_key):\n",
    "    # Defining the service context outside the thread function\n",
    "    embed_model \n",
    "    service_context = ServiceContext.from_defaults(\n",
    "        llm=llm, \n",
    "        chunk_size=384,\n",
    "        callback_manager=c_m, \n",
    "        chunk_overlap=128\n",
    "    )\n",
    "\n",
    "    response_synthesizer = get_response_synthesizer(\n",
    "        response_mode=\"tree_summarize\", use_async=False\n",
    "    )\n",
    "\n",
    "    def process_docs(pair):\n",
    "        temp_index = DocumentSummaryIndex.from_documents(\n",
    "            pair, \n",
    "            service_context=service_context,\n",
    "            response_synthesizer=response_synthesizer\n",
    "        )\n",
    "        \n",
    "        return temp_index\n",
    "\n",
    "    # Splitting the documents into pairs\n",
    "    doc_pairs = [documents[i:i + 2] for i in range(0, len(documents), 2)]\n",
    "\n",
    "    indices_data = []\n",
    "    with ThreadPoolExecutor(max_workers=len(doc_pairs)) as executor:\n",
    "        futures = []\n",
    "        for pair in doc_pairs:\n",
    "            # Submit the task and then wait for 6 seconds\n",
    "            future = executor.submit(process_docs, pair)\n",
    "            futures.append(future)\n",
    "            time.sleep(6)  # Delay between each submission\n",
    "\n",
    "        for future in concurrent.futures.as_completed(futures):\n",
    "            indices_data.append(future.result())\n",
    "\n",
    "    # Creating a DataFrame from the collected data\n",
    "    df = pd.DataFrame(indices_data, columns=['Indices'])\n",
    "    df.index += 1  # Adjusting the index to start from 1\n",
    "\n",
    "    return df"
   ]
  },
  {
   "cell_type": "markdown",
   "metadata": {},
   "source": [
    "##### SUMMARIZE INDICES"
   ]
  },
  {
   "cell_type": "code",
   "execution_count": 46,
   "metadata": {},
   "outputs": [],
   "source": [
    "def _summarize_index(row, prompt, k):\n",
    "    key = row.name\n",
    "    index = row['Indices']  # Extract 'indices' column value\n",
    "    query_engine = index.as_query_engine(similarity_top_k=k)\n",
    "    summary = str(query_engine.query(prompt))\n",
    "    return key, index, summary  # Return 'indices' column value\n",
    "\n",
    "def summarize_indices(df, prompt, k=3):\n",
    "    results = []\n",
    "    with concurrent.futures.ThreadPoolExecutor() as executor:\n",
    "        # Submitting jobs for each row in the DataFrame\n",
    "        futures = [executor.submit(_summarize_index, row, prompt, k) for _, row in df.iterrows()]\n",
    "        \n",
    "        for future in concurrent.futures.as_completed(futures):\n",
    "            try:\n",
    "                key, indices_value, summary = future.result()\n",
    "                results.append((key, indices_value, summary))  # Include 'indices' column value in results\n",
    "            except Exception as e:\n",
    "                print(f\"Error processing row {key}: {e}\")\n",
    "\n",
    "    # Convert results to DataFrame, including the 'indices' column\n",
    "    summary_df = pd.DataFrame(results, columns=['Key', 'Indices', 'Summary'])\n",
    "    summary_df.sort_values(\"Key\",inplace = True)\n",
    "    summary_df.set_index(\"Key\", inplace = True)\n",
    "    \n",
    "    return summary_df"
   ]
  },
  {
   "cell_type": "markdown",
   "metadata": {},
   "source": [
    "##### EXTRACT TERMS"
   ]
  },
  {
   "cell_type": "code",
   "execution_count": 47,
   "metadata": {},
   "outputs": [],
   "source": [
    "def process_row(row, prompt, k):\n",
    "    time.sleep(6)\n",
    "    index = row['Indices']\n",
    "    summary = row['Summary']\n",
    "    query_engine = index.as_query_engine(similarity_top_k=k)\n",
    "\n",
    "    f_prompt = prompt.format(summary)\n",
    "    terms_definitions = str(query_engine.query(f_prompt))\n",
    "\n",
    "    terms_definitions = [\n",
    "        x for x in terms_definitions.split(\"\\n\") if x and \"Term:\" in x and \"Definition:\" in x\n",
    "    ]\n",
    "\n",
    "    terms_to_definition = {\n",
    "        x.split(\"Definition:\")[0].split(\"Term:\")[-1].strip(): x.split(\"Definition:\")[-1].strip()\n",
    "        for x in terms_definitions\n",
    "    }\n",
    "    return {'Index': row.name, 'Definitions': terms_to_definition}\n",
    "\n",
    "def extract_terms(df, prompt, k=3):\n",
    "    with ThreadPoolExecutor() as executor:\n",
    "        results = list(executor.map(lambda row: process_row(row, prompt, k), [row for _, row in df.iterrows()]))\n",
    "\n",
    "    ## DF WITH ALL RESULTS SEPARATED BY DF\n",
    "    final_results = pd.DataFrame(results)\n",
    "\n",
    "    ## DF WITH ALL VALUES ONCE, AND ANY DEFINITIONS REPEATED ARE LISTED IN THE SAME ROW\n",
    "    definitions_df = pd.DataFrame(list(final_results['Definitions']))\n",
    "\n",
    "    filtered_definitions_df = definitions_df.map(lambda x: x if pd.notna(x) and x != '' else None)\n",
    "\n",
    "    combined_values = filtered_definitions_df.apply(lambda x: '; '.join(filter(None, x)), axis=0)\n",
    "\n",
    "    combined_df = pd.DataFrame([combined_values.to_dict()])\n",
    "\n",
    "    return combined_df, final_results\n"
   ]
  }
 ],
 "metadata": {
  "kernelspec": {
   "display_name": "Python 3",
   "language": "python",
   "name": "python3"
  },
  "language_info": {
   "codemirror_mode": {
    "name": "ipython",
    "version": 3
   },
   "file_extension": ".py",
   "mimetype": "text/x-python",
   "name": "python",
   "nbconvert_exporter": "python",
   "pygments_lexer": "ipython3",
   "version": "3.11.7"
  }
 },
 "nbformat": 4,
 "nbformat_minor": 2
}
