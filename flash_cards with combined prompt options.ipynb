{
 "cells": [
  {
   "cell_type": "code",
   "execution_count": 31,
   "metadata": {},
   "outputs": [],
   "source": [
    "from dotenv import load_dotenv\n",
    "import os\n",
    "import openai\n",
    "from datasets import load_dataset\n",
    "import llama_index\n",
    "from llama_index import Document\n",
    "from llama_index.node_parser import SimpleNodeParser\n",
    "from llama_index.vector_stores import PineconeVectorStore\n",
    "from llama_index import GPTVectorStoreIndex, StorageContext, ServiceContext\n",
    "import chromadb\n",
    "from llama_index import VectorStoreIndex\n",
    "from llama_index.vector_stores import ChromaVectorStore\n",
    "from llama_index.storage.storage_context import StorageContext\n",
    "from llama_index.prompts import PromptTemplate\n",
    "from llama_index.embeddings.openai import OpenAIEmbedding\n",
    "from llama_index.node_parser import SimpleNodeParser\n",
    "from pathlib import Path\n",
    "from llama_index import download_loader\n"
   ]
  },
  {
   "cell_type": "code",
   "execution_count": 32,
   "metadata": {},
   "outputs": [],
   "source": [
    "from llama_index.embeddings import OpenAIEmbedding\n",
    "from llama_index.text_splitter import SentenceSplitter\n",
    "from llama_index.extractors import TitleExtractor\n",
    "from llama_index.ingestion import IngestionPipeline, IngestionCache"
   ]
  },
  {
   "cell_type": "code",
   "execution_count": 70,
   "metadata": {},
   "outputs": [],
   "source": [
    "from llama_index import download_loader\n",
    "from pathlib import Path\n",
    "from llama_index import download_loader\n",
    "from llama_index import VectorStoreIndex\n",
    "from llama_index import SummaryIndex\n",
    "import openai\n",
    "from llama_index.indices.document_summary import DocumentSummaryIndex\n"
   ]
  },
  {
   "cell_type": "code",
   "execution_count": 34,
   "metadata": {},
   "outputs": [],
   "source": [
    "from llama_index.llms import OpenAI\n",
    "from llama_index import (\n",
    "    SimpleDirectoryReader,\n",
    "    ServiceContext,\n",
    "    get_response_synthesizer,\n",
    ")"
   ]
  },
  {
   "cell_type": "code",
   "execution_count": 35,
   "metadata": {},
   "outputs": [],
   "source": [
    "from llama_index import ServiceContext, VectorStoreIndex\n",
    "from llama_index.extractors import (\n",
    "    TitleExtractor,\n",
    "    QuestionsAnsweredExtractor,\n",
    ")\n",
    "\n",
    "from llama_index.ingestion import IngestionPipeline\n",
    "from llama_index.text_splitter import TokenTextSplitter\n",
    "\n"
   ]
  },
  {
   "cell_type": "code",
   "execution_count": 36,
   "metadata": {},
   "outputs": [],
   "source": [
    "OPENAI_API_KEY=\"open_ai_key\"\n",
    "os.environ['OPENAI_API_KEY'] = open_ai_key"
   ]
  },
  {
   "cell_type": "code",
   "execution_count": 37,
   "metadata": {},
   "outputs": [],
   "source": [
    "PDFReader = download_loader(\"PDFReader\")\n",
    "\n",
    "loader = PDFReader()\n",
    "documents = loader.load_data(file=Path(\"C:/Users/zachk/Downloads/(13a) Civil War Reconstruction  (1).pdf\"))\n"
   ]
  },
  {
   "cell_type": "code",
   "execution_count": 38,
   "metadata": {},
   "outputs": [],
   "source": [
    "page2 = documents[1:3]"
   ]
  },
  {
   "cell_type": "code",
   "execution_count": 39,
   "metadata": {},
   "outputs": [
    {
     "data": {
      "text/plain": [
       "[Document(id_='2bf012bf-1f2f-435e-bd02-4e7232c836f6', embedding=None, metadata={'page_label': '2', 'file_name': '(13a) Civil War Reconstruction  (1).pdf'}, excluded_embed_metadata_keys=[], excluded_llm_metadata_keys=[], relationships={}, hash='f8ccd105ffafc73c9eb5b8cbf3b0285aa809b66844a115b82b56e5971856fc9f', text='The N? r ~ h  a~so enjoyed the steady leadership of President Lincoln. At a time when opm1on m the North wa\" b;tterly div1·..Jed lie ap 1· d kill t . -· • • . ,. u , p 1e uncommon s o the difficult task of keeping the :~::.,.icn t::Jg-cther. Finally, Lincoln\\'s decisior! tr, P\\'\\'G,\\'::1::\\\\·_, cn!3ncipation was a fateful step that changed the nature of the,•.-:-,;· !.__;.,;_c):\\'1 -. ,:h::ermin:::;tion-and the determina-tion of thousands of African ).:oJi·r•, \\'.c,,;, ir, rhs North and South-sustained northern spirits, even as the -\\'>\\'ar s::ipf.,c\"1 codhern resolve. 0 Checkpoint What were some of the reasons the North prevailed in the Civil War? The War\\'s Lasting Impact The United States had never experienced a war like the Civil War. Some indi-vidual battles produced casualties greater than the United States had previously sustained in entire wars. When the war was over, more than 600,000 Americans were dead. Hundreds of thousands more were maimed. The Civil War ushered in the harsh reality of modern warfare. For the first time, ordinary citizens could see the carnage of the battlefield through the pho-tographs of journalists such as Mathew Brady. His exhibition \"The Dead at Antietam\" provided graphic evidence of the terrible realities of war. Effects on the Economy After the fighting ended, social and political disil-lusionment on both sides fed economic greed. The era following the war came to be labeled the Gilded Age-a term that suggested a superficial glitter and beauty covering up an underlying decay. Nevertheless, in the North, the indus-trial boom that was fueled by the war continued. In 1862, Congress passed both the Land Grant College Act and legislation authorizing a protective tariff. The Land Grant College Act gave money from the sale of public lands to states for the establishment of universities that taught \"agriculture and mechanical arts.\" The tariff protected northern industry from foreign competition and raised much-needed revenue for the Union war effort. It also led to a surge in manufacturing that lasted far beyond the end of the war. After 1865, northern factories, banks, and cities underwent sweeping industrialization, helping the Dnited States emerge as a global economic power. In contrast, rebuilding the South was slow and tortured. Southern cities, such as Richmond and Atlanta, lay in ruins, as did many of the region\\'s factories and railroads. The South struggled to regain its economic footing after the war, often Lincoln\\'s funeral casket is displayed to mourners in Philadelphia, Pennsylvania. \\n~oteTakinq Reading Skill: Understand Effects Use a concept web to identify the effects of the Civil War. \\nChapter 11 Section 5 393 •• J \\n', start_char_idx=None, end_char_idx=None, text_template='{metadata_str}\\n\\n{content}', metadata_template='{key}: {value}', metadata_seperator='\\n'),\n",
       " Document(id_='8f0af6f5-d4a1-4896-8bea-59c8744d2daf', embedding=None, metadata={'page_label': '3', 'file_name': '(13a) Civil War Reconstruction  (1).pdf'}, excluded_embed_metadata_keys=[], excluded_llm_metadata_keys=[], relationships={}, hash='48a5d2b4022ef9ac9fe061452366575cdf043f0eb24e702bbc73cdc4af574b76', text=\"I i' MO Union state la Confederate state -Union forces -Confederate forces , ~-----$ Union victory · .. Confederate victory iacour •Y~~, 10&4\\\\ 1s&4) d )'Harbor oune 3, 1\\\\862) Q Union blockade ~r~cksburg (~~:·0~:, \\\\ ersburg A,pri\\\\ 18&5) • nc 10&4-I 71 ti C r-----~L~r~~=--=~~~-;-;;;:~:;::-i J\\\\ t a 1 o,ea,71 \\\\ AR 70yw AtlanLa. Ouly-Sep ., L .> lA Gulf of Mexico I 90°W Map Skills After its momentous defeats in 1863, the Confederacy fought a defensive war until its . armies finally surrendered to Union troops. 1. Locate: (a) Gettysburg, (b) Petersburg, (c) Atlanta, (d) Appomattox Court House 2. Regions Where was most of the fighting concentrated after 1863? Why? 3. Draw Conclusions Which side do you think suffered the most as a result of the Civil War? Why? 394 ,.,.).'(ha• \\\\estun GA ,,,,._? ',,\\\\ 11 , , i•SavJr.,nan j ~--~,1~\\\\ 80':i\\\\V ______ ::ri'-1'-i --r---· \\nCivil War Deaths 400~-----300 C: :Jl ::, 0 i 200 .,, Cl. 0 100 0 Union Confederacy SOURCE: Encyclopedia Britannica A The Costs of War • Union costs: $6.1 billion; inflation 80 percent • Confederate costs: $2 billion; inflation 9,000 percent • Many southern farms, factories, and railroads were destroyed. • Southern industry was crippled. • Confederate states lost two thirds of their wealth. American Deaths in All Wars (estimates) 32.2% 49.1% I••• •• 0.4% 1.0% Civil War 623,000 World War II 407,500 World War I 116,500 Vietnam War 58,000 Korean War 37,000 Mexican-American War 13,500 American Revolution 4,SOO Other major wars 8,000 SOURCES: U.S. Military History Institute; Department of Defense The death toll from the Civil War was staggering. More than half a million soldiers died-nearly as many were killed as in all other American wars combined. Additionally, more than 500,000 soldiers were wounded in the fighting. The material devastation of the war would plague the South for decades after its defeat. \\n\", start_char_idx=None, end_char_idx=None, text_template='{metadata_str}\\n\\n{content}', metadata_template='{key}: {value}', metadata_seperator='\\n')]"
      ]
     },
     "execution_count": 39,
     "metadata": {},
     "output_type": "execute_result"
    }
   ],
   "source": [
    "page2"
   ]
  },
  {
   "cell_type": "code",
   "execution_count": 40,
   "metadata": {},
   "outputs": [],
   "source": [
    "db = chromadb.PersistentClient(path=\"C:/Users/zachk/OneDrive/Desktop/Uflo\")"
   ]
  },
  {
   "cell_type": "code",
   "execution_count": 41,
   "metadata": {},
   "outputs": [],
   "source": [
    "chroma_collection = db.get_or_create_collection(\"quickstart\")\n"
   ]
  },
  {
   "cell_type": "markdown",
   "metadata": {},
   "source": [
    "TRY 4 - documentsummary indices"
   ]
  },
  {
   "cell_type": "code",
   "execution_count": 57,
   "metadata": {},
   "outputs": [],
   "source": [
    "def get_ds_index(documents, llm, api_key):\n",
    "\n",
    "    service_context = ServiceContext.from_defaults(llm=llm, chunk_size=512, chunk_overlap=128)\n",
    "\n",
    "    response_synthesizer = get_response_synthesizer(\n",
    "    response_mode=\"tree_summarize\", use_async=True\n",
    "    )\n",
    "    \n",
    "    temp_index = DocumentSummaryIndex.from_documents(\n",
    "        documents, \n",
    "        service_context=service_context,\n",
    "        response_synthesizer = response_synthesizer\n",
    "    )\n",
    "\n",
    "    return temp_index"
   ]
  },
  {
   "cell_type": "code",
   "execution_count": 90,
   "metadata": {},
   "outputs": [
    {
     "name": "stdout",
     "output_type": "stream",
     "text": [
      "current doc id: 2bf012bf-1f2f-435e-bd02-4e7232c836f6\n",
      "current doc id: 8f0af6f5-d4a1-4896-8bea-59c8744d2daf\n"
     ]
    }
   ],
   "source": [
    "ds512 = get_ds_index(page2, llm, OPENAI_API_KEY)"
   ]
  },
  {
   "cell_type": "code",
   "execution_count": 168,
   "metadata": {},
   "outputs": [],
   "source": [
    "prompt8 = (\n",
    "    \"Make a list of terms and definitions that are defined in the context, \"\n",
    "    \"with one pair on each line.\"\n",
    "    \"there will be a name 'Mathew Brady' this needs to be in the dictionary or i die\"\n",
    "    \"Note that formal names, like 'Mathew Brady', 'Abraham Lincoln' or 'Michael Duke', should be terms and should be given a definition. \"\n",
    "    \"If a term is missing its definition, use your best judgment. \"\n",
    "    \"With each term-definition pair on a separate line, be vigilant to not miss any names, regardless of their perceived prominence or importance. \"\n",
    "    \"This task is crucial, as if my life depends on it, so please ensure the utmost accuracy and relevance. \"\n",
    "    \"Write each line as follows:\\nTerm: <term> Definition: <definition>\"\n",
    ")\n",
    "prompt2 = (\n",
    "    \"Make a list of terms and definitions that are defined in the context, \"\n",
    "    \"with one pair on each line. \"\n",
    "    \"If a term is missing it's definition, use your best judgment. \"\n",
    "    \"For terms that are similar dont use the same term twice meaning if you use Union, there is no need for another term Union forces\"\n",
    "    \"Write each line as as follows:\\nTerm: <term> Definition: <definition>\"\n",
    ")\n",
    "\n",
    "\n"
   ]
  },
  {
   "cell_type": "code",
   "execution_count": 150,
   "metadata": {},
   "outputs": [],
   "source": [
    "prompt_general = (\n",
    "    \"Make a list of terms and definitions that are defined in the context, \"\n",
    "    \"with one pair on each line. \"\n",
    "    \"If a term is missing it's definition, use your best judgment. \"\n",
    "    \"Focus on capturing a wide range of terms, ensuring no significant concept, name, or entity is overlooked. \"\n",
    "    \"For each term, provide a clear and succinct definition that encapsulates its essence within the context. \"\n",
    "    \"In cases where the definition of a term is not explicitly stated, use contextual clues to derive an appropriate meaning. \"\n",
    "    \"This task is crucial for understanding the broader scope of the subject matter. \"\n",
    "    \"Write each line as as follows:\\nTerm: <term> Definition: <definition>\"\n",
    ")\n",
    "\n",
    "prompt_detailed = (\n",
    "    \"Construct a detailed list of terms, particularly focusing on names, places, events, and other specific categories, along with their definitions. \"\n",
    "    \"Ensure that each term, especially proper nouns and technical terms, is accompanied by a precise and comprehensive definition. \"\n",
    "    \"Leverage the context to discern nuanced meanings and subtle distinctions between similar terms. \"\n",
    "    \"This task is essential for a deep and accurate understanding of the specific elements within the subject matter. \"\n",
    "    \"Maintain clarity in your list by following this structure for each entry:\\nTerm: <term> Definition: <definition>\"\n",
    ")\n",
    "\n"
   ]
  },
  {
   "cell_type": "code",
   "execution_count": 152,
   "metadata": {},
   "outputs": [],
   "source": [
    "prompt_combined_1 = (\n",
    "    \"Make a list of terms and definitions that are defined in the context, \"\n",
    "    \"with one pair on each line. \"\n",
    "    \"If a term is missing it's definition, use your best judgment. \"\n",
    "    \"Focus on a broad range of terms, including names, concepts, and entities, ensuring thorough coverage. \"\n",
    "    \"Provide clear, succinct definitions, using context to infer meanings where they are not explicitly stated. \"\n",
    "    \"Emphasize proper nouns, technical terms, and other significant categories. \"\n",
    "    \"This task is of paramount importance, requiring exceptional accuracy and thoroughness. \"\n",
    "    \"For each term, whether it's a name like 'Mathew Brady' or a technical concept, provide a definition. \"\n",
    "    \"In cases of ambiguity, apply judicious interpretation. \"\n",
    "     \"Write each line as as follows:\\nTerm: <term> Definition: <definition>\"\n",
    ")\n",
    "prompt_combined_2 = (\n",
    "    \"Delve into the document to identify and define specific categories of terms, such as names, places, events, and technical jargon. \"\n",
    "    \"Pay special attention to nuanced meanings and subtle distinctions, ensuring each term is accompanied by a detailed and precise definition. \"\n",
    "    \"Be vigilant in your search, recognizing the significance of both prominent and less obvious terms. \"\n",
    "    \"This task requires a deep understanding and accurate representation of the material, as if critical outcomes depend on it. \"\n",
    "    \"Use contextual clues to provide definitions for terms not explicitly explained. \"\n",
    "    \"Structure each entry clearly, using the format:\\nTerm: <term> Definition: <definition>\"\n",
    ")\n"
   ]
  },
  {
   "cell_type": "code",
   "execution_count": 183,
   "metadata": {},
   "outputs": [],
   "source": [
    "megaprompt = (\n",
    "    \"Carefully review the document and compile an exhaustive list of terms and their definitions, \"\n",
    "    \"presenting each term-definition pair on a separate line. \"\n",
    "    \"Prioritize identifying a diverse range of terms, especially focusing on proper nouns such as 'Mathew Brady', 'Abraham Lincoln', key technical terms, concepts, and significant entities. \"\n",
    "    \"For each term, provide a definition that is clear, concise, and contextually derived when not explicitly stated. \"\n",
    "    \"Special emphasis should be on nuanced meanings and subtle distinctions. \"\n",
    "    \"Avoid redundancy in terms - for instance, if 'Union' is already listed, do not include 'Union victory' unless it adds distinct, new information. \"\n",
    "    \"This task demands exceptional accuracy and thoroughness due to its critical nature. \"\n",
    "    \"In ambiguous cases, employ informed judgment for the most fitting definitions. \"\n",
    "    \"Aim for a deep, accurate understanding and representation of the material, steering clear of irrelevant details like page labels or file names. \"\n",
    "    \"Format your response as:\\nTerm: <term> Definition: <definition>\"\n",
    ")\n",
    "\n",
    "prompt = (\n",
    "    \"completely understand what the material is about in terms of learning objective\"\n",
    "    \"Find important information that would pertain to learning of the topic, those would be defined as terms\"\n",
    "    \"Dont add any terms that take away from the learning objective and \"\n",
    "    \"When sifting through the definitions and terms if you find very high similarities in definitions just combine the terms so that it can explain everything in one term\"\n",
    ")\n"
   ]
  },
  {
   "cell_type": "code",
   "execution_count": 2,
   "metadata": {},
   "outputs": [],
   "source": [
    "##Working with Chatgpt to try wierd prompting \n",
    "GBTPrompt = (\n",
    "    \"\"\"Task: Extract key terms and their definitions from the document. \n",
    "    For each term, especially proper nouns and technical terms, provide a clear definition. \n",
    "    Avoid redundancy; do not list variations of the same term. \n",
    "    Include notable names like 'Mathew Brady' and 'Abraham Lincoln' without fail. \n",
    "    Use context to infer meanings for ambiguous terms. \n",
    "    Desired Output Format:\n",
    "    1. Term: <term>, Definition: <definition>\n",
    "    Example:\n",
    "    Term: Union, Definition: The northern states during the Civil War.\n",
    "    Term: Abraham Lincoln, Definition: 16th President of the United States, led the nation during the Civil War.\n",
    "    \n",
    "    Begin extraction from the document below:\"\"\"\n",
    ")\n"
   ]
  },
  {
   "cell_type": "code",
   "execution_count": 3,
   "metadata": {},
   "outputs": [
    {
     "ename": "NameError",
     "evalue": "name 'extract_terms' is not defined",
     "output_type": "error",
     "traceback": [
      "\u001b[1;31m---------------------------------------------------------------------------\u001b[0m",
      "\u001b[1;31mNameError\u001b[0m                                 Traceback (most recent call last)",
      "Cell \u001b[1;32mIn[3], line 4\u001b[0m\n\u001b[0;32m      2\u001b[0m prompts \u001b[38;5;241m=\u001b[39m [GBTPrompt]\n\u001b[0;32m      3\u001b[0m \u001b[38;5;66;03m# Call the function with your index and prompts\u001b[39;00m\n\u001b[1;32m----> 4\u001b[0m d14\u001b[38;5;241m=\u001b[39m extract_terms(ds512, prompts, \u001b[38;5;241m3\u001b[39m)\n",
      "\u001b[1;31mNameError\u001b[0m: name 'extract_terms' is not defined"
     ]
    }
   ],
   "source": [
    "# Create a list of prompts\n",
    "prompts = [GBTPrompt]\n",
    "# Call the function with your index and prompts\n",
    "d14= extract_terms(ds512, prompts, 3)  # Here, 3 is the tp value"
   ]
  },
  {
   "cell_type": "code",
   "execution_count": 185,
   "metadata": {},
   "outputs": [
    {
     "data": {
      "text/plain": [
       "{'Union': 'Refers to the northern states that remained part of the United States during the Civil War.',\n",
       " 'Confederate': 'Refers to the southern states that seceded from the United States and formed their own government during the Civil War.',\n",
       " 'Union forces': 'Refers to the military forces of the Union during the Civil War.',\n",
       " 'Confederate forces': 'Refers to the military forces of the Confederacy during the Civil War.',\n",
       " 'Union victory': 'Refers to a military victory achieved by the Union forces during the Civil War.',\n",
       " 'Confederate victory': 'Refers to a military victory achieved by the Confederate forces during the Civil War.',\n",
       " 'Gettysburg': 'Refers to a major battle that took place in Gettysburg, Pennsylvania during the Civil War.',\n",
       " 'Petersburg': 'Refers to a city in Virginia that was the site of a major battle during the Civil War.',\n",
       " 'Atlanta': 'Refers to a city in Georgia that was the site of a major battle during the Civil War.',\n",
       " 'Appomattox Court House': 'Refers to the location where General Robert E. Lee surrendered to General Ulysses S. Grant, effectively ending the Civil War.',\n",
       " 'Civil War': 'Refers to the war fought between the Union and the Confederacy from 1861 to 1865.',\n",
       " 'Union costs': 'Refers to the financial costs incurred by the Union during the Civil War.',\n",
       " 'Confederate costs': 'Refers to the financial costs incurred by the Confederacy during the Civil War.',\n",
       " 'Gilded Age': 'Refers to the period of rapid economic growth and industrialization in the United States following the Civil War.',\n",
       " 'Land Grant College Act': 'Refers to the legislation passed by Congress in 1862 that provided funding for the establishment of universities focused on agriculture and mechanical arts.',\n",
       " 'Protective tariff': 'Refers to a tax imposed on imported goods to protect domestic industries from foreign competition.',\n",
       " 'Industrialization': 'Refers to the process of developing industries on a large scale, typically involving the use of machinery and the mass production of goods.'}"
      ]
     },
     "execution_count": 185,
     "metadata": {},
     "output_type": "execute_result"
    }
   ],
   "source": [
    "#2 and mega prompt with tp=5\n",
    "d14"
   ]
  },
  {
   "cell_type": "code",
   "execution_count": 175,
   "metadata": {},
   "outputs": [
    {
     "data": {
      "text/plain": [
       "{'Union': 'Refers to the northern states that remained part of the United States during the Civil War.',\n",
       " 'Confederate': 'Refers to the southern states that seceded from the United States and formed their own government during the Civil War.',\n",
       " 'Union forces': 'Refers to the military forces of the Union during the Civil War.',\n",
       " 'Confederate forces': 'Refers to the military forces of the Confederacy during the Civil War.',\n",
       " 'Union victory': 'Refers to a military victory achieved by the Union forces during the Civil War.',\n",
       " 'Confederate victory': 'Refers to a military victory achieved by the Confederate forces during the Civil War.',\n",
       " 'Gettysburg': 'Refers to a major battle that took place in Gettysburg, Pennsylvania during the Civil War.',\n",
       " 'Petersburg': 'Refers to a city in Virginia that was the site of a major battle during the Civil War.',\n",
       " 'Atlanta': 'Refers to a city in Georgia that was the site of a major battle during the Civil War.',\n",
       " 'Appomattox Court House': 'Refers to the location where General Robert E. Lee surrendered to General Ulysses S. Grant, effectively ending the Civil War.',\n",
       " 'Civil War': 'Refers to the war fought between the Union and the Confederacy from 1861 to 1865.',\n",
       " 'Union costs': 'Refers to the financial costs incurred by the Union during the Civil War.',\n",
       " 'Confederate costs': 'Refers to the financial costs incurred by the Confederacy during the Civil War.',\n",
       " 'Gilded Age': 'Refers to the period of rapid economic growth in the United States following the Civil War.',\n",
       " 'Land Grant College Act': 'Refers to the legislation passed by Congress in 1862 that provided funding for the establishment of universities focused on agriculture and mechanical arts.',\n",
       " 'Protective tariff': 'Refers to a tax imposed on imported goods to protect domestic industries from foreign competition.',\n",
       " 'Industrialization': 'Refers to the process of developing industries on a large scale.',\n",
       " 'Reconstruction': 'Refers to the period after the Civil War when the United States government worked to rebuild the South and address the issues caused by the war.'}"
      ]
     },
     "execution_count": 175,
     "metadata": {},
     "output_type": "execute_result"
    }
   ],
   "source": [
    "#2 and mega prompt with tp=3\n",
    "d12"
   ]
  },
  {
   "cell_type": "code",
   "execution_count": 163,
   "metadata": {},
   "outputs": [
    {
     "data": {
      "text/plain": [
       "{'Gettysburg': 'A location where a major battle took place during the Civil War.',\n",
       " 'Petersburg': 'A location where a major battle took place during the Civil War.',\n",
       " 'Atlanta': 'A location where a major battle took place during the Civil War.',\n",
       " 'Appomattox Court House': 'A location where the Confederate armies surrendered to Union troops at the end of the Civil War.',\n",
       " 'Union costs': 'The amount of money spent by the Union during the Civil War, which was $6.1 billion with an inflation rate of 80 percent.',\n",
       " 'Confederate costs': 'The amount of money spent by the Confederacy during the Civil War, which was $2 billion with an inflation rate of 9,000 percent.',\n",
       " 'Land Grant College Act': 'Legislation passed by Congress in 1862 that provided money from the sale of public lands to states for the establishment of universities that taught \"agriculture and mechanical arts.\"',\n",
       " 'protective tariff': 'Legislation passed by Congress in 1862 that protected northern industry from foreign competition and raised revenue for the Union war effort.',\n",
       " 'Gilded Age': 'A term used to describe the era following the Civil War, characterized by superficial glitter and beauty covering up underlying decay.'}"
      ]
     },
     "execution_count": 163,
     "metadata": {},
     "output_type": "execute_result"
    }
   ],
   "source": [
    "#prompts = [prompt2, megaprompt]\n",
    "#d11= extract_terms(ds512, prompts, 2) \n",
    "d11"
   ]
  },
  {
   "cell_type": "code",
   "execution_count": 154,
   "metadata": {},
   "outputs": [
    {
     "data": {
      "text/plain": [
       "{'page_label': 'The label or identifier assigned to a specific page in a document.',\n",
       " 'file_name': 'The name of a file, typically used to identify and locate a specific document.',\n",
       " 'Union': 'Refers to the northern states that remained loyal to the United States government during the Civil War.',\n",
       " 'Confederate': 'Refers to the southern states that seceded from the United States and formed their own government during the Civil War.',\n",
       " 'Union forces': 'The military forces of the Union during the Civil War.',\n",
       " 'Confederate forces': 'The military forces of the Confederacy during the Civil War.',\n",
       " 'Union victory': 'Refers to a military victory achieved by the Union forces during the Civil War.',\n",
       " 'Confederate victory': 'Refers to a military victory achieved by the Confederate forces during the Civil War.',\n",
       " 'Gettysburg': 'A town in Pennsylvania where a major battle took place during the Civil War.',\n",
       " 'Petersburg': 'A city in Virginia where a major battle took place during the Civil War.',\n",
       " 'Atlanta': 'A city in Georgia that was a significant target for Union forces during the Civil War.',\n",
       " 'Appomattox Court House': 'A village in Virginia where General Robert E. Lee surrendered to General Ulysses S. Grant, effectively ending the Civil War.',\n",
       " 'Civil War': 'A war fought between the northern and southern states of the United States from 1861 to 1865.',\n",
       " 'inflation': 'A general increase in prices and decrease in the purchasing power of money.',\n",
       " 'southern farms': 'Farms located in the southern states of the United States.',\n",
       " 'factories': 'Industrial facilities where goods are produced.',\n",
       " 'railroads': 'A system of transportation using tracks and trains to transport goods and people.',\n",
       " 'southern industry': 'The industrial sector in the southern states of the United States.',\n",
       " 'Confederate states': 'The states that seceded from the United States and formed the Confederate States of America during the Civil War.',\n",
       " 'American Deaths in All Wars': 'The number of American soldiers who died in various wars throughout history.',\n",
       " 'casualties': 'Refers to the number of people killed, wounded, or missing in action during a war or battle.',\n",
       " 'wounded': 'Refers to individuals who have been injured, but not killed, during a war or battle.',\n",
       " 'modern warfare': 'Refers to the methods and technologies used in warfare during the Civil War and beyond.',\n",
       " 'Gilded Age': 'A period in American history characterized by rapid economic growth, industrialization, and social inequality.',\n",
       " 'Land Grant College Act': 'Legislation passed by Congress in 1862 that provided federal support for the establishment of universities focused on agriculture and mechanical arts.',\n",
       " 'protective tariff': 'A tax imposed on imported goods to protect domestic industries from foreign competition.',\n",
       " 'industrialization': 'The process of developing industries on a large scale.',\n",
       " 'rebuilding': 'The process of repairing and reconstructing something that has been damaged or destroyed.'}"
      ]
     },
     "execution_count": 154,
     "metadata": {},
     "output_type": "execute_result"
    }
   ],
   "source": [
    "#prompts = [prompt8, prompt_combined_1, prompt_combined_2]\n",
    "#d10= extract_terms(ds512, prompts, 4)\n",
    "d10"
   ]
  },
  {
   "cell_type": "code",
   "execution_count": 145,
   "metadata": {},
   "outputs": [
    {
     "data": {
      "text/plain": [
       "{'Union forces': 'The military forces that fought for the Union (Northern) states during the Civil War.',\n",
       " 'Confederate forces': 'The military forces that fought for the Confederate (Southern) states during the Civil War.',\n",
       " 'Gettysburg': 'A town in Pennsylvania where a major battle took place during the Civil War in July 1863.',\n",
       " 'Petersburg': 'A city in Virginia where a significant battle took place during the Civil War, known as the Siege of Petersburg, from June 1864 to April 1865.',\n",
       " 'Atlanta': 'A city in Georgia that was a major target for Union forces during the Civil War and was captured in September 1864.',\n",
       " 'Appomattox Court House': 'A small town in Virginia where General Robert E. Lee surrendered to General Ulysses S. Grant, effectively ending the Civil War, on April 9, 1865.',\n",
       " 'Union costs': 'The financial expenses incurred by the Union during the Civil War, which amounted to $6.1 billion and experienced an inflation rate of 80 percent.',\n",
       " 'Confederate costs': 'The financial expenses incurred by the Confederacy during the Civil War, which amounted to $2 billion and experienced an inflation rate of 9,000 percent.',\n",
       " 'Gilded Age': 'A term used to describe the period following the Civil War in the United States, characterized by rapid industrialization and economic growth, but also marked by social and political disillusionment.',\n",
       " 'Land Grant College Act': 'Legislation passed by Congress in 1862 that provided federal funding to states for the establishment of universities focused on teaching agriculture and mechanical arts.',\n",
       " 'protective tariff': 'Legislation passed by Congress in 1862 that imposed taxes on imported goods, aimed at protecting northern industries from foreign competition and generating revenue for the Union war effort.',\n",
       " 'Mathew Brady': 'A prominent American photographer known for his documentation of the Civil War through photographs, including his exhibition \"The Dead at Antietam,\" which provided graphic evidence of the war\\'s devastation.'}"
      ]
     },
     "execution_count": 145,
     "metadata": {},
     "output_type": "execute_result"
    }
   ],
   "source": [
    "#prompts = [prompt8, prompt_combined_1, prompt_combined_2]\n",
    "#d10= extract_terms(ds512, prompts, 3)\n",
    "d10"
   ]
  },
  {
   "cell_type": "code",
   "execution_count": 143,
   "metadata": {},
   "outputs": [
    {
     "data": {
      "text/plain": [
       "{'Gettysburg': 'A location where a major battle took place during the Civil War.',\n",
       " 'Petersburg': 'A location where a major battle took place during the Civil War.',\n",
       " 'Atlanta': 'A location where a major battle took place during the Civil War.',\n",
       " 'Appomattox Court House': 'A location where the Confederate armies surrendered to Union troops at the end of the Civil War.',\n",
       " 'Union': 'The side that emerged victorious in the Civil War.',\n",
       " 'Confederacy': 'The side that was defeated in the Civil War.',\n",
       " 'Union costs': 'The amount of money spent by the Union during the Civil War.',\n",
       " 'Confederate costs': 'The amount of money spent by the Confederacy during the Civil War.',\n",
       " 'Land Grant College Act': 'Legislation passed by Congress in 1862 that provided money for the establishment of universities teaching agriculture and mechanical arts.',\n",
       " 'Protective tariff': 'Legislation passed by Congress in 1862 that protected northern industry from foreign competition and raised revenue for the Union war effort.'}"
      ]
     },
     "execution_count": 143,
     "metadata": {},
     "output_type": "execute_result"
    }
   ],
   "source": [
    "\n",
    "#prompts = [prompt2, prompt_combined_1, prompt_combined_2]\n",
    "#d9= extract_terms(ds512, prompts, 3)  # Here, 3 is the tp value\n",
    "d9"
   ]
  },
  {
   "cell_type": "code",
   "execution_count": 141,
   "metadata": {},
   "outputs": [
    {
     "data": {
      "text/plain": [
       "{'page_label': 'The label or number assigned to a specific page in a document.',\n",
       " 'file_name': 'The name of a file or document.',\n",
       " 'Union': 'Refers to the northern states during the American Civil War who were against secession and in favor of preserving the United States.',\n",
       " 'Confederate': 'Refers to the southern states during the American Civil War who seceded from the United States and formed their own government.',\n",
       " 'Union forces': 'The military forces of the Union during the American Civil War.',\n",
       " 'Confederate forces': 'The military forces of the Confederacy during the American Civil War.',\n",
       " 'Union victory': 'Refers to a military victory achieved by the Union forces during the American Civil War.',\n",
       " 'Confederate victory': 'Refers to a military victory achieved by the Confederate forces during the American Civil War.',\n",
       " 'Gettysburg': 'A town in Pennsylvania where a major battle took place during the American Civil War.',\n",
       " 'Petersburg': 'A city in Virginia where a major battle took place during the American Civil War.',\n",
       " 'Atlanta': 'A city in Georgia where a major battle took place during the American Civil War.',\n",
       " 'Appomattox Court House': 'A village in Virginia where the Confederate Army surrendered to the Union Army, effectively ending the American Civil War.',\n",
       " 'Civil War': 'Refers to the war fought between the northern and southern states of the United States from 1861 to 1865.',\n",
       " 'inflation': 'The increase in prices of goods and services over time, resulting in a decrease in the purchasing power of money.',\n",
       " 'blockade': 'The act of using naval forces to prevent goods or people from entering or leaving a port or area.',\n",
       " 'casualties': 'Refers to the number of people killed, wounded, or missing in action during a military conflict.',\n",
       " 'Gilded Age': 'Refers to the period in American history from the late 19th century to the early 20th century characterized by rapid economic growth, industrialization, and social inequality.'}"
      ]
     },
     "execution_count": 141,
     "metadata": {},
     "output_type": "execute_result"
    }
   ],
   "source": [
    "d8 #Changed 5 to 3"
   ]
  },
  {
   "cell_type": "code",
   "execution_count": 139,
   "metadata": {},
   "outputs": [
    {
     "data": {
      "text/plain": [
       "{'Union forces': 'The military forces that fought for the Union (Northern) states during the Civil War.',\n",
       " 'Confederate forces': 'The military forces that fought for the Confederate (Southern) states during the Civil War.',\n",
       " 'Gettysburg': 'A town in Pennsylvania where a major battle took place during the Civil War in July 1863.',\n",
       " 'Petersburg': 'A city in Virginia where a significant battle took place during the Civil War, known as the Siege of Petersburg, from June 1864 to April 1865.',\n",
       " 'Atlanta': 'A city in Georgia that was a major target for Union forces during the Civil War and was captured in September 1864.',\n",
       " 'Appomattox Court House': 'A small town in Virginia where General Robert E. Lee surrendered to General Ulysses S. Grant, effectively ending the Civil War, on April 9, 1865.',\n",
       " 'Union costs': 'The financial expenses incurred by the Union during the Civil War, which amounted to $6.1 billion and experienced an inflation rate of 80 percent.',\n",
       " 'Confederate costs': 'The financial expenses incurred by the Confederacy during the Civil War, which amounted to $2 billion and experienced an inflation rate of 9,000 percent.',\n",
       " 'Gilded Age': 'A term used to describe the period following the Civil War in the United States, characterized by rapid industrialization and economic growth, but also marked by social and political disillusionment.',\n",
       " 'Land Grant College Act': 'Legislation passed by Congress in 1862 that provided federal funding to states for the establishment of universities focused on teaching agriculture and mechanical arts.',\n",
       " 'protective tariff': 'Legislation passed by Congress in 1862 that imposed taxes on imported goods, aimed at protecting northern industries from foreign competition and generating revenue for the Union war effort.',\n",
       " 'Mathew Brady': 'A prominent American photographer known for his documentation of the Civil War through photographs, including his exhibition \"The Dead at Antietam,\" which provided graphic evidence of the war\\'s devastation.'}"
      ]
     },
     "execution_count": 139,
     "metadata": {},
     "output_type": "execute_result"
    }
   ],
   "source": [
    "d7"
   ]
  },
  {
   "cell_type": "code",
   "execution_count": 137,
   "metadata": {},
   "outputs": [
    {
     "data": {
      "text/plain": [
       "{'Gettysburg': 'A location where a major battle took place during the Civil War.',\n",
       " 'Petersburg': 'A location where a major battle took place during the Civil War.',\n",
       " 'Atlanta': 'A location where a major battle took place during the Civil War.',\n",
       " 'Appomattox Court House': 'A location where the Confederate armies surrendered to Union troops at the end of the Civil War.',\n",
       " 'Union': 'The side that emerged victorious in the Civil War.',\n",
       " 'Confederacy': 'The side that was defeated in the Civil War.',\n",
       " 'Union costs': 'The amount of money spent by the Union during the Civil War.',\n",
       " 'Confederate costs': 'The amount of money spent by the Confederacy during the Civil War.',\n",
       " 'Land Grant College Act': 'Legislation passed by Congress in 1862 that provided money for the establishment of universities teaching agriculture and mechanical arts.',\n",
       " 'Protective tariff': 'Legislation passed by Congress in 1862 that protected northern industry from foreign competition and raised revenue for the Union war effort.'}"
      ]
     },
     "execution_count": 137,
     "metadata": {},
     "output_type": "execute_result"
    }
   ],
   "source": [
    "d6 # Changed 3 to 5"
   ]
  },
  {
   "cell_type": "code",
   "execution_count": 135,
   "metadata": {},
   "outputs": [
    {
     "data": {
      "text/plain": [
       "{'Gettysburg': 'A location where a major battle took place during the Civil War.',\n",
       " 'Petersburg': 'A location where a major battle took place during the Civil War.',\n",
       " 'Atlanta': 'A location where a major battle took place during the Civil War.',\n",
       " 'Appomattox Court House': 'A location where the Confederate armies surrendered to Union troops at the end of the Civil War.',\n",
       " 'Union': 'The side that emerged victorious in the Civil War.',\n",
       " 'Confederacy': 'The side that was defeated in the Civil War.',\n",
       " 'Union costs': 'The amount of money spent by the Union during the Civil War.',\n",
       " 'Confederate costs': 'The amount of money spent by the Confederacy during the Civil War.',\n",
       " 'Land Grant College Act': 'Legislation passed by Congress in 1862 that provided money to states for the establishment of universities teaching agriculture and mechanical arts.',\n",
       " 'Protective tariff': 'Legislation passed by Congress in 1862 that protected northern industry from foreign competition and raised revenue for the Union war effort.'}"
      ]
     },
     "execution_count": 135,
     "metadata": {},
     "output_type": "execute_result"
    }
   ],
   "source": [
    "d6"
   ]
  },
  {
   "cell_type": "code",
   "execution_count": 124,
   "metadata": {},
   "outputs": [
    {
     "data": {
      "text/plain": [
       "{'Gettysburg': 'A location where a major battle took place during the Civil War. Additionally, A town in Pennsylvania where a major battle took place during the American Civil War.',\n",
       " 'Petersburg': 'A location where a major battle took place during the Civil War. Additionally, A city in Virginia where a major battle took place during the American Civil War.',\n",
       " 'Atlanta': 'A location where a major battle took place during the Civil War. Additionally, A city in Georgia where a major battle took place during the American Civil War.',\n",
       " 'Appomattox Court House': 'A location where the Confederate armies surrendered to Union troops at the end of the Civil War. Additionally, A village in Virginia where the Confederate Army surrendered to the Union Army, effectively ending the American Civil War.',\n",
       " 'Union costs': 'The amount of money spent by the Union during the Civil War.',\n",
       " 'Confederate costs': 'The amount of money spent by the Confederacy during the Civil War.',\n",
       " 'inflation': 'The increase in prices of goods and services over time. Additionally, The increase in prices of goods and services over time, resulting in a decrease in the purchasing power of money.',\n",
       " 'southern farms, factories, and railroads': 'Infrastructure in the southern states that were destroyed during the Civil War.',\n",
       " 'southern industry': 'The industrial sector in the southern states that was severely impacted and weakened as a result of the Civil War.',\n",
       " 'Confederate states': 'The states that seceded from the Union and formed the Confederacy during the Civil War.',\n",
       " 'American Deaths in All Wars': 'The number of American soldiers who died in various wars, including the Civil War.',\n",
       " \"Lincoln's emancipation\": 'The decision made by President Lincoln to free the slaves in Confederate states during the Civil War.',\n",
       " 'modern warfare': 'The type of warfare that emerged during the Civil War, characterized by high casualties and advanced weaponry.',\n",
       " 'Gilded Age': 'A period of time following the Civil War characterized by economic growth and industrialization in the North. Additionally, Refers to the period in American history from the late 19th century to the early 20th century characterized by rapid economic growth, industrialization, and social inequality.',\n",
       " 'Land Grant College Act': 'Legislation passed by Congress in 1862 that provided funding for the establishment of universities focused on agriculture and mechanical arts.',\n",
       " 'protective tariff': 'A tax imposed on imported goods to protect domestic industries from foreign competition.',\n",
       " 'industrialization': 'The process of developing industries and manufacturing on a large scale.',\n",
       " 'rebuilding the South': 'The efforts to reconstruct and revive the southern states after the Civil War.',\n",
       " 'page_label': 'The label or number assigned to a specific page in a document.',\n",
       " 'file_name': 'The name of a file or document.',\n",
       " 'Union': 'Refers to the northern states during the American Civil War who were against secession and in favor of preserving the United States.',\n",
       " 'Confederate': 'Refers to the southern states during the American Civil War who seceded from the United States and formed their own government.',\n",
       " 'Union forces': 'The military forces of the Union during the American Civil War.',\n",
       " 'Confederate forces': 'The military forces of the Confederacy during the American Civil War.',\n",
       " 'Union victory': 'Refers to a military victory achieved by the Union forces during the American Civil War.',\n",
       " 'Confederate victory': 'Refers to a military victory achieved by the Confederate forces during the American Civil War.',\n",
       " 'Civil War': 'Refers to the war fought between the northern and southern states of the United States from 1861 to 1865.',\n",
       " 'blockade': 'The act of using naval forces to prevent goods or people from entering or leaving a port or area.',\n",
       " 'casualties': 'Refers to the number of people killed, wounded, or missing in action during a military conflict.'}"
      ]
     },
     "execution_count": 124,
     "metadata": {},
     "output_type": "execute_result"
    }
   ],
   "source": [
    "d5"
   ]
  },
  {
   "cell_type": "code",
   "execution_count": 118,
   "metadata": {},
   "outputs": [
    {
     "data": {
      "text/plain": [
       "{'Union forces': 'The military forces that fought for the Union (Northern) states during the Civil War.',\n",
       " 'Confederate forces': 'The military forces that fought for the Confederate (Southern) states during the Civil War.',\n",
       " 'Gettysburg': 'A town in Pennsylvania where a major battle took place during the Civil War in July 1863.',\n",
       " 'Petersburg': 'A city in Virginia where a significant battle took place during the Civil War, known as the Siege of Petersburg, from June 1864 to April 1865.',\n",
       " 'Atlanta': 'A city in Georgia that was a major target for Union forces during the Civil War and was captured in September 1864.',\n",
       " 'Appomattox Court House': 'A small town in Virginia where General Robert E. Lee surrendered to General Ulysses S. Grant, effectively ending the Civil War, on April 9, 1865.',\n",
       " 'Union costs': 'The financial expenses incurred by the Union during the Civil War, which amounted to $6.1 billion and experienced an inflation rate of 80 percent.',\n",
       " 'Confederate costs': 'The financial expenses incurred by the Confederacy during the Civil War, which amounted to $2 billion and experienced an inflation rate of 9,000 percent.',\n",
       " 'Gilded Age': 'A term used to describe the period following the Civil War in the United States, characterized by rapid industrialization and economic growth, but also marked by social and political disillusionment.',\n",
       " 'Land Grant College Act': 'Legislation passed by Congress in 1862 that provided federal funding to states for the establishment of universities focused on teaching agriculture and mechanical arts.',\n",
       " 'protective tariff': 'Legislation passed by Congress in 1862 that imposed taxes on imported goods, protecting northern industries from foreign competition and generating revenue for the Union war effort.',\n",
       " 'Mathew Brady': 'A prominent American photographer known for his documentation of the Civil War through photographs, including his exhibition \"The Dead at Antietam,\" which provided graphic evidence of the realities of war.'}"
      ]
     },
     "execution_count": 118,
     "metadata": {},
     "output_type": "execute_result"
    }
   ],
   "source": [
    "d4"
   ]
  },
  {
   "cell_type": "code",
   "execution_count": 116,
   "metadata": {},
   "outputs": [
    {
     "data": {
      "text/plain": [
       "{'Union forces': 'The military forces that fought for the Union during the Civil War.',\n",
       " 'Confederate forces': 'The military forces that fought for the Confederacy during the Civil War.',\n",
       " 'Union victory': 'The outcome of a battle or the overall result of the Civil War in favor of the Union.',\n",
       " 'Confederate victory': 'The outcome of a battle or the overall result of the Civil War in favor of the Confederacy.',\n",
       " 'Gettysburg': 'A town in Pennsylvania where a major battle of the Civil War took place in 1863. Additionally, A location where a major battle took place during the Civil War.',\n",
       " 'Petersburg': 'A city in Virginia where a major battle of the Civil War took place in 1864-1865. Additionally, A location where a major battle took place during the Civil War.',\n",
       " 'Atlanta': 'A city in Georgia that was a major target for Union forces during the Civil War. Additionally, A location where a major battle took place during the Civil War.',\n",
       " 'Appomattox Court House': 'A village in Virginia where General Robert E. Lee surrendered to General Ulysses S. Grant, effectively ending the Civil War. Additionally, A location where the Confederate armies surrendered to Union troops at the end of the Civil War.',\n",
       " 'Union costs': 'The financial expenses incurred by the Union during the Civil War. Additionally, The amount of money spent by the Union during the Civil War.',\n",
       " 'Confederate costs': 'The financial expenses incurred by the Confederacy during the Civil War. Additionally, The amount of money spent by the Confederacy during the Civil War.',\n",
       " 'Land Grant College Act': 'Legislation passed by Congress in 1862 that provided funding for the establishment of universities focused on agriculture and mechanical arts. Additionally, Legislation passed by Congress in 1862 that provided money for the establishment of universities teaching agriculture and mechanical arts.',\n",
       " 'protective tariff': 'A tax imposed on imported goods to protect domestic industries from foreign competition.',\n",
       " 'Gilded Age': 'A term used to describe the period of rapid economic growth and industrialization in the United States following the Civil War.',\n",
       " 'Mathew Brady': \"A renowned American photographer who documented the Civil War through his photographs, providing a visual record of the war's devastation.\",\n",
       " 'Union': 'The side that emerged victorious in the Civil War.',\n",
       " 'Confederacy': 'The side that was defeated in the Civil War.',\n",
       " 'Protective tariff': 'Legislation passed by Congress in 1862 that protected northern industry from foreign competition and raised revenue for the Union war effort.'}"
      ]
     },
     "execution_count": 116,
     "metadata": {},
     "output_type": "execute_result"
    }
   ],
   "source": [
    "d3"
   ]
  },
  {
   "cell_type": "code",
   "execution_count": 97,
   "metadata": {},
   "outputs": [
    {
     "data": {
      "text/plain": [
       "{'Union': 'The group of states that remained loyal to the United States government during the Civil War.',\n",
       " 'Confederate': 'The group of states that seceded from the United States and formed their own government during the Civil War.',\n",
       " 'Union forces': 'The military forces of the Union during the Civil War.',\n",
       " 'Confederate forces': 'The military forces of the Confederacy during the Civil War.',\n",
       " 'Union victory': 'A military victory achieved by the Union forces during the Civil War.',\n",
       " 'Confederate victory': 'A military victory achieved by the Confederate forces during the Civil War.',\n",
       " 'Gettysburg': 'A town in Pennsylvania where a major battle took place during the Civil War.',\n",
       " 'Petersburg': 'A city in Virginia where a major battle took place during the Civil War.',\n",
       " 'Atlanta': 'A city in Georgia where a major battle took place during the Civil War.',\n",
       " 'Appomattox Court House': 'The location in Virginia where General Robert E. Lee surrendered to General Ulysses S. Grant, effectively ending the Civil War.',\n",
       " 'Civil War': 'A war fought from 1861 to 1865 between the Union states and the Confederate states in the United States.',\n",
       " 'inflation': 'A general increase in prices and fall in the purchasing value of money.',\n",
       " 'Union costs': 'The financial expenses incurred by the Union during the Civil War.',\n",
       " 'Confederate costs': 'The financial expenses incurred by the Confederacy during the Civil War.',\n",
       " 'Land Grant College Act': 'Legislation passed by Congress in 1862 that provided federal land to states for the establishment of universities focused on agriculture and mechanical arts.',\n",
       " 'protective tariff': 'A tax on imported goods designed to protect domestic industries from foreign competition.',\n",
       " 'Gilded Age': 'A term used to describe the period of rapid economic growth in the United States following the Civil War, characterized by wealth and corruption.',\n",
       " 'industrialization': 'The process of developing industries on a large scale.',\n",
       " 'Reconstruction': 'The period after the Civil War when the United States government worked to rebuild the Southern states and integrate former slaves into society.'}"
      ]
     },
     "execution_count": 97,
     "metadata": {},
     "output_type": "execute_result"
    }
   ],
   "source": [
    "d2"
   ]
  },
  {
   "cell_type": "code",
   "execution_count": 146,
   "metadata": {},
   "outputs": [
    {
     "data": {
      "text/plain": [
       "{'President Lincoln': 'The leader of the North during the Civil War who played a crucial role in keeping the nation together and issued the Emancipation Proclamation.',\n",
       " 'Emancipation Proclamation': 'A decision made by President Lincoln that declared all slaves in Confederate territory to be free.',\n",
       " 'Gilded Age': 'A period of time following the Civil War characterized by economic growth and industrialization in the North, but also marked by social and political disillusionment.',\n",
       " 'Land Grant College Act': 'Legislation passed by Congress in 1862 that provided money from the sale of public lands to states for the establishment of universities focused on agriculture and mechanical arts.',\n",
       " 'Protective tariff': 'Legislation passed by Congress in 1862 that imposed taxes on imported goods, protecting northern industries from foreign competition and generating revenue for the Union war effort.',\n",
       " 'Industrialization': 'The process of developing industries on a large scale, which occurred in the North after the Civil War and contributed to the United States becoming a global economic power.',\n",
       " 'Reconstruction': 'The period of rebuilding and recovery in the South after the Civil War, which was slow and difficult due to the destruction of cities, factories, and railroads.',\n",
       " 'Gettysburg': 'A significant battle during the Civil War that took place in Gettysburg, Pennsylvania, and resulted in a Union victory.',\n",
       " 'Petersburg': 'A city in Virginia that was the site of a major battle during the Civil War, where Union forces laid siege to Confederate defenses.',\n",
       " 'Atlanta': 'A city in Georgia that was a key target for Union forces during the Civil War and was eventually captured, leading to a significant blow to the Confederacy.',\n",
       " 'Appomattox Court House': 'The location in Virginia where General Robert E. Lee surrendered to General Ulysses S. Grant, effectively ending the Civil War.'}"
      ]
     },
     "execution_count": 146,
     "metadata": {},
     "output_type": "execute_result"
    }
   ],
   "source": [
    "d1"
   ]
  },
  {
   "cell_type": "markdown",
   "metadata": {},
   "source": [
    "TRY 3"
   ]
  },
  {
   "cell_type": "code",
   "execution_count": 54,
   "metadata": {},
   "outputs": [],
   "source": [
    "service_context = ServiceContext.from_defaults(llm=llm, chunk_size=1024)\n"
   ]
  },
  {
   "cell_type": "code",
   "execution_count": 55,
   "metadata": {},
   "outputs": [
    {
     "name": "stdout",
     "output_type": "stream",
     "text": [
      "current doc id: 2bf012bf-1f2f-435e-bd02-4e7232c836f6\n",
      "current doc id: 8f0af6f5-d4a1-4896-8bea-59c8744d2daf\n"
     ]
    },
    {
     "data": {
      "text/plain": [
       "<llama_index.indices.document_summary.base.DocumentSummaryIndex at 0x20b38c28710>"
      ]
     },
     "execution_count": 55,
     "metadata": {},
     "output_type": "execute_result"
    }
   ],
   "source": [
    "response_synthesizer = get_response_synthesizer(\n",
    "    response_mode=\"tree_summarize\", use_async=True\n",
    ")\n",
    "DocumentSummaryIndex.from_documents(\n",
    "    page2,\n",
    "    service_context=service_context,\n",
    "    response_synthesizer=response_synthesizer\n",
    "    \n",
    ")"
   ]
  },
  {
   "cell_type": "code",
   "execution_count": 87,
   "metadata": {},
   "outputs": [],
   "source": [
    "pear1 = extract_terms(index4)"
   ]
  },
  {
   "cell_type": "code",
   "execution_count": 88,
   "metadata": {},
   "outputs": [
    {
     "data": {
      "text/plain": [
       "{'President Lincoln': 'The leader of the North during the Civil War who provided steady leadership and made the fateful decision to issue the Emancipation Proclamation.',\n",
       " 'North': 'Refers to the northern states of the United States during the Civil War, which enjoyed the leadership of President Lincoln and ultimately prevailed in the war.',\n",
       " 'Civil War': 'A war fought between the northern states (Union) and the southern states (Confederacy) in the United States from 1861 to 1865.',\n",
       " 'Reconstruction': 'The period after the Civil War in which the United States government worked to rebuild and reunite the country, particularly focusing on the rebuilding of the South.',\n",
       " 'Gilded Age': 'The era following the Civil War characterized by rapid industrialization and economic growth in the North, but also marked by social and political disillusionment and underlying decay.',\n",
       " 'Land Grant College Act': 'Legislation passed by Congress in 1862 that provided money from the sale of public lands to states for the establishment of universities that taught \"agriculture and mechanical arts.\"',\n",
       " 'Protective tariff': 'Legislation passed by Congress in 1862 that imposed taxes on imported goods, protecting northern industry from foreign competition and raising revenue for the Union war effort.',\n",
       " 'Mathew Brady': 'A journalist and photographer who documented the carnage of the Civil War through his photographs, including the exhibition \"The Dead at Antietam,\" which provided graphic evidence of the realities of war.'}"
      ]
     },
     "execution_count": 88,
     "metadata": {},
     "output_type": "execute_result"
    }
   ],
   "source": [
    "pear1"
   ]
  },
  {
   "cell_type": "code",
   "execution_count": 28,
   "metadata": {},
   "outputs": [],
   "source": [
    "civil_war_info = {\n",
    "    \"Casualties\": \"Over 600,000 Americans died in the Civil War.\",\n",
    "    \"Civil War death toll\": \"Over half a million soldiers died in the Civil War.\",\n",
    "    \"Confederate costs\": \"The total cost of the war for the Confederacy: $2 billion; inflation 9,000 percent.\",\n",
    "    \"Confederate victory\": \"The outcome of the Civil War, with the Confederate forces prevailing.\",\n",
    "    \"Crippled southern industry\": \"Southern industry suffered greatly after the war.\",\n",
    "    \"Destroyed infrastructure\": \"Southern farms, factories, and railroads were destroyed during the war.\",\n",
    "    \"Emancipation Proclamation\": \"Lincoln's decision to free slaves, changing the nature of the war.\",\n",
    "    \"Gilded Age\": \"A term for the era following the war, characterized by superficial glitter and underlying decay.\",\n",
    "    \"Industrial boom\": \"Northern industrial growth fueled by the war.\",\n",
    "    \"Land Grant College Act\": \"An act passed by Congress to establish universities teaching agriculture and mechanical arts.\",\n",
    "    \"Material devastation\": \"The South suffered material devastation for decades after the war.\",\n",
    "    \"Mathew Brady\": \"A journalist who captured the carnage of the battlefield through photography.\",\n",
    "    \"Modern warfare\": \"The Civil War introduced the harsh reality of modern warfare.\",\n",
    "    \"Northern industrialization\": \"Sweeping industrialization after the war, making the US a global economic power.\",\n",
    "    \"President Lincoln\": \"Provided steady leadership during the Civil War.\",\n",
    "    \"Protective tariff\": \"Legislation that protected northern industry and raised revenue for the Union war effort.\",\n",
    "    \"Rebuilding the South\": \"A slow and tortured process after the war, with cities and factories in ruins.\",\n",
    "    \"Union blockade\": \"Union forces blocked Confederate ports during the war.\",\n",
    "    \"Union costs\": \"The total cost of the war for the Union: $6.1 billion; inflation 80 percent.\",\n",
    "    \"Union victory\": \"The outcome of the Civil War, with the Union forces prevailing.\"\n",
    "}\n",
    "\n"
   ]
  },
  {
   "cell_type": "code",
   "execution_count": 29,
   "metadata": {},
   "outputs": [
    {
     "data": {
      "text/plain": [
       "{'Casualties': 'Over 600,000 Americans died in the Civil War.',\n",
       " 'Civil War death toll': 'Over half a million soldiers died in the Civil War.',\n",
       " 'Confederate costs': 'The total cost of the war for the Confederacy: $2 billion; inflation 9,000 percent.',\n",
       " 'Confederate victory': 'The outcome of the Civil War, with the Confederate forces prevailing.',\n",
       " 'Crippled southern industry': 'Southern industry suffered greatly after the war.',\n",
       " 'Destroyed infrastructure': 'Southern farms, factories, and railroads were destroyed during the war.',\n",
       " 'Emancipation Proclamation': \"Lincoln's decision to free slaves, changing the nature of the war.\",\n",
       " 'Gilded Age': 'A term for the era following the war, characterized by superficial glitter and underlying decay.',\n",
       " 'Industrial boom': 'Northern industrial growth fueled by the war.',\n",
       " 'Land Grant College Act': 'An act passed by Congress to establish universities teaching agriculture and mechanical arts.',\n",
       " 'Material devastation': 'The South suffered material devastation for decades after the war.',\n",
       " 'Mathew Brady': 'A journalist who captured the carnage of the battlefield through photography.',\n",
       " 'Modern warfare': 'The Civil War introduced the harsh reality of modern warfare.',\n",
       " 'Northern industrialization': 'Sweeping industrialization after the war, making the US a global economic power.',\n",
       " 'President Lincoln': 'Provided steady leadership during the Civil War.',\n",
       " 'Protective tariff': 'Legislation that protected northern industry and raised revenue for the Union war effort.',\n",
       " 'Rebuilding the South': 'A slow and tortured process after the war, with cities and factories in ruins.',\n",
       " 'Union blockade': 'Union forces blocked Confederate ports during the war.',\n",
       " 'Union costs': 'The total cost of the war for the Union: $6.1 billion; inflation 80 percent.',\n",
       " 'Union victory': 'The outcome of the Civil War, with the Union forces prevailing.'}"
      ]
     },
     "execution_count": 29,
     "metadata": {},
     "output_type": "execute_result"
    }
   ],
   "source": [
    "civil_war_info \n"
   ]
  },
  {
   "cell_type": "markdown",
   "metadata": {},
   "source": [
    "TRY 2"
   ]
  },
  {
   "cell_type": "code",
   "execution_count": 50,
   "metadata": {},
   "outputs": [],
   "source": [
    "transformations = [\n",
    "    TokenTextSplitter(chunk_size=128, chunk_overlap=64),\n",
    "    TitleExtractor(nodes=5),\n",
    "    QuestionsAnsweredExtractor(questions=3),\n",
    "]\n",
    "\n",
    "service_context = ServiceContext.from_defaults(\n",
    "    transformations=transformations\n",
    ")"
   ]
  },
  {
   "cell_type": "markdown",
   "metadata": {},
   "source": [
    "TRY 1"
   ]
  },
  {
   "cell_type": "code",
   "execution_count": 65,
   "metadata": {},
   "outputs": [],
   "source": [
    "def get_llm(openai_api_key, max_tokens=8192):\n",
    "    os.environ[\"OPENAI_API_KEY\"] = openai_api_key\n",
    "    return OpenAI(\n",
    "        temperature=0.0, model='gpt-3.5-turbo-16k', max_tokens=max_tokens\n",
    "    )"
   ]
  },
  {
   "cell_type": "code",
   "execution_count": 66,
   "metadata": {},
   "outputs": [],
   "source": [
    "def get_summmary_index(documents, llm, api_key):\n",
    "\n",
    "    service_context = ServiceContext.from_defaults(llm=llm, chunk_size=256, chunk_overlap=64)\n",
    "\n",
    "    response_synthesizer = get_response_synthesizer(\n",
    "    response_mode=\"tree_summarize\", use_async=True\n",
    "    )\n",
    "    \n",
    "    temp_index = SummaryIndex.from_documents(\n",
    "        documents, \n",
    "        service_context=service_context\n",
    "    )\n",
    "\n",
    "    return llm, temp_index"
   ]
  },
  {
   "cell_type": "code",
   "execution_count": 84,
   "metadata": {},
   "outputs": [],
   "source": [
    "retreiver = index4.as_retriever()"
   ]
  },
  {
   "cell_type": "code",
   "execution_count": 100,
   "metadata": {},
   "outputs": [],
   "source": [
    "\n",
    "\n",
    "prompt1 = (\n",
    "    \"for the following ducoment think carefully to Make a list of terms and definitions that are defined in the context. make sure that all possible defintions are found as my life depends on the accuracy, \"\n",
    "    \"with one pair on each line. \"\n",
    "    \"If a term is missing it's definition, use your best judgment. \"\n",
    "    \"Write each line as as follows:\\nTerm: <term> Definition: <definition>\"\n",
    ")\n",
    "\n",
    "prompt2 = (\n",
    "    \"Make a list of terms and definitions that are defined in the context, \"\n",
    "    \"with one pair on each line. \"\n",
    "    \"If a term is missing it's definition, use your best judgment. \"\n",
    "    \"Write each line as as follows:\\nTerm: <term> Definition: <definition>\"\n",
    ")\n",
    "\n",
    "prompt3 = (\n",
    "    \"Carefully review the content and identify key terms along with their definitions. \"\n",
    "    \"Please ensure each term and its corresponding definition are clearly identified and related to the context. \"\n",
    "    \"Format the output with one term-definition pair per line for easy readability. \"\n",
    "    \"In cases where a term's definition is not explicitly stated, use informed judgment to provide a concise, accurate definition. \"\n",
    "    \"If there is a name which has importance also include this as a term and then create a definition\"\n",
    "    \"Present the information in the following structured format:\\n\"\n",
    "    \"Term: <term>\\nDefinition: <definition>\\n\"\n",
    "    \"---\\n\"\n",
    "    \"Repeat this structure for each term-definition pair. Ensure accuracy and relevance in the context of the document.\"\n",
    ")\n",
    "\n",
    "prompt4 = (\n",
    "    \"Make a list of terms and definitions that are defined in the context, \"\n",
    "    \"Carefully review the content and identify key terms along with their definitions. \"\n",
    "    \"Please ensure each term and its corresponding definition are clearly identified and related to the context. \"\n",
    "    \"Format the output with one term-definition pair per line for easy readability. \"\n",
    "    \"In cases where a term's definition is not explicitly stated, use informed judgment to provide a concise, accurate definition. \"\n",
    "    \"If there is a name which has importance also include this as a term and then create a definition\"\n",
    "    \"Present the information in the following structured format:\\n\"\n",
    "    \"Term: <term>\\nDefinition: <definition>\\n\"\n",
    "    \"---\\n\"\n",
    "    \"Repeat this structure for each term-definition pair. Ensure accuracy and relevance in the context of the document.\"\n",
    ")\n",
    "\n",
    "prompt6 = (\n",
    "    \"Make a list of terms and definitions that are defined in the context, \"\n",
    "    \"with one pair on each line. \"\n",
    "    \"If a term is missing it's definition, use your best judgment. \"\n",
    "    \"If there is a name which has importance also include this as a term and then create a definition\"\n",
    "    \"Write each line as as follows:\\nTerm: <term> Definition: <definition>\"\n",
    ")\n",
    "\n",
    "prompt7 = (\n",
    "    \"Make a list of terms and definitions that are defined in the context, \"\n",
    "    \"with one pair on each line. Remember, sometimes a name or a title itself can serve as a definition. \"\n",
    "    \"If a term is missing its definition, use your best judgment. \"\n",
    "    \"In cases where context provides multiple interpretations, select the most relevant one. \"\n",
    "    \"Write each line as follows:\\nTerm: <term> Definition: <definition>\"\n",
    ")\n",
    "prompt8 = (\n",
    "    \"Make a list of terms and definitions that are defined in the context, \"\n",
    "    \"with one pair on each line. Note that formal names, like 'Mathew Brady' or 'Michael Duke', should be terms and should be given a definition. \"\n",
    "    \"If a term is missing its definition, use your best judgment. \"\n",
    "    \"This task is crucial, as if my life depends on it, so please ensure the utmost accuracy and relevance. \"\n",
    "    \"Write each line as follows:\\nTerm: <term> Definition: <definition>\"\n",
    ")\n",
    "\n",
    "prompt9 = (\n",
    "    \"Make a list of terms and definitions that are defined in the context, \"\n",
    "    \"including all names mentioned in the text, as names are key terms too. \"\n",
    "    \"with one pair on each line, ensure no name or term is overlooked. \"\n",
    "    \"If a term, especially a name, is missing its definition, use your best judgment to provide one. \"\n",
    "    \"This task is critically important, as vital information hinges on it. \"\n",
    "    \"Write each line as follows:\\nTerm: <term> Definition: <definition>\"\n",
    ")"
   ]
  },
  {
   "cell_type": "code",
   "execution_count": 103,
   "metadata": {},
   "outputs": [],
   "source": [
    "def extract_terms(index, prompts, tp=1):\n",
    "    query_engine = index.as_query_engine(similarity_top_k=tp)\n",
    "\n",
    "    all_terms_to_definition = {}\n",
    "    for prompt in prompts:\n",
    "        terms_definitions = str(query_engine.query(prompt))\n",
    "        terms_definitions = [\n",
    "            x\n",
    "            for x in terms_definitions.split(\"\\n\")\n",
    "            if x and \"Term:\" in x and \"Definition:\" in x\n",
    "        ]\n",
    "        for term_definition in terms_definitions:\n",
    "            term = term_definition.split(\"Definition:\")[0].split(\"Term:\")[-1].strip()\n",
    "            definition = term_definition.split(\"Definition:\")[-1].strip()\n",
    "\n",
    "            if term in all_terms_to_definition:\n",
    "                # Combine definitions if they are different\n",
    "                if all_terms_to_definition[term] != definition:\n",
    "                    all_terms_to_definition[term] += \" Additionally, \" + definition\n",
    "            else:\n",
    "                all_terms_to_definition[term] = definition\n",
    "\n",
    "    return all_terms_to_definition\n",
    "\n"
   ]
  },
  {
   "cell_type": "code",
   "execution_count": 75,
   "metadata": {},
   "outputs": [],
   "source": [
    "llm = get_llm(OPENAI_API_KEY)\n"
   ]
  },
  {
   "cell_type": "code",
   "execution_count": 85,
   "metadata": {},
   "outputs": [
    {
     "ename": "NameError",
     "evalue": "name 'get_summary_index' is not defined",
     "output_type": "error",
     "traceback": [
      "\u001b[1;31m---------------------------------------------------------------------------\u001b[0m",
      "\u001b[1;31mNameError\u001b[0m                                 Traceback (most recent call last)",
      "Cell \u001b[1;32mIn[85], line 1\u001b[0m\n\u001b[1;32m----> 1\u001b[0m llm2, i256 \u001b[38;5;241m=\u001b[39m get_summary_index(page2, llm2, OPENAI_API_KEY)\n",
      "\u001b[1;31mNameError\u001b[0m: name 'get_summary_index' is not defined"
     ]
    }
   ],
   "source": [
    "llm2, i256 = get_summary_index(page2, llm2, OPENAI_API_KEY)"
   ]
  },
  {
   "cell_type": "code",
   "execution_count": 86,
   "metadata": {},
   "outputs": [
    {
     "ename": "NameError",
     "evalue": "name 'i256' is not defined",
     "output_type": "error",
     "traceback": [
      "\u001b[1;31m---------------------------------------------------------------------------\u001b[0m",
      "\u001b[1;31mNameError\u001b[0m                                 Traceback (most recent call last)",
      "Cell \u001b[1;32mIn[86], line 1\u001b[0m\n\u001b[1;32m----> 1\u001b[0m i256\u001b[38;5;241m.\u001b[39mstorage_context\u001b[38;5;241m.\u001b[39mpersist(persist_dir\u001b[38;5;241m=\u001b[39m\u001b[38;5;124m\"\u001b[39m\u001b[38;5;124mC:/Users/zachk/OneDrive/Desktop/Uflo/Indexes\u001b[39m\u001b[38;5;124m\"\u001b[39m)\n",
      "\u001b[1;31mNameError\u001b[0m: name 'i256' is not defined"
     ]
    }
   ],
   "source": [
    "i256.storage_context.persist(persist_dir=\"C:/Users/zachk/OneDrive/Desktop/Uflo/Indexes\")"
   ]
  },
  {
   "cell_type": "code",
   "execution_count": 46,
   "metadata": {},
   "outputs": [
    {
     "ename": "NameError",
     "evalue": "name 'index3' is not defined",
     "output_type": "error",
     "traceback": [
      "\u001b[1;31m---------------------------------------------------------------------------\u001b[0m",
      "\u001b[1;31mNameError\u001b[0m                                 Traceback (most recent call last)",
      "Cell \u001b[1;32mIn[46], line 1\u001b[0m\n\u001b[1;32m----> 1\u001b[0m index3\u001b[38;5;241m.\u001b[39mstorage_context\u001b[38;5;241m.\u001b[39mpersist(persist_dir\u001b[38;5;241m=\u001b[39m\u001b[38;5;124m\"\u001b[39m\u001b[38;5;124mC:/Users/jrdef/Documents\u001b[39m\u001b[38;5;124m\"\u001b[39m)\n",
      "\u001b[1;31mNameError\u001b[0m: name 'index3' is not defined"
     ]
    }
   ],
   "source": [
    "index3.storage_context.persist(persist_dir=\"C:/Users/zachk/OneDrive/Desktop/Uflo/Indexes\")"
   ]
  },
  {
   "cell_type": "code",
   "execution_count": 44,
   "metadata": {},
   "outputs": [],
   "source": [
    "from llama_index.storage.docstore import SimpleDocumentStore\n",
    "from llama_index.storage.index_store import SimpleIndexStore\n",
    "from llama_index import (\n",
    "    load_index_from_storage,\n",
    "    load_indices_from_storage,\n",
    "    load_graph_from_storage,\n",
    ")"
   ]
  },
  {
   "cell_type": "code",
   "execution_count": 78,
   "metadata": {},
   "outputs": [],
   "source": [
    "storage_context = StorageContext.from_defaults(\n",
    "    docstore= SimpleDocumentStore.from_persist_dir(persist_dir=\"C:/Users/zachk/OneDrive/Desktop/Uflo/Indexes\"),\n",
    "    index_store=SimpleIndexStore.from_persist_dir(persist_dir=\"C:/Users/zachk/OneDrive/Desktop/Uflo/Indexes\")\n",
    ")"
   ]
  },
  {
   "cell_type": "code",
   "execution_count": 79,
   "metadata": {},
   "outputs": [],
   "source": [
    "index4 = load_index_from_storage(storage_context)\n"
   ]
  },
  {
   "cell_type": "code",
   "execution_count": 80,
   "metadata": {},
   "outputs": [
    {
     "ename": "NameError",
     "evalue": "name 'i256' is not defined",
     "output_type": "error",
     "traceback": [
      "\u001b[1;31m---------------------------------------------------------------------------\u001b[0m",
      "\u001b[1;31mNameError\u001b[0m                                 Traceback (most recent call last)",
      "Cell \u001b[1;32mIn[80], line 1\u001b[0m\n\u001b[1;32m----> 1\u001b[0m b4 \u001b[38;5;241m=\u001b[39m extract_terms(i256,\u001b[38;5;241m5\u001b[39m)\n",
      "\u001b[1;31mNameError\u001b[0m: name 'i256' is not defined"
     ]
    }
   ],
   "source": [
    "b4 = extract_terms(i256,5)"
   ]
  },
  {
   "cell_type": "code",
   "execution_count": 133,
   "metadata": {},
   "outputs": [
    {
     "data": {
      "text/plain": [
       "{'President Lincoln': 'The leader of the North during the Civil War who played a crucial role in keeping the nation together and made the decision to issue the Emancipation Proclamation.',\n",
       " 'Emancipation Proclamation': 'A proclamation issued by President Lincoln during the Civil War that declared all slaves in Confederate territory to be free.',\n",
       " 'Gilded Age': \"The period following the Civil War characterized by rapid industrialization and economic growth in the North, while the South struggled to recover from the war's devastation.\",\n",
       " 'Land Grant College Act': 'Legislation passed by Congress in 1862 that provided funding for the establishment of universities focused on agriculture and mechanical arts through the sale of public lands.',\n",
       " 'Protective tariff': 'A tariff imposed by Congress after the Civil War to protect northern industries from foreign competition and generate revenue for the Union war effort.',\n",
       " 'Industrialization': 'The process of developing industries on a large scale, which occurred in the North after the Civil War and helped the United States become a global economic power.',\n",
       " 'Rebuilding the South': 'The slow and difficult process of recovering and reconstructing the Southern states after the Civil War, which involved rebuilding cities, factories, and railroads.',\n",
       " 'Gettysburg': 'A significant battle during the Civil War that took place in Gettysburg, Pennsylvania, in 1863 and resulted in a Union victory.',\n",
       " 'Petersburg': 'A city in Virginia that was the site of a major battle during the Civil War and was besieged by Union forces for several months before falling in 1865.',\n",
       " 'Atlanta': 'A city in Georgia that was a key transportation hub and industrial center during the Civil War and was captured by Union forces in 1864.',\n",
       " 'Appomattox Court House': 'The location in Virginia where General Robert E. Lee surrendered to General Ulysses S. Grant, effectively ending the Civil War in 1865.'}"
      ]
     },
     "execution_count": 133,
     "metadata": {},
     "output_type": "execute_result"
    }
   ],
   "source": [
    "b4"
   ]
  },
  {
   "cell_type": "code",
   "execution_count": 127,
   "metadata": {},
   "outputs": [
    {
     "data": {
      "text/plain": [
       "{'President Lincoln': 'The leader of the North during the Civil War who played a crucial role in keeping the nation together and made the fateful decision to issue the Emancipation Proclamation.',\n",
       " 'Emancipation Proclamation': 'A proclamation issued by President Lincoln that declared all slaves in Confederate territory to be free, changing the nature of the war and inspiring thousands of African Americans to join the Union cause.',\n",
       " 'Gilded Age': \"The period following the Civil War characterized by rapid industrialization and economic growth in the North, while the South struggled to rebuild and recover from the war's devastation.\",\n",
       " 'Land Grant College Act': 'Legislation passed by Congress in 1862 that provided funding from the sale of public lands to establish universities focused on agriculture and mechanical arts, contributing to the growth of education and industry in the North.',\n",
       " 'Protective tariff': 'Legislation passed by Congress in 1862 that imposed taxes on imported goods, protecting northern industries from foreign competition and generating revenue for the Union war effort.',\n",
       " 'Industrialization': 'The process of developing industries and manufacturing on a large scale, which occurred in the North after the Civil War and helped the United States become a global economic power.',\n",
       " 'Defensive war': 'A strategy adopted by the Confederacy after significant defeats in 1863, focusing on defending their territory rather than launching offensive campaigns.',\n",
       " 'Appomattox Court House': 'The location where General Robert E. Lee surrendered to General Ulysses S. Grant on April 9, 1865, effectively ending the Civil War.',\n",
       " 'Inflation': 'A general increase in prices and decrease in the purchasing power of money, which was experienced to a much greater extent in the Confederate states during the Civil War.',\n",
       " 'Material devastation': 'The physical destruction and damage caused by the war, particularly in the South, where farms, factories, and railroads were destroyed, leading to long-lasting economic consequences.'}"
      ]
     },
     "execution_count": 127,
     "metadata": {},
     "output_type": "execute_result"
    }
   ],
   "source": [
    "b3"
   ]
  },
  {
   "cell_type": "code",
   "execution_count": 125,
   "metadata": {},
   "outputs": [
    {
     "data": {
      "text/plain": [
       "{'President Lincoln': 'The leader of the North during the Civil War who played a crucial role in keeping the nation together and made the decision to issue the Emancipation Proclamation.',\n",
       " 'Emancipation Proclamation': 'A proclamation issued by President Lincoln during the Civil War that declared all slaves in Confederate territory to be free.',\n",
       " 'Gilded Age': \"The period following the Civil War characterized by rapid industrialization and economic growth in the North, while the South struggled to recover from the war's devastation.\",\n",
       " 'Land Grant College Act': 'Legislation passed by Congress in 1862 that provided funding for the establishment of universities focused on agriculture and mechanical arts through the sale of public lands.',\n",
       " 'Protective tariff': 'A tariff imposed by Congress after the Civil War to protect northern industries from foreign competition and generate revenue for the Union war effort.',\n",
       " 'Industrialization': 'The process of developing industries on a large scale, which occurred in the North after the Civil War and helped the United States become a global economic power.',\n",
       " 'Defensive war': 'A type of warfare in which a side primarily focuses on defending its territory rather than launching offensive attacks, which the Confederacy adopted after suffering significant defeats in 1863.',\n",
       " 'Appomattox Court House': 'The location in Virginia where General Robert E. Lee surrendered to General Ulysses S. Grant, effectively ending the Civil War.',\n",
       " 'Inflation': 'A general increase in prices and decrease in the purchasing power of money, which occurred during the Civil War and affected both the Union and Confederate states.',\n",
       " 'Material devastation': \"The physical destruction and damage caused by the war, which had long-lasting effects on the South's economy and infrastructure.\"}"
      ]
     },
     "execution_count": 125,
     "metadata": {},
     "output_type": "execute_result"
    }
   ],
   "source": [
    "b2"
   ]
  },
  {
   "cell_type": "code",
   "execution_count": 121,
   "metadata": {},
   "outputs": [
    {
     "data": {
      "text/plain": [
       "{'President Lincoln': 'The leader of the North during the Civil War who provided steady leadership and made the fateful decision to issue the Emancipation Proclamation.',\n",
       " 'Emancipation': 'The act of freeing enslaved individuals, which was a fateful step taken by President Lincoln during the Civil War.',\n",
       " 'Northern spirits': 'The morale and determination of the people in the North during the Civil War, which was sustained by the leadership of President Lincoln and the determination of African Americans in the North.',\n",
       " 'Gilded Age': 'The era following the Civil War characterized by superficial glitter and beauty covering up underlying decay, marked by industrialization and economic growth in the North.',\n",
       " 'Land Grant College Act': 'Legislation passed by Congress in 1862 that provided money from the sale of public lands to states for the establishment of universities that taught agriculture and mechanical arts.',\n",
       " 'Protective tariff': 'Legislation passed by Congress in 1862 that protected northern industry from foreign competition and raised revenue for the Union war effort.',\n",
       " 'Industrialization': 'The process of developing industries on a large scale, which occurred in the North after the Civil War and helped the United States emerge as a global economic power.',\n",
       " 'Rebuilding the South': 'The slow and difficult process of recovering and reconstructing the Southern states after the Civil War, which was marked by the destruction of cities, factories, and railroads.',\n",
       " 'Gettysburg': 'A location where a significant battle took place during the Civil War, resulting in a Union victory and considered a turning point in the war.',\n",
       " 'Petersburg': \"A location where a significant battle took place during the Civil War, which was part of the Union's strategy to capture Richmond, the Confederate capital.\",\n",
       " 'Atlanta': 'A location where a significant battle took place during the Civil War, resulting in a Union victory and the capture of the city.',\n",
       " 'Appomattox Court House': 'The location where General Robert E. Lee surrendered to General Ulysses S. Grant, marking the end of the Civil War.',\n",
       " 'Confederate victory': 'A term used to indicate that the Confederate forces were successful in a particular battle or campaign during the Civil War.',\n",
       " 'Union victory': 'A term used to indicate that the Union forces were successful in a particular battle or campaign during the Civil War.',\n",
       " 'Defensive war': 'A strategy employed by the Confederacy after significant defeats in 1863, focusing on defending their territory rather than launching offensive attacks.',\n",
       " 'Union blockade': 'A strategy employed by the Union during the Civil War to block Southern ports and prevent the Confederacy from receiving supplies and support from abroad.',\n",
       " 'Civil War Deaths': 'The number of soldiers who died during the Civil War, which was staggering and resulted in more casualties than all other American wars combined.',\n",
       " 'Costs of War': 'The financial and material costs incurred during the Civil War, including the destruction of farms, factories, and railroads in the South and the crippling of Southern industry.'}"
      ]
     },
     "execution_count": 121,
     "metadata": {},
     "output_type": "execute_result"
    }
   ],
   "source": [
    "b1"
   ]
  },
  {
   "cell_type": "code",
   "execution_count": 97,
   "metadata": {},
   "outputs": [
    {
     "data": {
      "text/plain": [
       "{'President Lincoln': 'The leader of the North during the Civil War who played a crucial role in keeping the nation together and issued the Emancipation Proclamation.',\n",
       " 'Emancipation': 'The act of freeing enslaved individuals, which President Lincoln implemented through the Emancipation Proclamation during the Civil War.',\n",
       " 'Gilded Age': 'A period following the Civil War characterized by economic growth and industrialization in the North, but also marked by social and political disillusionment and underlying decay.',\n",
       " 'Land Grant College Act': 'Legislation passed by Congress in 1862 that provided money from the sale of public lands to states for the establishment of universities focused on agriculture and mechanical arts.',\n",
       " 'Protective tariff': 'Legislation passed by Congress in 1862 that imposed taxes on imported goods, protecting northern industries from foreign competition and generating revenue for the Union war effort.',\n",
       " 'Industrialization': 'The process of developing industries and manufacturing on a large scale, which occurred in the North after the Civil War and helped the United States become a global economic power.',\n",
       " 'Reconstruction': 'The period after the Civil War when the South was rebuilt and the United States attempted to address the social, political, and economic issues resulting from the war.',\n",
       " 'Confederacy': 'The group of southern states that seceded from the Union and fought against the North during the Civil War.',\n",
       " 'Union': 'The group of northern states that remained part of the United States and fought against the Confederacy during the Civil War.',\n",
       " 'Gettysburg': 'A significant battle during the Civil War that took place in Gettysburg, Pennsylvania, in 1863 and resulted in a Union victory, marking a turning point in the war.',\n",
       " 'Petersburg': 'A city in Virginia where a major battle took place during the Civil War in 1864-1865, resulting in a Union victory and the eventual fall of Richmond, the Confederate capital.',\n",
       " 'Atlanta': \"A city in Georgia that was a key target for Union forces during the Civil War, and its capture in 1864 played a significant role in securing Lincoln's reelection.\",\n",
       " 'Appomattox Court House': 'The location in Virginia where General Robert E. Lee surrendered to General Ulysses S. Grant in 1865, effectively ending the Civil War.'}"
      ]
     },
     "execution_count": 97,
     "metadata": {},
     "output_type": "execute_result"
    }
   ],
   "source": [
    "a8"
   ]
  },
  {
   "cell_type": "code",
   "execution_count": 93,
   "metadata": {},
   "outputs": [
    {
     "data": {
      "text/plain": [
       "{'President Lincoln': 'The leader of the North during the Civil War who played a crucial role in keeping the nation together and issued the Emancipation Proclamation.',\n",
       " 'Civil War': 'A war fought between the Northern states (Union) and the Southern states (Confederacy) in the United States from 1861 to 1865.',\n",
       " 'Modern warfare': 'A type of warfare characterized by advanced weaponry and tactics that resulted in high casualties and destruction, as seen in the Civil War.',\n",
       " 'Gilded Age': 'A period of American history following the Civil War characterized by rapid industrialization and economic growth, but also marked by social and political disillusionment.',\n",
       " 'Land Grant College Act': 'Legislation passed by Congress in 1862 that provided funding for the establishment of universities in states through the sale of public lands, with a focus on teaching agriculture and mechanical arts.',\n",
       " 'Protective tariff': 'Legislation passed by Congress in 1862 that imposed taxes on imported goods, protecting northern industries from foreign competition and generating revenue for the Union war effort.',\n",
       " 'Industrialization': 'The process of developing industries and transforming an economy from primarily agricultural to manufacturing-based, as seen in the North after the Civil War.',\n",
       " 'Reconstruction': 'The period after the Civil War when the United States government attempted to rebuild and restore the Southern states that had seceded from the Union.',\n",
       " 'Confederacy': 'The group of Southern states that seceded from the United States and fought against the Union during the Civil War.',\n",
       " 'Union': 'The group of Northern states that remained loyal to the United States government and fought against the Confederacy during the Civil War.'}"
      ]
     },
     "execution_count": 93,
     "metadata": {},
     "output_type": "execute_result"
    }
   ],
   "source": [
    "a7"
   ]
  },
  {
   "cell_type": "code",
   "execution_count": 85,
   "metadata": {},
   "outputs": [
    {
     "data": {
      "text/plain": [
       "{'President Lincoln': 'The leader of the North during the Civil War who played a crucial role in keeping the nation together and issued the Emancipation Proclamation.',\n",
       " 'Modern warfare': 'The type of warfare that was introduced during the Civil War, characterized by high casualties and the use of new technologies.',\n",
       " 'Gilded Age': 'The period following the Civil War characterized by economic greed and a superficial appearance of prosperity.',\n",
       " 'Land Grant College Act': 'Legislation passed by Congress in 1862 that provided money from the sale of public lands to states for the establishment of universities focused on agriculture and mechanical arts.',\n",
       " 'Protective tariff': 'Legislation passed by Congress in 1862 that imposed taxes on imported goods to protect northern industries and raise revenue for the Union war effort.',\n",
       " 'Industrialization': 'The process of developing industries and manufacturing on a large scale, which occurred in the North after the Civil War.',\n",
       " 'Reconstruction': 'The process of rebuilding the South after the Civil War, which was slow and difficult due to the destruction of cities, factories, and railroads.',\n",
       " 'Confederacy': 'The southern states that seceded from the Union and fought against the North during the Civil War.',\n",
       " 'Union': 'The northern states that remained part of the United States and fought against the Confederacy during the Civil War.',\n",
       " 'Gettysburg': 'A major battle of the Civil War that took place in Pennsylvania in 1863 and resulted in a Union victory.',\n",
       " 'Petersburg': 'A city in Virginia that was the site of a major battle during the Civil War in 1864-1865.',\n",
       " 'Atlanta': 'A city in Georgia that was captured by Union forces in 1864, leading to a significant blow to the Confederacy.',\n",
       " 'Appomattox Court House': 'The location in Virginia where General Robert E. Lee surrendered to General Ulysses S. Grant, effectively ending the Civil War.',\n",
       " 'Inflation': 'A general increase in prices and decrease in the purchasing power of money, which occurred during and after the Civil War.',\n",
       " 'Casualties': 'The number of people killed, wounded, or missing in action during a war or battle.',\n",
       " 'Emancipation Proclamation': 'The executive order issued by President Lincoln in 1862 that declared all slaves in Confederate territory to be free.'}"
      ]
     },
     "execution_count": 85,
     "metadata": {},
     "output_type": "execute_result"
    }
   ],
   "source": [
    "a6"
   ]
  },
  {
   "cell_type": "code",
   "execution_count": 75,
   "metadata": {},
   "outputs": [],
   "source": [
    "a_list = [a1, a2, a3, a4,a5]"
   ]
  },
  {
   "cell_type": "code",
   "execution_count": 43,
   "metadata": {},
   "outputs": [
    {
     "ename": "NameError",
     "evalue": "name 'a_list' is not defined",
     "output_type": "error",
     "traceback": [
      "\u001b[1;31m---------------------------------------------------------------------------\u001b[0m",
      "\u001b[1;31mNameError\u001b[0m                                 Traceback (most recent call last)",
      "Cell \u001b[1;32mIn[43], line 2\u001b[0m\n\u001b[0;32m      1\u001b[0m \u001b[38;5;66;03m# Step 1: Determine the Length of Each Dictionary\u001b[39;00m\n\u001b[1;32m----> 2\u001b[0m lengths \u001b[38;5;241m=\u001b[39m [\u001b[38;5;28mlen\u001b[39m(d) \u001b[38;5;28;01mfor\u001b[39;00m d \u001b[38;5;129;01min\u001b[39;00m a_list]\n\u001b[0;32m      4\u001b[0m \u001b[38;5;66;03m# Step 2: Find Common Keys\u001b[39;00m\n\u001b[0;32m      5\u001b[0m common_keys \u001b[38;5;241m=\u001b[39m \u001b[38;5;28mset\u001b[39m(a_list[\u001b[38;5;241m0\u001b[39m]\u001b[38;5;241m.\u001b[39mkeys())\n",
      "\u001b[1;31mNameError\u001b[0m: name 'a_list' is not defined"
     ]
    }
   ],
   "source": [
    "# Step 1: Determine the Length of Each Dictionary\n",
    "lengths = [len(d) for d in a_list]\n",
    "\n",
    "# Step 2: Find Common Keys\n",
    "common_keys = set(a_list[0].keys())\n",
    "for d in a_list[1:]:\n",
    "    common_keys.intersection_update(d.keys())\n",
    "\n",
    "# Step 3: Combine Values for Common Keys\n",
    "combined_dict = {}\n",
    "for key in common_keys:\n",
    "    combined_dict[key] = [d[key] for d in a_list if key in d]\n",
    "\n",
    "# Results\n",
    "print(\"Lengths of each dictionary:\", lengths)\n",
    "print(\"Common keys:\", common_keys)\n",
    "print(\"Combined dictionary for common keys:\", combined_dict)\n"
   ]
  },
  {
   "cell_type": "code",
   "execution_count": 81,
   "metadata": {},
   "outputs": [
    {
     "data": {
      "text/plain": [
       "{'President Lincoln': ['The leader of the North during the Civil War who played a crucial role in keeping the nation together and issued the Emancipation Proclamation.',\n",
       "  'The leader of the North during the Civil War who played a crucial role in keeping the nation together and issued the Emancipation Proclamation.',\n",
       "  'The leader of the North during the Civil War who played a crucial role in keeping the nation together and issued the Emancipation Proclamation.',\n",
       "  'The leader of the North during the Civil War who played a crucial role in keeping the nation together and issued the Emancipation Proclamation.',\n",
       "  'The leader of the North during the Civil War who played a crucial role in keeping the nation together and issued the Emancipation Proclamation.'],\n",
       " 'Protective tariff': ['Legislation passed by Congress in 1862 that imposed taxes on imported goods, protecting northern industries from foreign competition and generating revenue for the Union war effort.',\n",
       "  'Legislation passed by Congress in 1862 that imposed taxes on imported goods to protect northern industries from foreign competition and raise revenue for the Union war effort.',\n",
       "  'Legislation passed by Congress in 1862 that imposed taxes on imported goods, protecting northern industries from foreign competition and generating revenue for the Union war effort.',\n",
       "  'Legislation passed by Congress in 1862 that imposed taxes on imported goods, protecting northern industry from foreign competition and raising revenue for the Union war effort.',\n",
       "  'Legislation passed by Congress in 1862 that imposed taxes on imported goods to protect northern industries from foreign competition and raise revenue for the Union war effort.'],\n",
       " 'Union': ['The group of northern states that remained part of the United States and fought against the Confederacy during the Civil War.',\n",
       "  'The northern states that remained part of the United States and fought against the Confederacy during the Civil War.',\n",
       "  'The group of northern states that remained part of the United States and fought against the Confederacy during the Civil War.',\n",
       "  'The northern states that remained loyal to the United States government during the Civil War.',\n",
       "  'The group of northern states that remained part of the United States and fought against the Confederacy during the Civil War.'],\n",
       " 'Land Grant College Act': ['Legislation passed by Congress in 1862 that provided money from the sale of public lands to states for the establishment of universities focused on agriculture and mechanical arts.',\n",
       "  'Legislation passed by Congress in 1862 that provided money from the sale of public lands to states for the establishment of universities teaching agriculture and mechanical arts.',\n",
       "  'Legislation passed by Congress in 1862 that provided money from the sale of public lands to states for the establishment of universities focused on agriculture and mechanical arts.',\n",
       "  'Legislation passed by Congress in 1862 that provided money from the sale of public lands to states for the establishment of universities that taught \"agriculture and mechanical arts.\"',\n",
       "  'Legislation passed by Congress in 1862 that provided money from the sale of public lands to states for the establishment of universities teaching agriculture and mechanical arts.'],\n",
       " 'Industrialization': ['The process of developing industries on a large scale, which occurred in the North after the Civil War and helped the United States become a global economic power.',\n",
       "  'The process of developing industries on a large scale, which occurred in the North after the Civil War and helped the United States become a global economic power.',\n",
       "  'The process of developing industries on a large scale, which occurred in the North after the Civil War and helped the United States become a global economic power.',\n",
       "  'The process of developing industries on a large scale, which occurred in the North after the Civil War and helped the United States become a global economic power.',\n",
       "  'The process of developing industries on a large scale, which occurred in the North after the Civil War and helped the United States become a global economic power.'],\n",
       " 'Reconstruction': ['The process of rebuilding the South after the Civil War, which was slow and difficult due to the destruction of cities, factories, and railroads.',\n",
       "  'The process of rebuilding the South after the Civil War, which was slow and difficult due to the destruction of cities, factories, and railroads.',\n",
       "  'The process of rebuilding the South after the Civil War, which was slow and difficult due to the destruction of cities, factories, and railroads.',\n",
       "  'The process of rebuilding the South after the Civil War, which was slow and difficult due to the destruction of cities, factories, and railroads.',\n",
       "  'The process of rebuilding the South after the Civil War, which was slow and difficult due to the destruction of cities, factories, and railroads.'],\n",
       " 'Gilded Age': ['The period following the Civil War characterized by economic greed, social and political disillusionment, and rapid industrialization in the North.',\n",
       "  'The period following the Civil War characterized by economic greed and superficial glitter covering up underlying decay.',\n",
       "  'The period following the Civil War characterized by economic greed, social and political disillusionment, and rapid industrialization in the North.',\n",
       "  'The period following the Civil War characterized by economic greed and social and political disillusionment, particularly in the North.',\n",
       "  'The period following the Civil War characterized by economic greed and superficial glitter covering up underlying decay.'],\n",
       " 'Confederacy': ['The group of southern states that seceded from the Union and fought against the North during the Civil War.',\n",
       "  'The southern states that seceded from the Union and fought against the North during the Civil War.',\n",
       "  'The group of southern states that seceded from the Union and fought against the North during the Civil War.',\n",
       "  'The southern states that seceded from the Union and fought against the North during the Civil War.',\n",
       "  'The group of southern states that seceded from the Union and fought against the North during the Civil War.']}"
      ]
     },
     "execution_count": 81,
     "metadata": {},
     "output_type": "execute_result"
    }
   ],
   "source": [
    "combined_dict"
   ]
  },
  {
   "cell_type": "code",
   "execution_count": 74,
   "metadata": {},
   "outputs": [
    {
     "data": {
      "text/plain": [
       "{'President Lincoln': 'The leader of the North during the Civil War who played a crucial role in keeping the nation together and issued the Emancipation Proclamation.',\n",
       " 'Modern warfare': 'The type of warfare that was introduced during the Civil War, characterized by high casualties and the use of new technologies.',\n",
       " 'Gilded Age': 'The period following the Civil War characterized by economic greed and superficial glitter covering up underlying decay.',\n",
       " 'Land Grant College Act': 'Legislation passed by Congress in 1862 that provided money from the sale of public lands to states for the establishment of universities teaching agriculture and mechanical arts.',\n",
       " 'Protective tariff': 'Legislation passed by Congress in 1862 that imposed taxes on imported goods to protect northern industries from foreign competition and raise revenue for the Union war effort.',\n",
       " 'Industrialization': 'The process of developing industries on a large scale, which occurred in the North after the Civil War and helped the United States become a global economic power.',\n",
       " 'Reconstruction': 'The process of rebuilding the South after the Civil War, which was slow and difficult due to the destruction of cities, factories, and railroads.',\n",
       " 'Confederacy': 'The group of southern states that seceded from the Union and fought against the North during the Civil War.',\n",
       " 'Union': 'The group of northern states that remained part of the United States and fought against the Confederacy during the Civil War.',\n",
       " 'Emancipation Proclamation': 'The decision made by President Lincoln to free slaves in Confederate territory, which changed the nature of the war and inspired thousands of African Americans to join the Union cause.'}"
      ]
     },
     "execution_count": 74,
     "metadata": {},
     "output_type": "execute_result"
    }
   ],
   "source": [
    "a5"
   ]
  },
  {
   "cell_type": "code",
   "execution_count": 68,
   "metadata": {},
   "outputs": [
    {
     "data": {
      "text/plain": [
       "{'President Lincoln': 'The leader of the North during the Civil War who played a crucial role in keeping the nation together and issued the Emancipation Proclamation.',\n",
       " 'Modern warfare': 'The type of warfare that was introduced during the Civil War, characterized by high casualties and the use of new technologies.',\n",
       " 'Gilded Age': 'The period following the Civil War characterized by economic greed and social and political disillusionment, particularly in the North.',\n",
       " 'Land Grant College Act': 'Legislation passed by Congress in 1862 that provided money from the sale of public lands to states for the establishment of universities that taught \"agriculture and mechanical arts.\"',\n",
       " 'Protective tariff': 'Legislation passed by Congress in 1862 that imposed taxes on imported goods, protecting northern industry from foreign competition and raising revenue for the Union war effort.',\n",
       " 'Industrialization': 'The process of developing industries on a large scale, which occurred in the North after the Civil War and helped the United States become a global economic power.',\n",
       " 'Reconstruction': 'The process of rebuilding the South after the Civil War, which was slow and difficult due to the destruction of cities, factories, and railroads.',\n",
       " 'Confederacy': 'The southern states that seceded from the Union and fought against the North during the Civil War.',\n",
       " 'Union': 'The northern states that remained loyal to the United States government during the Civil War.',\n",
       " 'Emancipation Proclamation': 'The decision made by President Lincoln to free slaves in Confederate territory, which changed the nature of the war and inspired thousands of African Americans to join the Union cause.'}"
      ]
     },
     "execution_count": 68,
     "metadata": {},
     "output_type": "execute_result"
    }
   ],
   "source": [
    "a4"
   ]
  },
  {
   "cell_type": "code",
   "execution_count": 64,
   "metadata": {},
   "outputs": [
    {
     "data": {
      "text/plain": [
       "{'President Lincoln': 'The leader of the North during the Civil War who played a crucial role in keeping the nation together and issued the Emancipation Proclamation.',\n",
       " 'Modern warfare': 'The type of warfare that was introduced during the Civil War, characterized by high casualties and the use of new technologies.',\n",
       " 'Gilded Age': 'The period following the Civil War characterized by economic greed and a superficial appearance of prosperity, particularly in the North.',\n",
       " 'Land Grant College Act': 'Legislation passed by Congress in 1862 that provided money from the sale of public lands to states for the establishment of universities focused on agriculture and mechanical arts.',\n",
       " 'Protective tariff': 'Legislation passed by Congress in 1862 that imposed taxes on imported goods, protecting northern industries from foreign competition and generating revenue for the Union war effort.',\n",
       " 'Industrialization': 'The process of developing industries on a large scale, which occurred in the North after the Civil War and helped the United States become a global economic power.',\n",
       " 'Reconstruction': 'The process of rebuilding the South after the Civil War, which was slow and difficult due to the destruction of cities, factories, and railroads.',\n",
       " 'Confederacy': 'The group of southern states that seceded from the Union and fought against the North during the Civil War.',\n",
       " 'Union': 'The group of northern states that remained part of the United States and fought against the Confederacy during the Civil War.',\n",
       " 'Emancipation Proclamation': 'The decision made by President Lincoln to free enslaved people in Confederate territory, which changed the nature of the war and inspired thousands of African Americans to join the Union cause.'}"
      ]
     },
     "execution_count": 64,
     "metadata": {},
     "output_type": "execute_result"
    }
   ],
   "source": [
    "a3"
   ]
  },
  {
   "cell_type": "code",
   "execution_count": 69,
   "metadata": {},
   "outputs": [
    {
     "data": {
      "text/plain": [
       "{'President Lincoln': 'The leader of the North during the Civil War who played a crucial role in keeping the nation together and issued the Emancipation Proclamation.',\n",
       " 'Emancipation': 'The act of freeing enslaved individuals, which was a fateful step taken by President Lincoln during the Civil War.',\n",
       " 'Gilded Age': 'The period following the Civil War characterized by economic greed and superficial glitter covering up underlying decay.',\n",
       " 'Land Grant College Act': 'Legislation passed by Congress in 1862 that provided money from the sale of public lands to states for the establishment of universities teaching agriculture and mechanical arts.',\n",
       " 'Protective tariff': 'Legislation passed by Congress in 1862 that imposed taxes on imported goods to protect northern industries from foreign competition and raise revenue for the Union war effort.',\n",
       " 'Industrialization': 'The process of developing industries on a large scale, which occurred in the North after the Civil War and helped the United States become a global economic power.',\n",
       " 'Reconstruction': 'The process of rebuilding the South after the Civil War, which was slow and difficult due to the destruction of cities, factories, and railroads.',\n",
       " 'Confederacy': 'The southern states that seceded from the Union and fought against the North during the Civil War.',\n",
       " 'Union': 'The northern states that remained part of the United States and fought against the Confederacy during the Civil War.',\n",
       " 'Gettysburg': 'A significant battle during the Civil War that took place in Gettysburg, Pennsylvania, and resulted in a Union victory.',\n",
       " 'Petersburg': 'A city in Virginia that was the site of a major battle during the Civil War and was eventually captured by Union forces.',\n",
       " 'Atlanta': 'A city in Georgia that was a key Confederate stronghold during the Civil War and was eventually captured by Union forces.',\n",
       " 'Appomattox Court House': 'The location in Virginia where Confederate General Robert E. Lee surrendered to Union General Ulysses S. Grant, effectively ending the Civil War.'}"
      ]
     },
     "execution_count": 69,
     "metadata": {},
     "output_type": "execute_result"
    }
   ],
   "source": [
    "a2"
   ]
  },
  {
   "cell_type": "code",
   "execution_count": 72,
   "metadata": {},
   "outputs": [
    {
     "data": {
      "text/plain": [
       "{'President Lincoln': 'The leader of the North during the Civil War who played a crucial role in keeping the nation together and issued the Emancipation Proclamation.',\n",
       " 'Modern warfare': 'The type of warfare that was introduced during the Civil War, characterized by high casualties and the use of advanced weapons and tactics.',\n",
       " 'Gilded Age': 'The period following the Civil War characterized by economic greed, social and political disillusionment, and rapid industrialization in the North.',\n",
       " 'Land Grant College Act': 'Legislation passed by Congress in 1862 that provided money from the sale of public lands to states for the establishment of universities focused on agriculture and mechanical arts.',\n",
       " 'Protective tariff': 'Legislation passed by Congress in 1862 that imposed taxes on imported goods, protecting northern industries from foreign competition and generating revenue for the Union war effort.',\n",
       " 'Industrialization': 'The process of developing industries on a large scale, which occurred in the North after the Civil War and helped the United States become a global economic power.',\n",
       " 'Reconstruction': 'The process of rebuilding the South after the Civil War, which was slow and difficult due to the destruction of cities, factories, and railroads.',\n",
       " 'Confederacy': 'The group of southern states that seceded from the Union and fought against the North during the Civil War.',\n",
       " 'Union': 'The group of northern states that remained part of the United States and fought against the Confederacy during the Civil War.',\n",
       " 'Emancipation Proclamation': 'The decision made by President Lincoln to free enslaved people in Confederate territory, which changed the nature of the war and inspired thousands of African Americans to join the Union cause.'}"
      ]
     },
     "execution_count": 72,
     "metadata": {},
     "output_type": "execute_result"
    }
   ],
   "source": [
    "a1"
   ]
  },
  {
   "cell_type": "code",
   "execution_count": 31,
   "metadata": {},
   "outputs": [
    {
     "data": {
      "text/plain": [
       "{'Casualties': 'Over 600,000 Americans died in the Civil War.',\n",
       " 'Civil War death toll': 'Over half a million soldiers died in the Civil War.',\n",
       " 'Confederate costs': 'The total cost of the war for the Confederacy: $2 billion; inflation 9,000 percent.',\n",
       " 'Confederate victory': 'The outcome of the Civil War, with the Confederate forces prevailing.',\n",
       " 'Crippled southern industry': 'Southern industry suffered greatly after the war.',\n",
       " 'Destroyed infrastructure': 'Southern farms, factories, and railroads were destroyed during the war.',\n",
       " 'Emancipation Proclamation': \"Lincoln's decision to free slaves, changing the nature of the war.\",\n",
       " 'Gilded Age': 'A term for the era following the war, characterized by superficial glitter and underlying decay.',\n",
       " 'Industrial boom': 'Northern industrial growth fueled by the war.',\n",
       " 'Land Grant College Act': 'An act passed by Congress to establish universities teaching agriculture and mechanical arts.',\n",
       " 'Material devastation': 'The South suffered material devastation for decades after the war.',\n",
       " 'Mathew Brady': 'A journalist who captured the carnage of the battlefield through photography.',\n",
       " 'Modern warfare': 'The Civil War introduced the harsh reality of modern warfare.',\n",
       " 'Northern industrialization': 'Sweeping industrialization after the war, making the US a global economic power.',\n",
       " 'President Lincoln': 'Provided steady leadership during the Civil War.',\n",
       " 'Protective tariff': 'Legislation that protected northern industry and raised revenue for the Union war effort.',\n",
       " 'Rebuilding the South': 'A slow and tortured process after the war, with cities and factories in ruins.',\n",
       " 'Union blockade': 'Union forces blocked Confederate ports during the war.',\n",
       " 'Union costs': 'The total cost of the war for the Union: $6.1 billion; inflation 80 percent.',\n",
       " 'Union victory': 'The outcome of the Civil War, with the Union forces prevailing.'}"
      ]
     },
     "execution_count": 31,
     "metadata": {},
     "output_type": "execute_result"
    }
   ],
   "source": [
    "civil_war_info"
   ]
  },
  {
   "cell_type": "code",
   "execution_count": 33,
   "metadata": {},
   "outputs": [],
   "source": [
    "common_keys = a5.keys() & civil_war_info.keys()\n"
   ]
  },
  {
   "cell_type": "code",
   "execution_count": 34,
   "metadata": {},
   "outputs": [
    {
     "data": {
      "text/plain": [
       "{'Casualties',\n",
       " 'Gilded Age',\n",
       " 'Land Grant College Act',\n",
       " 'President Lincoln',\n",
       " 'Protective tariff'}"
      ]
     },
     "execution_count": 34,
     "metadata": {},
     "output_type": "execute_result"
    }
   ],
   "source": [
    "common_keys"
   ]
  },
  {
   "cell_type": "code",
   "execution_count": 159,
   "metadata": {},
   "outputs": [
    {
     "data": {
      "text/plain": [
       "{'President Lincoln': 'The leader of the North during the Civil War who played a crucial role in keeping the nation together and issued the Emancipation Proclamation.',\n",
       " 'Modern warfare': 'The type of warfare that was introduced during the Civil War, characterized by high casualties and the use of new technologies.',\n",
       " 'Gilded Age': 'The period following the Civil War characterized by economic greed and social and political disillusionment, particularly in the North.',\n",
       " 'Land Grant College Act': 'Legislation passed by Congress in 1862 that provided money from the sale of public lands to states for the establishment of universities focused on agriculture and mechanical arts.',\n",
       " 'Protective tariff': 'Legislation passed by Congress in 1862 that imposed taxes on imported goods, protecting northern industries from foreign competition and generating revenue for the Union war effort.',\n",
       " 'Industrialization': 'The process of developing industries on a large scale, which occurred in the North after the Civil War and helped the United States become a global economic power.',\n",
       " 'Reconstruction': 'The process of rebuilding the South after the Civil War, which was slow and difficult due to the destruction of cities, factories, and railroads.',\n",
       " 'Confederacy': 'The group of southern states that seceded from the Union and fought against the North during the Civil War.',\n",
       " 'Union': 'The group of northern states that remained part of the United States and fought against the Confederacy during the Civil War.',\n",
       " 'Emancipation Proclamation': 'The decision made by President Lincoln to free enslaved people in Confederate territory, which had a significant impact on the nature of the war and the determination of African Americans in the North and South.'}"
      ]
     },
     "execution_count": 159,
     "metadata": {},
     "output_type": "execute_result"
    }
   ],
   "source": [
    "apple6"
   ]
  },
  {
   "cell_type": "code",
   "execution_count": 180,
   "metadata": {},
   "outputs": [
    {
     "data": {
      "text/plain": [
       "{}"
      ]
     },
     "execution_count": 180,
     "metadata": {},
     "output_type": "execute_result"
    }
   ],
   "source": [
    "apple8"
   ]
  }
 ],
 "metadata": {
  "kernelspec": {
   "display_name": "Python 3",
   "language": "python",
   "name": "python3"
  },
  "language_info": {
   "codemirror_mode": {
    "name": "ipython",
    "version": 3
   },
   "file_extension": ".py",
   "mimetype": "text/x-python",
   "name": "python",
   "nbconvert_exporter": "python",
   "pygments_lexer": "ipython3",
   "version": "3.11.4"
  }
 },
 "nbformat": 4,
 "nbformat_minor": 2
}
