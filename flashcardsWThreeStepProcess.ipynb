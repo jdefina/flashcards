{
 "cells": [
  {
   "cell_type": "code",
   "execution_count": 1,
   "metadata": {},
   "outputs": [],
   "source": [
    "from dotenv import load_dotenv\n",
    "import os\n",
    "import openai\n",
    "from datasets import load_dataset\n",
    "import llama_index\n",
    "from llama_index import Document\n",
    "from llama_index.node_parser import SimpleNodeParser\n",
    "from llama_index.vector_stores import PineconeVectorStore\n",
    "from llama_index import GPTVectorStoreIndex, StorageContext, ServiceContext\n",
    "import chromadb\n",
    "from llama_index import VectorStoreIndex\n",
    "from llama_index.vector_stores import ChromaVectorStore\n",
    "from llama_index.storage.storage_context import StorageContext\n",
    "from llama_index.prompts import PromptTemplate\n",
    "from llama_index.embeddings.openai import OpenAIEmbedding\n",
    "from llama_index.node_parser import SimpleNodeParser\n",
    "from pathlib import Path\n",
    "from llama_index import download_loader\n",
    "from llama_index.embeddings import OpenAIEmbedding\n",
    "from llama_index.text_splitter import SentenceSplitter\n",
    "from llama_index.extractors import TitleExtractor\n",
    "from llama_index.ingestion import IngestionPipeline, IngestionCache\n",
    "from llama_index import download_loader\n",
    "from pathlib import Path\n",
    "from llama_index import download_loader\n",
    "from llama_index import VectorStoreIndex\n",
    "from llama_index import SummaryIndex\n",
    "import openai\n",
    "from llama_index.indices.document_summary import DocumentSummaryIndex\n",
    "from llama_index.llms import OpenAI\n",
    "from llama_index import (\n",
    "    SimpleDirectoryReader,\n",
    "    ServiceContext,\n",
    "    get_response_synthesizer,\n",
    ")\n",
    "from llama_index import ServiceContext, VectorStoreIndex\n",
    "from llama_index.extractors import (\n",
    "    TitleExtractor,\n",
    "    QuestionsAnsweredExtractor,\n",
    ")\n",
    "\n",
    "from llama_index.ingestion import IngestionPipeline\n",
    "from llama_index.text_splitter import TokenTextSplitter\n",
    "\n",
    "from llama_index.storage.docstore import SimpleDocumentStore\n",
    "from llama_index.storage.index_store import SimpleIndexStore\n",
    "from llama_index import (\n",
    "    load_index_from_storage,\n",
    "    load_indices_from_storage,\n",
    "    load_graph_from_storage,\n",
    ")"
   ]
  },
  {
   "cell_type": "code",
   "execution_count": 2,
   "metadata": {},
   "outputs": [],
   "source": [
    "OPENAI_API_KEY=\n",
    "os.environ['OPENAI_API_KEY'] = OPENAI_API_KEY"
   ]
  },
  {
   "cell_type": "code",
   "execution_count": 3,
   "metadata": {},
   "outputs": [],
   "source": [
    "storage_context = StorageContext.from_defaults(\n",
    "    docstore= SimpleDocumentStore.from_persist_dir(persist_dir=\"C:/Users/zachk/OneDrive/Desktop/Uflo/Indexes\"),\n",
    "    index_store=SimpleIndexStore.from_persist_dir(persist_dir=\"C:/Users/zachk/OneDrive/Desktop/Uflo/Indexes\")\n",
    ")\n",
    "\n",
    "ds384 = load_index_from_storage(storage_context)"
   ]
  },
  {
   "cell_type": "code",
   "execution_count": 4,
   "metadata": {},
   "outputs": [],
   "source": [
    "PDFReader = download_loader(\"PDFReader\")\n",
    "\n",
    "loader = PDFReader()\n",
    "documents = loader.load_data(file=Path(\"C:/Users/zachk/Downloads/(13a) Civil War Reconstruction  (1).pdf\"))"
   ]
  },
  {
   "cell_type": "code",
   "execution_count": 5,
   "metadata": {},
   "outputs": [],
   "source": [
    "pages = documents[1:3]"
   ]
  },
  {
   "cell_type": "markdown",
   "metadata": {},
   "source": [
    "## BEGIN TO MAKE FLASHCARD"
   ]
  },
  {
   "cell_type": "code",
   "execution_count": 6,
   "metadata": {},
   "outputs": [],
   "source": [
    "def get_llm(openai_api_key, max_tokens=8192):\n",
    "    os.environ[\"OPENAI_API_KEY\"] = openai_api_key\n",
    "    return OpenAI(\n",
    "        temperature=0.0, model='gpt-3.5-turbo-16k', max_tokens=max_tokens\n",
    "    )"
   ]
  },
  {
   "cell_type": "code",
   "execution_count": 7,
   "metadata": {},
   "outputs": [],
   "source": [
    "llm = get_llm(OPENAI_API_KEY)\n"
   ]
  },
  {
   "cell_type": "code",
   "execution_count": 8,
   "metadata": {},
   "outputs": [],
   "source": [
    "def get_ds_index(documents, llm, api_key):\n",
    "\n",
    "    service_context = ServiceContext.from_defaults(llm=llm, chunk_size=384, chunk_overlap=128)\n",
    "\n",
    "    response_synthesizer = get_response_synthesizer(\n",
    "    response_mode=\"tree_summarize\", use_async=True\n",
    "    )\n",
    "    \n",
    "    temp_index = DocumentSummaryIndex.from_documents(\n",
    "        documents, \n",
    "        service_context=service_context,\n",
    "        response_synthesizer = response_synthesizer\n",
    "    )\n",
    "\n",
    "    return temp_index"
   ]
  },
  {
   "cell_type": "code",
   "execution_count": 9,
   "metadata": {},
   "outputs": [
    {
     "name": "stdout",
     "output_type": "stream",
     "text": [
      "current doc id: f27b63bf-8f9c-45bc-a85a-9a85aa4f14b1\n",
      "current doc id: b1b35489-93e0-43c0-abf1-0c3d5f5d77a1\n"
     ]
    }
   ],
   "source": [
    "ds384 = get_ds_index(pages, llm, OPENAI_API_KEY)"
   ]
  },
  {
   "cell_type": "code",
   "execution_count": 10,
   "metadata": {},
   "outputs": [],
   "source": [
    "def extract_terms_1(index, prompt, summary, k=1):\n",
    "    query_engine = index.as_query_engine(\n",
    "        similarity_top_k=k\n",
    "    )\n",
    "\n",
    "    f_prompt = prompt.format(summary)\n",
    "\n",
    "    terms_definitions = str(query_engine.query(f_prompt))\n",
    "    terms_definitions = [\n",
    "        x\n",
    "        for x in terms_definitions.split(\"\\n\")\n",
    "        if x and \"Term:\" in x and \"Definition:\" in x\n",
    "    ]\n",
    "    # parse the text into a dict\n",
    "    terms_to_definition = {\n",
    "        x.split(\"Definition:\")[0]\n",
    "        .split(\"Term:\")[-1]\n",
    "        .strip(): x.split(\"Definition:\")[-1]\n",
    "        .strip()\n",
    "        for x in terms_definitions\n",
    "    }\n",
    "    return terms_to_definition"
   ]
  },
  {
   "cell_type": "code",
   "execution_count": 11,
   "metadata": {},
   "outputs": [],
   "source": [
    "def summarize_docs(index, prompt, k=1):\n",
    "    query_engine = index.as_query_engine(similarity_top_k=k)\n",
    "\n",
    "    summary = str(query_engine.query(prompt))\n",
    "\n",
    "    return summary\n"
   ]
  },
  {
   "cell_type": "code",
   "execution_count": 12,
   "metadata": {},
   "outputs": [],
   "source": [
    "def extract_terms(index, summary, prompts, k=1):\n",
    "    query_engine = index.as_query_engine(similarity_top_k=k)\n",
    "\n",
    "    all_terms_to_definition = {}\n",
    "    for prompt in prompts:\n",
    "        terms_definitions = str(query_engine.query(prompt))\n",
    "        terms_definitions = [\n",
    "            x\n",
    "            for x in terms_definitions.split(\"\\n\")\n",
    "            if x and \"Term:\" in x and \"Definition:\" in x\n",
    "        ]\n",
    "        for term_definition in terms_definitions:\n",
    "            term = term_definition.split(\"Definition:\")[0].split(\"Term:\")[-1].strip()\n",
    "            definition = term_definition.split(\"Definition:\")[-1].strip()\n",
    "\n",
    "            if term in all_terms_to_definition:\n",
    "                # Combine definitions if they are different\n",
    "                if all_terms_to_definition[term] != definition:\n",
    "                    all_terms_to_definition[term] += \" Additionally, \" + definition\n",
    "            else:\n",
    "                all_terms_to_definition[term] = definition\n",
    "\n",
    "    return all_terms_to_definition"
   ]
  },
  {
   "cell_type": "code",
   "execution_count": 13,
   "metadata": {},
   "outputs": [],
   "source": [
    "def check_terms(index, context_str, prompt, k = 1):\n",
    "    query_engine = index.as_query_engine(similarity_top_k = k)\n",
    "\n",
    "    context_str = str(context_str)\n",
    "\n",
    "    final_prompt = prompt.format(context_str)\n",
    "\n",
    "    terms_definitions = str(query_engine.query(final_prompt))\n",
    "    terms_definitions = [\n",
    "        x\n",
    "        for x in terms_definitions.split(\"\\n\")\n",
    "        if x and \"Term:\" in x and \"Definition:\" in x\n",
    "    ]\n",
    "    # parse the text into a dict\n",
    "    terms_to_definition = {\n",
    "        x.split(\"Definition:\")[0]\n",
    "        .split(\"Term:\")[-1]\n",
    "        .strip(): x.split(\"Definition:\")[-1]\n",
    "        .strip()\n",
    "        for x in terms_definitions\n",
    "    }\n",
    "    return terms_to_definition\n",
    "\n",
    "    "
   ]
  },
  {
   "cell_type": "code",
   "execution_count": 146,
   "metadata": {},
   "outputs": [],
   "source": [
    "summaryPrompt = (\n",
    "    \"\"\"Task: Carefully read the document and produce a concise summary. \n",
    "    It is crucial to highlight all main themes, crucial events, key figures, and significant concepts, as missing any could have dire consequences.\n",
    "    ensure that you mention all people and events of importance that had any significant context in the field.\n",
    "    Ensure the summary distills the document's content into its most essential elements, capturing every potential term and idea without omission. \n",
    "    The accuracy and comprehensiveness of this summary are vital, as if a life depends on it, setting the stage for accurate term and definition extraction in the next phase.\"\"\"\n",
    ")\n",
    "\n",
    "summaryPrompt2 = (\n",
    "    \"\"\"Task: Conduct a thorough analysis of the text in three distinct steps. \n",
    "    First, meticulously identify and list every human name mentioned, focusing on both historical figures and any other individuals. \n",
    "    Second, enumerate all events detailed in the text. \n",
    "    Third, extract all significant terms. \n",
    "    Following these steps, compile this information into a detailed summary. \n",
    "    Ensure the summary coherently incorporates all names, events, and terms, offering a clear and complete overview of the text's content, with an emphasis on ensuring no human names are omitted.\"\"\"\n",
    ")\n",
    "summaryPrompt3 = (\n",
    "    \"\"\"Task: Conduct a detailed analysis of the text in these specific steps:\n",
    "    1. Meticulously identify and list every human name mentioned, focusing on both historical figures and any other individuals. Pay special attention to ensure no name is overlooked.\n",
    "    2. Carefully extract and enumerate all events detailed in the text, including both major and minor occurrences, ensuring a comprehensive capture of the timeline.\n",
    "    3. Thoroughly identify all significant terms and concepts, including technical jargon, theories, or specific subject matter terminology.\n",
    "    4. Make sure to get as many terms as possible in this summary \n",
    "    After completing these steps, synthesize this information into a cohesive and comprehensive summary. The summary should seamlessly incorporate the identified names, events, and terms, providing a clear, accurate, and complete overview of the text's content.\"\"\"\n",
    ")\n"
   ]
  },
  {
   "cell_type": "code",
   "execution_count": 147,
   "metadata": {},
   "outputs": [],
   "source": [
    "s1 = summarize_docs(ds384, summaryPrompt3,5)"
   ]
  },
  {
   "cell_type": "code",
   "execution_count": 148,
   "metadata": {},
   "outputs": [
    {
     "data": {
      "text/plain": [
       "\"1. Human names mentioned:\\n- President Lincoln\\n- Mathew Brady\\n\\n2. Events detailed in the text:\\n- The Civil War\\n- President Lincoln's leadership during the war\\n- President Lincoln's decision on emancipation\\n- The casualties and devastation of the war\\n- The industrial boom in the North after the war\\n- The slow and tortured rebuilding of the South\\n- The surrender of the Confederate armies to Union troops\\n\\n3. Significant terms and concepts:\\n- Civil War\\n- Emancipation\\n- Modern warfare\\n- Gilded Age\\n- Land Grant College Act\\n- Protective tariff\\n- Industrialization\\n- Global economic power\\n- Union blockade\\n- Defensive war\\n\\nSummary: The text discusses the impact of the Civil War in the United States. It highlights President Lincoln's leadership during the war and his decision on emancipation. The war resulted in a high number of casualties and devastation, ushering in the reality of modern warfare. The North experienced an industrial boom and emerged as a global economic power, while the South struggled with slow and difficult rebuilding. The Confederate armies eventually surrendered to Union troops. The text also mentions the names of President Lincoln and Mathew Brady, a journalist who documented the carnage of the battlefield through photographs.\""
      ]
     },
     "execution_count": 148,
     "metadata": {},
     "output_type": "execute_result"
    }
   ],
   "source": [
    "s1"
   ]
  },
  {
   "cell_type": "code",
   "execution_count": 67,
   "metadata": {},
   "outputs": [],
   "source": [
    "prompts = [term_prompt1,combinedPrompt]"
   ]
  },
  {
   "cell_type": "code",
   "execution_count": 213,
   "metadata": {},
   "outputs": [],
   "source": [
    "t1 = extract_terms_1(ds384, term_prompt1, s1, 5)"
   ]
  },
  {
   "cell_type": "code",
   "execution_count": 214,
   "metadata": {},
   "outputs": [
    {
     "data": {
      "text/plain": [
       "{'President Lincoln': 'The leader of the United States during the Civil War.',\n",
       " 'Mathew Brady': 'A journalist who documented the carnage of the Civil War through photographs.',\n",
       " 'Civil War': 'A war fought between the Northern states (Union) and the Southern states (Confederacy) in the United States from 1861 to 1865.',\n",
       " 'Emancipation': 'The act of freeing slaves from bondage.',\n",
       " 'Modern warfare': 'The use of advanced technology and tactics in warfare, resulting in high casualties and devastation.',\n",
       " 'Gilded Age': 'A period of economic growth and industrialization in the United States after the Civil War, characterized by wealth and corruption.',\n",
       " 'Land Grant College Act': 'Legislation passed by Congress in 1862 that provided funding for the establishment of universities focused on agriculture and mechanical arts.',\n",
       " 'Protective tariff': 'A tax imposed on imported goods to protect domestic industries from foreign competition.',\n",
       " 'Industrialization': 'The process of developing industries and manufacturing on a large scale.',\n",
       " 'Global economic power': 'A country or region that has significant influence and dominance in the global economy.',\n",
       " 'Union blockade': 'The naval strategy employed by the Union during the Civil War to block Southern ports and prevent the Confederacy from receiving supplies.',\n",
       " 'Defensive war': \"A war fought primarily to defend one's territory or interests rather than to conquer or expand.\"}"
      ]
     },
     "execution_count": 214,
     "metadata": {},
     "output_type": "execute_result"
    }
   ],
   "source": [
    "t1"
   ]
  },
  {
   "cell_type": "code",
   "execution_count": 176,
   "metadata": {},
   "outputs": [
    {
     "data": {
      "text/plain": [
       "{'President Lincoln': 'The leader of the United States during the Civil War.',\n",
       " 'Mathew Brady': 'A journalist who documented the carnage of the Civil War through photographs.',\n",
       " 'Civil War': 'A war fought between the Northern states (Union) and the Southern states (Confederacy) in the United States from 1861 to 1865.',\n",
       " 'Emancipation': 'The act of freeing slaves from bondage.',\n",
       " 'Modern warfare': 'The use of advanced technology and tactics in warfare, resulting in high casualties and devastation.',\n",
       " 'Gilded Age': 'A period of economic growth and industrialization in the United States after the Civil War, characterized by wealth and corruption.',\n",
       " 'Land Grant College Act': 'Legislation passed by Congress in 1862 that provided funding for the establishment of universities focused on agriculture and mechanical arts.',\n",
       " 'Protective tariff': 'A tax imposed on imported goods to protect domestic industries from foreign competition.',\n",
       " 'Industrialization': 'The process of developing industries and manufacturing on a large scale.',\n",
       " 'Global economic power': 'A country or region that has significant influence and dominance in the global economy.',\n",
       " 'Union blockade': 'The naval strategy employed by the Union during the Civil War to block Southern ports and prevent the Confederacy from receiving supplies.',\n",
       " 'Defensive war': \"A war fought primarily to defend one's territory or interests rather than to conquer or expand.\"}"
      ]
     },
     "execution_count": 176,
     "metadata": {},
     "output_type": "execute_result"
    }
   ],
   "source": [
    "t1"
   ]
  },
  {
   "cell_type": "code",
   "execution_count": 154,
   "metadata": {},
   "outputs": [
    {
     "data": {
      "text/plain": [
       "{'President Lincoln': 'The leader of the United States during the Civil War.',\n",
       " 'Mathew Brady': 'A journalist who documented the carnage of the Civil War through photographs.',\n",
       " 'Civil War': 'A war fought between the Northern states (Union) and the Southern states (Confederacy) in the United States from 1861 to 1865.',\n",
       " 'Emancipation': 'The act of freeing slaves from bondage.',\n",
       " 'Modern warfare': 'The use of advanced technology and tactics in warfare, resulting in high casualties and devastation.',\n",
       " 'Gilded Age': 'A period of economic growth and industrialization in the United States after the Civil War, characterized by wealth and corruption.',\n",
       " 'Land Grant College Act': 'Legislation passed by Congress in 1862 that provided funding for the establishment of universities focused on agriculture and mechanical arts.',\n",
       " 'Protective tariff': 'A tax imposed on imported goods to protect domestic industries from foreign competition.',\n",
       " 'Industrialization': 'The process of developing industries and manufacturing on a large scale.',\n",
       " 'Global economic power': 'A country or region that has significant influence and dominance in the global economy.',\n",
       " 'Union blockade': 'The naval strategy employed by the Union during the Civil War to block Southern ports and prevent the Confederacy from receiving supplies.',\n",
       " 'Defensive war': \"A war fought primarily to defend one's territory or interests rather than to conquer or expand.\"}"
      ]
     },
     "execution_count": 154,
     "metadata": {},
     "output_type": "execute_result"
    }
   ],
   "source": [
    "t1"
   ]
  },
  {
   "cell_type": "code",
   "execution_count": 31,
   "metadata": {},
   "outputs": [
    {
     "data": {
      "text/plain": [
       "{'President Lincoln': 'The leader of the United States during the Civil War.',\n",
       " 'Mathew Brady': 'A journalist and photographer who documented the carnage of the Civil War through his photographs.',\n",
       " 'Civil War': 'A war fought between the Northern states (Union) and the Southern states (Confederacy) in the United States from 1861 to 1865.',\n",
       " 'Emancipation': 'The act of freeing enslaved individuals, which President Lincoln decided to do during the Civil War.',\n",
       " 'Modern warfare': 'The harsh reality of warfare during the Civil War, which included high casualties and widespread devastation.',\n",
       " 'Gilded Age': 'A term used to describe the era following the Civil War, characterized by superficial glitter and beauty covering up underlying decay.',\n",
       " 'Land Grant College Act': 'Legislation passed by Congress in 1862 that provided money from the sale of public lands to states for the establishment of universities that taught agriculture and mechanical arts.',\n",
       " 'Protective tariff': 'Legislation passed by Congress that protected northern industry from foreign competition and raised revenue for the Union war effort.',\n",
       " 'Industrialization': 'The process of developing industries on a large scale, which occurred in the North after the Civil War.',\n",
       " 'Union war effort': 'The collective efforts made by the Northern states to win the Civil War.',\n",
       " 'Rebuilding the South': 'The process of reconstructing and recovering the Southern states after the Civil War.'}"
      ]
     },
     "execution_count": 31,
     "metadata": {},
     "output_type": "execute_result"
    }
   ],
   "source": [
    "t1"
   ]
  },
  {
   "cell_type": "code",
   "execution_count": 104,
   "metadata": {},
   "outputs": [
    {
     "data": {
      "text/plain": [
       "{'Civil War': 'A war fought between the Northern states (Union) and the Southern states (Confederacy) in the United States from 1861 to 1865.',\n",
       " 'Confederacy': 'The group of Southern states that seceded from the United States and formed their own government during the Civil War.',\n",
       " 'Union troops': 'The military forces of the Northern states during the Civil War.',\n",
       " 'Gettysburg': 'A major battle fought in Gettysburg, Pennsylvania, in July 1863, considered a turning point in the Civil War.',\n",
       " 'Petersburg': 'A city in Virginia where a significant battle took place during the Civil War, known as the Siege of Petersburg.',\n",
       " 'Atlanta': 'A city in Georgia that was a major target for Union forces during the Civil War, and was eventually captured in September 1864.',\n",
       " 'Appomattox Court House': 'The location in Virginia where Confederate General Robert E. Lee surrendered to Union General Ulysses S. Grant, effectively ending the Civil War.',\n",
       " 'Defensive war': 'A war strategy in which a side primarily focuses on defending its territory rather than launching offensive attacks.',\n",
       " 'Surrender': 'The act of giving up or yielding to an opponent in a war or conflict.',\n",
       " 'Union costs': 'The financial expenses incurred by the Northern states during the Civil War, totaling $6.1 billion with an inflation rate of 80 percent.',\n",
       " 'Confederate costs': 'The financial expenses incurred by the Southern states during the Civil War, totaling $2 billion with an inflation rate of 9,000 percent.',\n",
       " 'Inflation': 'The increase in prices of goods and services over time, resulting in a decrease in the purchasing power of money.',\n",
       " 'Southern farms, factories, and railroads': 'The infrastructure and economic assets in the Southern states that were destroyed or damaged during the Civil War.',\n",
       " 'Southern industry': 'The manufacturing and industrial sector in the Southern states that was severely impacted and weakened as a result of the Civil War.',\n",
       " 'Death toll': 'The number of people who died as a result of a particular event or conflict, in this case, the number of soldiers killed during the Civil War.'}"
      ]
     },
     "execution_count": 104,
     "metadata": {},
     "output_type": "execute_result"
    }
   ],
   "source": [
    "c2"
   ]
  },
  {
   "cell_type": "code",
   "execution_count": 79,
   "metadata": {},
   "outputs": [],
   "source": [
    "d14= extract_terms(ds384, prompt_list, 2)  # Here, 3 is the similarity_top_k value"
   ]
  },
  {
   "cell_type": "code",
   "execution_count": 215,
   "metadata": {},
   "outputs": [],
   "source": [
    "c3 = check_terms(ds384, t1, finalCheckPrompt,5)"
   ]
  },
  {
   "cell_type": "code",
   "execution_count": 216,
   "metadata": {},
   "outputs": [
    {
     "data": {
      "text/plain": [
       "{'President Lincoln': 'The leader of the United States during the Civil War.',\n",
       " 'Mathew Brady': 'A journalist who documented the carnage of the Civil War through photographs.',\n",
       " 'Civil War': 'A war fought between the Northern states (Union) and the Southern states (Confederacy) in the United States from 1861 to 1865.',\n",
       " 'Emancipation': 'The act of freeing slaves from bondage.',\n",
       " 'Modern warfare': 'The use of advanced technology and tactics in warfare, resulting in high casualties and devastation.',\n",
       " 'Gilded Age': 'A period of economic growth and industrialization in the United States after the Civil War, characterized by wealth and corruption.',\n",
       " 'Land Grant College Act': 'Legislation passed by Congress in 1862 that provided funding for the establishment of universities focused on agriculture and mechanical arts.',\n",
       " 'Protective tariff': 'A tax imposed on imported goods to protect domestic industries from foreign competition.',\n",
       " 'Industrialization': 'The process of developing industries and manufacturing on a large scale.',\n",
       " 'Global economic power': 'A country or region that has significant influence and dominance in the global economy.',\n",
       " 'Union blockade': 'The naval strategy employed by the Union during the Civil War to block Southern ports and prevent the Confederacy from receiving supplies.',\n",
       " 'Defensive war': \"A war fought primarily to defend one's territory or interests rather than to conquer or expand.\",\n",
       " 'Confederacy': 'The group of Southern states that seceded from the United States and formed their own government during the Civil War.'}"
      ]
     },
     "execution_count": 216,
     "metadata": {},
     "output_type": "execute_result"
    }
   ],
   "source": [
    "c3"
   ]
  },
  {
   "cell_type": "code",
   "execution_count": 133,
   "metadata": {},
   "outputs": [
    {
     "data": {
      "text/plain": [
       "{'President Lincoln': 'The leader of the United States during the Civil War.',\n",
       " 'Mathew Brady': 'A journalist and photographer who documented the carnage of the Civil War through his photographs.',\n",
       " 'Civil War': 'A war fought between the Northern states (Union) and the Southern states (Confederacy) in the United States from 1861 to 1865.',\n",
       " 'Emancipation': \"The act of freeing enslaved individuals, referring to President Lincoln's decision to issue the Emancipation Proclamation during the Civil War.\",\n",
       " 'Modern warfare': 'The harsh reality of warfare during the Civil War, characterized by high casualties and the use of new technologies.',\n",
       " 'Gilded Age': 'A term used to describe the era following the Civil War, characterized by superficial glitter and beauty covering up underlying decay.',\n",
       " 'Land Grant College Act': 'Legislation passed by Congress in 1862 that provided money from the sale of public lands to states for the establishment of universities focused on agriculture and mechanical arts.',\n",
       " 'Protective tariff': 'Legislation passed by Congress that protected northern industry from foreign competition and raised revenue for the Union war effort.',\n",
       " 'Industrialization': 'The process of developing industries on a large scale, which occurred in the North after the Civil War.',\n",
       " 'Union war effort': 'The collective efforts of the Northern states to fight and win the Civil War.',\n",
       " 'Confederacy': 'The Southern states that seceded from the United States and formed their own government during the Civil War.',\n",
       " 'Rebuilding the South': 'The process of reconstructing and recovering the Southern states after the devastation of the Civil War.'}"
      ]
     },
     "execution_count": 133,
     "metadata": {},
     "output_type": "execute_result"
    }
   ],
   "source": [
    "c3"
   ]
  },
  {
   "cell_type": "code",
   "execution_count": 131,
   "metadata": {},
   "outputs": [
    {
     "data": {
      "text/plain": [
       "{'President Lincoln': 'The leader of the United States during the Civil War.',\n",
       " 'Mathew Brady': 'A journalist and photographer who documented the carnage of the Civil War through his photographs.',\n",
       " 'Civil War': 'A war fought between the Northern states (Union) and the Southern states (Confederacy) in the United States from 1861 to 1865.',\n",
       " 'Emancipation': \"The act of freeing enslaved individuals, referring to President Lincoln's decision to issue the Emancipation Proclamation during the Civil War.\",\n",
       " 'Modern warfare': 'The harsh reality of warfare during the Civil War, characterized by high casualties and the use of new technologies.',\n",
       " 'Gilded Age': 'A term used to describe the era following the Civil War, characterized by superficial glitter and beauty covering up underlying decay.',\n",
       " 'Land Grant College Act': 'Legislation passed by Congress in 1862 that provided money from the sale of public lands to states for the establishment of universities focused on agriculture and mechanical arts.',\n",
       " 'Protective tariff': 'Legislation passed by Congress that protected northern industry from foreign competition and raised revenue for the Union war effort.',\n",
       " 'Industrialization': 'The process of developing industries on a large scale, which occurred in the North after the Civil War.',\n",
       " 'Union war effort': 'The collective efforts of the Northern states to fight and win the Civil War.',\n",
       " 'Rebuilding the South': 'The process of reconstructing and recovering the Southern states after the devastation of the Civil War.'}"
      ]
     },
     "execution_count": 131,
     "metadata": {},
     "output_type": "execute_result"
    }
   ],
   "source": [
    "c2"
   ]
  },
  {
   "cell_type": "code",
   "execution_count": 80,
   "metadata": {},
   "outputs": [
    {
     "data": {
      "text/plain": [
       "{'Union': 'A side in the Civil War that fought to preserve the United States and abolish slavery.',\n",
       " 'Confederate': 'A side in the Civil War that fought for the independence of the Southern states and the preservation of slavery.',\n",
       " 'Union forces': 'The military forces of the Union side in the Civil War.',\n",
       " 'Confederate forces': 'The military forces of the Confederate side in the Civil War.',\n",
       " 'Union victory': 'A successful outcome for the Union side in a battle or the overall war.',\n",
       " 'Confederate victory': 'A successful outcome for the Confederate side in a battle or the overall war.',\n",
       " 'Gettysburg': 'A town in Pennsylvania where a major battle of the Civil War took place in 1863.',\n",
       " 'Petersburg': 'A city in Virginia where a major battle of the Civil War took place in 1864-1865.',\n",
       " 'Atlanta': 'A city in Georgia that was a key target for the Union forces during the Civil War.',\n",
       " 'Appomattox Court House': 'A village in Virginia where General Robert E. Lee surrendered to General Ulysses S. Grant, effectively ending the Civil War.',\n",
       " 'defensive war': 'A type of war strategy where a side primarily focuses on defending its territory rather than launching offensive attacks.',\n",
       " 'Civil War Deaths': 'The number of soldiers who died during the Civil War.',\n",
       " 'Union costs': 'The financial expenses incurred by the Union side during the Civil War.',\n",
       " 'Confederate costs': 'The financial expenses incurred by the Confederate side during the Civil War.',\n",
       " 'inflation': 'A general increase in prices and decrease in the purchasing power of money.',\n",
       " 'southern farms, factories, and railroads': 'Infrastructure and economic assets in the southern states that were destroyed during the Civil War.',\n",
       " 'southern industry': 'The manufacturing and industrial sector in the southern states that was severely impacted and weakened by the Civil War.',\n",
       " 'Confederate states': 'The states that seceded from the United States and formed the Confederate States of America during the Civil War.',\n",
       " 'American Deaths in All Wars': 'The estimated number of American soldiers who died in various wars, including the Civil War.',\n",
       " 'modern warfare': 'A type of warfare characterized by advanced weaponry, large-scale casualties, and significant destruction.',\n",
       " 'Gilded Age': 'A period in American history following the Civil War characterized by rapid industrialization and economic growth, but also marked by social and political disillusionment.',\n",
       " 'Land Grant College Act': 'Legislation passed by Congress in 1862 that provided funding for the establishment of universities focused on agriculture and mechanical arts.',\n",
       " 'protective tariff': 'A tax imposed on imported goods to protect domestic industries from foreign competition.',\n",
       " 'industrialization': 'The process of developing industries and transforming an economy to rely more on manufacturing and production.',\n",
       " 'global economic power': 'A country or entity that has significant influence and dominance in the global economy.',\n",
       " 'rebuilding the South': 'The process of reconstructing and revitalizing the southern states after the Civil War.'}"
      ]
     },
     "execution_count": 80,
     "metadata": {},
     "output_type": "execute_result"
    }
   ],
   "source": [
    "d14"
   ]
  },
  {
   "cell_type": "code",
   "execution_count": 82,
   "metadata": {},
   "outputs": [
    {
     "data": {
      "text/plain": [
       "{'Union': 'A side in the Civil War that fought to preserve the United States and abolish slavery.',\n",
       " 'Confederate': 'A side in the Civil War that fought for the independence of the Southern states and the preservation of slavery.',\n",
       " 'Union forces': 'The military forces of the Union side in the Civil War.',\n",
       " 'Confederate forces': 'The military forces of the Confederate side in the Civil War.',\n",
       " 'Union victory': 'A successful outcome for the Union side in a battle or the overall war.',\n",
       " 'Confederate victory': 'A successful outcome for the Confederate side in a battle or the overall war.',\n",
       " 'Gettysburg': 'A town in Pennsylvania where a major battle of the Civil War took place in 1863.',\n",
       " 'Petersburg': 'A city in Virginia where a major battle of the Civil War took place in 1864-1865.',\n",
       " 'Atlanta': 'A city in Georgia that was a key target for the Union forces during the Civil War.',\n",
       " 'Appomattox Court House': 'A village in Virginia where General Robert E. Lee surrendered to General Ulysses S. Grant, effectively ending the Civil War.',\n",
       " 'defensive war': 'A type of war strategy where a side primarily focuses on defending its territory rather than launching offensive attacks.',\n",
       " 'Civil War Deaths': 'The number of soldiers who died during the Civil War.',\n",
       " 'Union costs': 'The financial expenses incurred by the Union side during the Civil War.',\n",
       " 'Confederate costs': 'The financial expenses incurred by the Confederate side during the Civil War.',\n",
       " 'inflation': 'A general increase in prices and decrease in the purchasing power of money.',\n",
       " 'southern farms, factories, and railroads': 'Infrastructure and economic assets in the southern states that were destroyed during the Civil War.',\n",
       " 'southern industry': 'The manufacturing and industrial sector in the southern states that was severely impacted and weakened by the Civil War.',\n",
       " 'Confederate states': 'The states that seceded from the United States and formed the Confederate States of America during the Civil War.',\n",
       " 'American Deaths in All Wars': 'The estimated number of American soldiers who died in various wars, including the Civil War.',\n",
       " 'modern warfare': 'A type of warfare characterized by advanced weaponry, large-scale casualties, and significant destruction.',\n",
       " 'Gilded Age': 'A period in American history following the Civil War characterized by rapid industrialization and economic growth, but also marked by social and political disillusionment.',\n",
       " 'Land Grant College Act': 'Legislation passed by Congress in 1862 that provided funding for the establishment of universities focused on agriculture and mechanical arts.',\n",
       " 'protective tariff': 'A tax imposed on imported goods to protect domestic industries from foreign competition.',\n",
       " 'industrialization': 'The process of developing industries and transforming an economy to rely more on manufacturing and production.',\n",
       " 'global economic power': 'A country or entity that has significant influence and dominance in the global economy.',\n",
       " 'rebuilding the South': 'The process of reconstructing and revitalizing the southern states after the Civil War.'}"
      ]
     },
     "execution_count": 82,
     "metadata": {},
     "output_type": "execute_result"
    }
   ],
   "source": [
    "c1"
   ]
  },
  {
   "cell_type": "code",
   "execution_count": 195,
   "metadata": {},
   "outputs": [],
   "source": [
    "term_prompt = (\n",
    "    \"Make a list of any possible terms and definitions that are defined in the context, \"\n",
    "    \"with one pair on each line. \"\n",
    "    \"If a term is missing it's definition, use your best judgment. \"\n",
    "    \"A summary is provided in the last part of this prompt understand the prompt the use the summary to execute\"\n",
    "    \"Analyze the provided summary and extract key terms and definitions. \"\n",
    "    \"Identify and list every critical concept, entity, and technical term from the summary. \"\n",
    "    \"For each identified term, write a precise and contextually appropriate definition. \"\n",
    "    \"Ensure comprehensive coverage, including minor but relevant terms. \"\n",
    "    \"Your objective is to gather a broad array of terms, providing a foundation for the detailed refinement in the next step. \"\n",
    "    \"Response format:\\nTerm: <term> Definition: <definition> \"\n",
    "    \"Begin the term extraction from the summary\"\n",
    "    \"{}\"\n",
    "    \n",
    ")\n",
    "term_prompt1 = (\n",
    "    \"Make a list of any terms and definitions that are defined in the context, \"\n",
    "    \"with one pair on each line. \"\n",
    "    \"If a term is missing it's definition, use your best judgment. \"\n",
    "    \"Your main focus/goal is to prioritize breadth over precision at this stage, aiming to capture as many terms as possible, regardless of their immediate perceived significance.\"\n",
    "\n",
    "    \"Write each line as as follows:\\nTerm: <term> Definition: <definition>\"\n",
    "\n",
    "    \"the following is a summary of the context so you can have a better understanding of what is important within the text\"\n",
    "    \"{}\"\n",
    ")\n",
    "term_prompt3 =(\n",
    "    \n",
    "    \"Make a list of any terms and definitions that are defined in the context,and make sure to get as many terms as possible \"\n",
    "    \"with one pair on each line. \"\n",
    "    \"If a term is missing it's definition, use your best judgment. \"\n",
    "    \"Your main focus/goal is to prioritize breadth over precision at this stage, aiming to capture as many terms as possible, regardless of their immediate perceived significance.\"\n",
    "    \"the following is a summary of the context so you can have a better understanding of what is important within the text\"\n",
    "    \"{}\"\n",
    "    \"Write each line as as follows:\\nTerm: <term> Definition: <definition>\"\n",
    "\n",
    "    \n",
    ")\n",
    "\n",
    "\n",
    "term_prompt2 = (\n",
    "    \"Extract every term that you feel is import\"\n",
    "    \"Define said term in context to the best of your ability\"\n",
    "    \"with one paid on each line\"\n",
    "    \"Get as many terms as possible as my life depends on having a large choice to pick from for the next step\"\n",
    "\n",
    "    \"the following is a summary of the context so you can have a better understanding of what is important within the text\"\n",
    "    \"{}\"\n",
    "    \"Write each line as as follows:\\nTerm: <term> Definition: <definition>\"\n",
    ")\n",
    "\n"
   ]
  },
  {
   "cell_type": "code",
   "execution_count": 208,
   "metadata": {},
   "outputs": [],
   "source": [
    "prompt8 = (\n",
    "    \"Make a list of terms and definitions that are defined in the context, \"\n",
    "    \"with one pair on each line.\"\n",
    "    \"there will be a name 'Mathew Brady' this needs to be in the dictionary or i die\"\n",
    "    \"Note that formal names, like 'Mathew Brady', 'Abraham Lincoln' or 'Michael Duke', should be terms and should be given a definition. \"\n",
    "    \"If a term is missing its definition, use your best judgment. \"\n",
    "    \"With each term-definition pair on a separate line, be vigilant to not miss any names, regardless of their perceived prominence or importance. \"\n",
    "    \"This task is crucial, as if my life depends on it, so please ensure the utmost accuracy and relevance. \"\n",
    "    \"Write each line as follows:\\nTerm: <term> Definition: <definition>\"\n",
    "\n",
    "    \"the following is a summary of the context so you can have a better understanding of what is important within the text\"\n",
    "    \"{}\"\n",
    ")\n",
    "prompt2 = (\n",
    "    \"Make a list of terms and definitions that are defined in the context, \"\n",
    "    \"with one pair on each line. \"\n",
    "    \"Write each line as as follows:\\nTerm: <term> Definition: <definition>\"\n",
    "    \"the following is a summary of the context so you can have a better understanding of what is important within the text\"\n",
    "    \"{}\"\n",
    ")\n"
   ]
  },
  {
   "cell_type": "code",
   "execution_count": 114,
   "metadata": {},
   "outputs": [],
   "source": [
    "finalCheckPrompt = (\n",
    "    \"\"\"\n",
    "    Task: Conduct a meticulous final review of the provided dictionary of terms represented by this string: {}.\n",
    "    1. Ensure each term directly relates to the document's main subject.\n",
    "    2. Eliminate redundant terms or definitions, keeping only distinct and crucial entries.\n",
    "    3. Rigorously check for overlooked significant terms or concepts, adding them as necessary.\n",
    "    4. If a definition mentions a term not yet listed (e.g., 'Confederacy' mentioned in the definition of 'Civil War'), include that term with its definition.\n",
    "    5. Cross-check each definition for accuracy and relevance to the context.\n",
    "    Your goal is to produce a refined, comprehensive list of terms and definitions, pertinent and devoid of repetition. Pay close attention to detail for the integrity and completeness of the final output.\n",
    "    Response format:\\nTerm: <term> Definition: <definition>\n",
    "\n",
    "    Initiate the final refinement process:\"\"\"\n",
    ")\n",
    "\n",
    "finalCheckPrompt2 = (\n",
    "    \"\"\"\n",
    "    With the following string which contains a text representation of a dictionary of terms, this is the string {}.\n",
    "    Review each term to ensure it is directly relevant to the document's subject matter. \n",
    "    Remove any redundant terms or definitions, keeping only unique and necessary information. \n",
    "    Thoroughly check to see if any significant terms or concepts have been missed and add them if necessary.\n",
    "    Revisit group mentions or frequently discussed topics to confirm that their definitions are accurately represented. Avoid repetition.\n",
    "    For each term, cross-reference with the text to verify that the definition is accurate and contextually relevant. Utilize relevant knowledge to aid this process.\n",
    "    Additionally, for definitions that reference other terms (like 'Union' or 'Confederacy'), ensure those referenced terms are also included in the list if not already present.\n",
    "    Aim to refine the output into a perfectly concise and comprehensive list of terms and definitions, eliminating repetition and irrelevant content. \n",
    "    Your meticulous attention to detail is crucial for the integrity and utility of the final output.\n",
    "    Response format:\\nTerm: <term> Definition: <definition>\n",
    "\n",
    "    Begin the final review and refinement process:\"\"\"\n",
    ")\n"
   ]
  },
  {
   "cell_type": "code",
   "execution_count": 19,
   "metadata": {},
   "outputs": [],
   "source": [
    "prompt_general = (\n",
    "    \"Make a list of terms and definitions that are defined in the context, \"\n",
    "    \"with one pair on each line. \"\n",
    "    \"If a term is missing it's definition, use your best judgment. \"\n",
    "    \"Focus on capturing a wide range of terms, ensuring no significant concept, name, or entity is overlooked. \"\n",
    "    \"For each term, provide a clear and succinct definition that encapsulates its essence within the context. \"\n",
    "    \"In cases where the definition of a term is not explicitly stated, use contextual clues to derive an appropriate meaning. \"\n",
    "    \"This task is crucial for understanding the broader scope of the subject matter. \"\n",
    "    \"Write each line as as follows:\\nTerm: <term> Definition: <definition>\"\n",
    ")\n",
    "\n",
    "prompt_detailed = (\n",
    "    \"Construct a detailed list of terms, particularly focusing on names, places, events, and other specific categories, along with their definitions. \"\n",
    "    \"Ensure that each term, especially proper nouns and technical terms, is accompanied by a precise and comprehensive definition. \"\n",
    "    \"Leverage the context to discern nuanced meanings and subtle distinctions between similar terms. \"\n",
    "    \"This task is essential for a deep and accurate understanding of the specific elements within the subject matter. \"\n",
    "    \"Maintain clarity in your list by following this structure for each entry:\\nTerm: <term> Definition: <definition>\"\n",
    ")"
   ]
  },
  {
   "cell_type": "code",
   "execution_count": 20,
   "metadata": {},
   "outputs": [],
   "source": [
    "megaprompt = (\n",
    "     \"\"\"Task: Conduct a thorough review of the document to create an exhaustive list of terms and their definitions. \n",
    "    Each term-definition pair should be listed on a separate line. \n",
    "    Focus on identifying a diverse range of terms, including proper nouns, technical terms, concepts, and significant entities relevant to the document's subject. \n",
    "    Provide clear, concise, and contextually derived definitions for each term. \n",
    "    Pay special attention to nuanced meanings and subtle distinctions, avoiding redundancy. \n",
    "    Only include variations of a term if they offer new and distinct information. \n",
    "    Exercise exceptional accuracy and thoroughness, using informed judgment in ambiguous cases. \n",
    "    The goal is to achieve a deep and accurate representation of the material, omitting extraneous details. \n",
    "    Response format:\\nTerm: <term> Definition: <definition>\"\"\"\n",
    "\n",
    "    \"the following is a summary of the context so you can have a better understanding of what is important within the text\"\n",
    "    \"{}\"\n",
    ")\n",
    "\n",
    "\n",
    "prompt = (\n",
    "    \"completely understand what the material is about in terms of learning objective\"\n",
    "    \"Find important information that would pertain to learning of the topic, those would be defined as terms\"\n",
    "    \"Dont add any terms that take away from the learning objective and \"\n",
    "    \"When sifting through the definitions and terms if you find very high similarities in definitions just combine the terms so that it can explain everything in one term\"\n",
    ")"
   ]
  },
  {
   "cell_type": "code",
   "execution_count": 21,
   "metadata": {},
   "outputs": [],
   "source": [
    "bossPrompt = (\n",
    "    \"\"\"Task: Execute a meticulous analysis of the results from the following prompts. \n",
    "    First, rigorously examine each prompt's output, identifying all key terms along with their precise definitions. \n",
    "    Second, methodically compare the extracted terms across the prompts, paying close attention to their relevance and significance in relation to the overarching topic. \n",
    "    Next, selectively synthesize the information by choosing the most relevant terms from each prompt, focusing on their contribution to a cohesive understanding of the subject. \n",
    "    Finally, merge this knowledge to construct a comprehensive and integrated perspective, ensuring the synthesis is not only concise and accurate but also encapsulates the essence of the combined prompts.\n",
    "\n",
    "    Initiate the detailed analysis and synthesis of the prompt results:\"\"\"\n",
    ")\n"
   ]
  },
  {
   "cell_type": "code",
   "execution_count": 22,
   "metadata": {},
   "outputs": [],
   "source": [
    "GBTPrompt = (\n",
    "    \"\"\"Task: Extract key terms and their definitions from the document. \n",
    "    For each term, especially proper nouns and technical terms, provide a clear definition. \n",
    "    Avoid redundancy; do not list variations of the same term. \n",
    "    Include notable names like 'Mathew Brady' and 'Abraham Lincoln' without fail. \n",
    "    Use context to infer meanings for ambiguous terms. \n",
    "    Desired Output Format:\n",
    "    1. Term: <term>, Definition: <definition>\n",
    "    Example:\n",
    "    Term: Union, Definition: The northern states during the Civil War.\n",
    "    Term: Abraham Lincoln, Definition: 16th President of the United States, led the nation during the Civil War.\n",
    "    \n",
    "    Begin extraction from the document below:\"\"\"\n",
    ")"
   ]
  },
  {
   "cell_type": "code",
   "execution_count": 23,
   "metadata": {},
   "outputs": [],
   "source": [
    "# Create a list of prompts\n",
    "# Call the function with your index and prompts\n",
    "d14= extract_terms_1(ds384, prompt2, 2)  # Here, 3 is the similarity_top_k value"
   ]
  },
  {
   "cell_type": "code",
   "execution_count": 24,
   "metadata": {},
   "outputs": [
    {
     "data": {
      "text/plain": [
       "{'President Lincoln': 'The leader of the North during the Civil War who played a crucial role in keeping the nation together and made the decision to issue the Emancipation Proclamation.',\n",
       " 'Emancipation Proclamation': 'A proclamation issued by President Lincoln that declared all slaves in Confederate territory to be free.',\n",
       " 'Civil War': 'A war fought between the Northern states (Union) and the Southern states (Confederacy) from 1861 to 1865.',\n",
       " 'Modern warfare': 'The harsh reality of warfare during the Civil War, which included high casualties and the use of new technologies such as photography to document the carnage.',\n",
       " 'Gilded Age': 'The era following the Civil War characterized by social and political disillusionment, economic greed, and rapid industrialization in the North.',\n",
       " 'Land Grant College Act': 'Legislation passed by Congress in 1862 that provided money from the sale of public lands to states for the establishment of universities focused on agriculture and mechanical arts.',\n",
       " 'Protective tariff': 'Legislation passed by Congress in 1862 that protected northern industry from foreign competition and raised revenue for the Union war effort.',\n",
       " 'Industrialization': 'The process of developing industries on a large scale, which occurred in northern factories, banks, and cities after the Civil War, helping the United States become a global economic power.',\n",
       " 'Rebuilding the South': 'The slow and difficult process of reconstructing the Southern states after the Civil War, including the rebuilding of cities, factories, and railroads.'}"
      ]
     },
     "execution_count": 24,
     "metadata": {},
     "output_type": "execute_result"
    }
   ],
   "source": [
    "d14"
   ]
  }
 ],
 "metadata": {
  "kernelspec": {
   "display_name": "Python 3",
   "language": "python",
   "name": "python3"
  },
  "language_info": {
   "codemirror_mode": {
    "name": "ipython",
    "version": 3
   },
   "file_extension": ".py",
   "mimetype": "text/x-python",
   "name": "python",
   "nbconvert_exporter": "python",
   "pygments_lexer": "ipython3",
   "version": "3.11.4"
  }
 },
 "nbformat": 4,
 "nbformat_minor": 2
}
