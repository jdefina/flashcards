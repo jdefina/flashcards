{
 "cells": [
  {
   "cell_type": "code",
   "execution_count": 1,
   "metadata": {},
   "outputs": [],
   "source": [
    "from dotenv import load_dotenv\n",
    "import os\n",
    "import openai\n",
    "from datasets import load_dataset\n",
    "import llama_index\n",
    "from llama_index import Document\n",
    "from llama_index.node_parser import SimpleNodeParser\n",
    "from llama_index.vector_stores import PineconeVectorStore\n",
    "from llama_index import GPTVectorStoreIndex, StorageContext, ServiceContext\n",
    "import chromadb\n",
    "from llama_index import VectorStoreIndex\n",
    "from llama_index.vector_stores import ChromaVectorStore\n",
    "from llama_index.storage.storage_context import StorageContext\n",
    "from llama_index.prompts import PromptTemplate\n",
    "from llama_index.embeddings.openai import OpenAIEmbedding\n",
    "from llama_index.node_parser import SimpleNodeParser\n",
    "from pathlib import Path\n",
    "from llama_index import download_loader\n",
    "from llama_index.embeddings import OpenAIEmbedding\n",
    "from llama_index.text_splitter import SentenceSplitter\n",
    "from llama_index.extractors import TitleExtractor\n",
    "from llama_index.ingestion import IngestionPipeline, IngestionCache\n",
    "from llama_index import download_loader\n",
    "from pathlib import Path\n",
    "from llama_index import download_loader\n",
    "from llama_index import VectorStoreIndex\n",
    "from llama_index import SummaryIndex\n",
    "import openai\n",
    "from llama_index.indices.document_summary import DocumentSummaryIndex\n",
    "from llama_index.llms import OpenAI\n",
    "from llama_index import (\n",
    "    SimpleDirectoryReader,\n",
    "    ServiceContext,\n",
    "    get_response_synthesizer,\n",
    ")\n",
    "from llama_index import ServiceContext, VectorStoreIndex\n",
    "from llama_index.extractors import (\n",
    "    TitleExtractor,\n",
    "    QuestionsAnsweredExtractor,\n",
    ")\n",
    "\n",
    "from llama_index.ingestion import IngestionPipeline\n",
    "from llama_index.text_splitter import TokenTextSplitter\n",
    "\n",
    "from llama_index.storage.docstore import SimpleDocumentStore\n",
    "from llama_index.storage.index_store import SimpleIndexStore\n",
    "from llama_index import (\n",
    "    load_index_from_storage,\n",
    "    load_indices_from_storage,\n",
    "    load_graph_from_storage,\n",
    ")"
   ]
  },
  {
   "cell_type": "code",
   "execution_count": 2,
   "metadata": {},
   "outputs": [],
   "source": [
    "os.environ['OPENAI_API_KEY'] = OPENAI_API_KEY"
   ]
  },
  {
   "cell_type": "code",
   "execution_count": 13,
   "metadata": {},
   "outputs": [],
   "source": [
    "storage_context = StorageContext.from_defaults(\n",
    "    docstore= SimpleDocumentStore.from_persist_dir(persist_dir=\"C:/Users/jrdef/Documents/ds384\"),\n",
    "    index_store=SimpleIndexStore.from_persist_dir(persist_dir=\"C:/Users/jrdef/Documents/ds384\")\n",
    ")\n",
    "\n",
    "ds384 = load_index_from_storage(storage_context)"
   ]
  },
  {
   "cell_type": "code",
   "execution_count": 35,
   "metadata": {},
   "outputs": [],
   "source": [
    "PDFReader = download_loader(\"PDFReader\")\n",
    "\n",
    "loader = PDFReader()\n",
    "documents = loader.load_data(file=Path('C:/Users/jrdef/Downloads/civil_war.pdf'))"
   ]
  },
  {
   "cell_type": "code",
   "execution_count": 36,
   "metadata": {},
   "outputs": [],
   "source": [
    "pages = documents[1:3]"
   ]
  },
  {
   "cell_type": "markdown",
   "metadata": {},
   "source": [
    "## BEGIN TO MAKE FLASHCARD"
   ]
  },
  {
   "cell_type": "code",
   "execution_count": 19,
   "metadata": {},
   "outputs": [],
   "source": [
    "def get_llm(openai_api_key, max_tokens=8192):\n",
    "    os.environ[\"OPENAI_API_KEY\"] = openai_api_key\n",
    "    return OpenAI(\n",
    "        temperature=0.0, model='gpt-3.5-turbo-16k', max_tokens=max_tokens\n",
    "    )"
   ]
  },
  {
   "cell_type": "code",
   "execution_count": 20,
   "metadata": {},
   "outputs": [],
   "source": [
    "llm = get_llm(OPENAI_API_KEY)\n"
   ]
  },
  {
   "cell_type": "code",
   "execution_count": 34,
   "metadata": {},
   "outputs": [],
   "source": [
    "def get_ds_index(documents, llm, api_key):\n",
    "\n",
    "    service_context = ServiceContext.from_defaults(llm=llm, chunk_size=384, chunk_overlap=128)\n",
    "\n",
    "    response_synthesizer = get_response_synthesizer(\n",
    "    response_mode=\"tree_summarize\", use_async=True\n",
    "    )\n",
    "    \n",
    "    temp_index = DocumentSummaryIndex.from_documents(\n",
    "        documents, \n",
    "        service_context=service_context,\n",
    "        response_synthesizer = response_synthesizer\n",
    "    )\n",
    "\n",
    "    return temp_index"
   ]
  },
  {
   "cell_type": "code",
   "execution_count": 39,
   "metadata": {},
   "outputs": [
    {
     "name": "stdout",
     "output_type": "stream",
     "text": [
      "current doc id: 4782c65f-d7f1-43b3-a89a-ef8e9ccebf14\n",
      "current doc id: 7cdd6ed8-a751-4238-88eb-c5278b9457cd\n"
     ]
    }
   ],
   "source": [
    "ds384 = get_ds_index(pages, llm, OPENAI_API_KEY)"
   ]
  },
  {
   "cell_type": "code",
   "execution_count": 85,
   "metadata": {},
   "outputs": [],
   "source": [
    "def extract_terms_1(index, prompt, summary, k=1):\n",
    "    query_engine = index.as_query_engine(\n",
    "        similarity_top_k=k\n",
    "    )\n",
    "\n",
    "    f_prompt = prompt.format(summary)\n",
    "\n",
    "    terms_definitions = str(query_engine.query(f_prompt))\n",
    "    terms_definitions = [\n",
    "        x\n",
    "        for x in terms_definitions.split(\"\\n\")\n",
    "        if x and \"Term:\" in x and \"Definition:\" in x\n",
    "    ]\n",
    "    # parse the text into a dict\n",
    "    terms_to_definition = {\n",
    "        x.split(\"Definition:\")[0]\n",
    "        .split(\"Term:\")[-1]\n",
    "        .strip(): x.split(\"Definition:\")[-1]\n",
    "        .strip()\n",
    "        for x in terms_definitions\n",
    "    }\n",
    "    return terms_to_definition"
   ]
  },
  {
   "cell_type": "code",
   "execution_count": 83,
   "metadata": {},
   "outputs": [],
   "source": [
    "def summarize_docs(index, prompt, k=1):\n",
    "    query_engine = index.as_query_engine(similarity_top_k=k)\n",
    "\n",
    "    summary = str(query_engine.query(prompt))\n",
    "\n",
    "    return summary\n"
   ]
  },
  {
   "cell_type": "code",
   "execution_count": 37,
   "metadata": {},
   "outputs": [],
   "source": [
    "def extract_terms(index, summary, prompts, k=1):\n",
    "    query_engine = index.as_query_engine(similarity_top_k=k)\n",
    "\n",
    "    all_terms_to_definition = {}\n",
    "    for prompt in prompts:\n",
    "        terms_definitions = str(query_engine.query(prompt))\n",
    "        terms_definitions = [\n",
    "            x\n",
    "            for x in terms_definitions.split(\"\\n\")\n",
    "            if x and \"Term:\" in x and \"Definition:\" in x\n",
    "        ]\n",
    "        for term_definition in terms_definitions:\n",
    "            term = term_definition.split(\"Definition:\")[0].split(\"Term:\")[-1].strip()\n",
    "            definition = term_definition.split(\"Definition:\")[-1].strip()\n",
    "\n",
    "            if term in all_terms_to_definition:\n",
    "                # Combine definitions if they are different\n",
    "                if all_terms_to_definition[term] != definition:\n",
    "                    all_terms_to_definition[term] += \" Additionally, \" + definition\n",
    "            else:\n",
    "                all_terms_to_definition[term] = definition\n",
    "\n",
    "    return all_terms_to_definition"
   ]
  },
  {
   "cell_type": "code",
   "execution_count": 56,
   "metadata": {},
   "outputs": [],
   "source": [
    "def check_terms(index, context_str, prompt, k = 1):\n",
    "    query_engine = index.as_query_engine(similarity_top_k = k)\n",
    "\n",
    "    context_str = str(context_str)\n",
    "\n",
    "    final_prompt = prompt.format(context_str)\n",
    "\n",
    "    terms_definitions = str(query_engine.query(final_prompt))\n",
    "    terms_definitions = [\n",
    "        x\n",
    "        for x in terms_definitions.split(\"\\n\")\n",
    "        if x and \"Term:\" in x and \"Definition:\" in x\n",
    "    ]\n",
    "    # parse the text into a dict\n",
    "    terms_to_definition = {\n",
    "        x.split(\"Definition:\")[0]\n",
    "        .split(\"Term:\")[-1]\n",
    "        .strip(): x.split(\"Definition:\")[-1]\n",
    "        .strip()\n",
    "        for x in terms_definitions\n",
    "    }\n",
    "    return terms_to_definition\n",
    "\n",
    "    "
   ]
  },
  {
   "cell_type": "code",
   "execution_count": 98,
   "metadata": {},
   "outputs": [],
   "source": [
    "summaryPrompt = (\n",
    "    \"\"\"Task: Carefully read the document and produce a concise summary. \n",
    "    It is crucial to highlight all main themes, crucial events, key figures, and significant concepts, as missing any could have dire consequences.\n",
    "    ensure that you mention all people and events of importance that had any significant context in the field.\n",
    "    Ensure the summary distills the document's content into its most essential elements, capturing every potential term and idea without omission. \n",
    "    The accuracy and comprehensiveness of this summary are vital, as if a life depends on it, setting the stage for accurate term and definition extraction in the next phase.\"\"\"\n",
    ")\n",
    "\n",
    "summaryPrompt2 = (\n",
    "    \"\"\"Task: Create a detailed summary of the document, emphasizing all major events, crucial figures, and central themes. \n",
    "    It is imperative that no significant event names or key individuals are omitted. \n",
    "    After summarizing, list the most important terms derived from this reading, such as specific events, people, concepts, and terms crucial to understanding the subject matter. \n",
    "    This list will serve as a vital reference for extracting precise terms and definitions in subsequent stages.\"\"\"\n",
    ")"
   ]
  },
  {
   "cell_type": "code",
   "execution_count": 99,
   "metadata": {},
   "outputs": [],
   "source": [
    "s1 = summarize_docs(ds384, summaryPrompt2)"
   ]
  },
  {
   "cell_type": "code",
   "execution_count": 100,
   "metadata": {},
   "outputs": [
    {
     "data": {
      "text/plain": [
       "'The document provides information about the Civil War, including major events, key figures, and central themes. The Confederacy fought a defensive war after suffering significant defeats in 1863, until their armies surrendered to Union troops. Some important events mentioned in the document include the battles of Gettysburg, Petersburg, and Atlanta, as well as the surrender at Appomattox Court House. The document also highlights the regions where most of the fighting was concentrated after 1863, and the devastating impact of the war on both sides. The Union costs of the war were $6.1 billion with an inflation rate of 80 percent, while the Confederate costs were $2 billion with an inflation rate of 9,000 percent. Many southern farms, factories, and railroads were destroyed, and the southern industry was crippled. The Confederate states lost two-thirds of their wealth. The death toll from the Civil War was staggering, with over half a million soldiers killed and more than 500,000 wounded. \\n\\nImportant terms derived from this reading include:\\n- Civil War\\n- Confederacy\\n- Union troops\\n- Gettysburg\\n- Petersburg\\n- Atlanta\\n- Appomattox Court House\\n- Defensive war\\n- Surrender\\n- Union costs\\n- Confederate costs\\n- Inflation\\n- Southern farms, factories, and railroads\\n- Southern industry\\n- Death toll'"
      ]
     },
     "execution_count": 100,
     "metadata": {},
     "output_type": "execute_result"
    }
   ],
   "source": [
    "s1"
   ]
  },
  {
   "cell_type": "code",
   "execution_count": 78,
   "metadata": {},
   "outputs": [],
   "source": [
    "prompt_list = [bossPrompt, megaprompt, prompt2]"
   ]
  },
  {
   "cell_type": "code",
   "execution_count": 101,
   "metadata": {},
   "outputs": [],
   "source": [
    "t1 = extract_terms_1(ds384, term_prompt, s1, 3)"
   ]
  },
  {
   "cell_type": "code",
   "execution_count": 102,
   "metadata": {},
   "outputs": [
    {
     "data": {
      "text/plain": [
       "{'Civil War': 'A war fought between the Northern states (Union) and the Southern states (Confederacy) in the United States from 1861 to 1865.',\n",
       " 'Confederacy': 'The group of Southern states that seceded from the United States and formed their own government during the Civil War.',\n",
       " 'Union troops': 'The military forces of the Northern states during the Civil War.',\n",
       " 'Gettysburg': 'A major battle fought in Gettysburg, Pennsylvania, in July 1863, considered a turning point in the Civil War.',\n",
       " 'Petersburg': 'A city in Virginia where a significant battle took place during the Civil War, known as the Siege of Petersburg.',\n",
       " 'Atlanta': 'A city in Georgia that was a major target for Union forces during the Civil War, and was eventually captured in September 1864.',\n",
       " 'Appomattox Court House': 'The location in Virginia where Confederate General Robert E. Lee surrendered to Union General Ulysses S. Grant, effectively ending the Civil War.',\n",
       " 'Defensive war': 'A war strategy in which a side primarily focuses on defending its territory rather than launching offensive attacks.',\n",
       " 'Surrender': 'The act of giving up or yielding to an opponent in a war or conflict.',\n",
       " 'Union costs': 'The financial expenses incurred by the Northern states during the Civil War, totaling $6.1 billion with an inflation rate of 80 percent.',\n",
       " 'Confederate costs': 'The financial expenses incurred by the Southern states during the Civil War, totaling $2 billion with an inflation rate of 9,000 percent.',\n",
       " 'Inflation': 'The increase in prices of goods and services over time, resulting in a decrease in the purchasing power of money.',\n",
       " 'Southern farms, factories, and railroads': 'The infrastructure and economic assets in the Southern states that were destroyed or damaged during the Civil War.',\n",
       " 'Southern industry': 'The manufacturing and industrial sector in the Southern states that was severely impacted and weakened as a result of the Civil War.',\n",
       " 'Death toll': 'The number of people who died as a result of a particular event or conflict, in this case, the number of soldiers killed during the Civil War.'}"
      ]
     },
     "execution_count": 102,
     "metadata": {},
     "output_type": "execute_result"
    }
   ],
   "source": [
    "t1"
   ]
  },
  {
   "cell_type": "code",
   "execution_count": 104,
   "metadata": {},
   "outputs": [
    {
     "data": {
      "text/plain": [
       "{'Civil War': 'A war fought between the Northern states (Union) and the Southern states (Confederacy) in the United States from 1861 to 1865.',\n",
       " 'Confederacy': 'The group of Southern states that seceded from the United States and formed their own government during the Civil War.',\n",
       " 'Union troops': 'The military forces of the Northern states during the Civil War.',\n",
       " 'Gettysburg': 'A major battle fought in Gettysburg, Pennsylvania, in July 1863, considered a turning point in the Civil War.',\n",
       " 'Petersburg': 'A city in Virginia where a significant battle took place during the Civil War, known as the Siege of Petersburg.',\n",
       " 'Atlanta': 'A city in Georgia that was a major target for Union forces during the Civil War, and was eventually captured in September 1864.',\n",
       " 'Appomattox Court House': 'The location in Virginia where Confederate General Robert E. Lee surrendered to Union General Ulysses S. Grant, effectively ending the Civil War.',\n",
       " 'Defensive war': 'A war strategy in which a side primarily focuses on defending its territory rather than launching offensive attacks.',\n",
       " 'Surrender': 'The act of giving up or yielding to an opponent in a war or conflict.',\n",
       " 'Union costs': 'The financial expenses incurred by the Northern states during the Civil War, totaling $6.1 billion with an inflation rate of 80 percent.',\n",
       " 'Confederate costs': 'The financial expenses incurred by the Southern states during the Civil War, totaling $2 billion with an inflation rate of 9,000 percent.',\n",
       " 'Inflation': 'The increase in prices of goods and services over time, resulting in a decrease in the purchasing power of money.',\n",
       " 'Southern farms, factories, and railroads': 'The infrastructure and economic assets in the Southern states that were destroyed or damaged during the Civil War.',\n",
       " 'Southern industry': 'The manufacturing and industrial sector in the Southern states that was severely impacted and weakened as a result of the Civil War.',\n",
       " 'Death toll': 'The number of people who died as a result of a particular event or conflict, in this case, the number of soldiers killed during the Civil War.'}"
      ]
     },
     "execution_count": 104,
     "metadata": {},
     "output_type": "execute_result"
    }
   ],
   "source": [
    "c2"
   ]
  },
  {
   "cell_type": "code",
   "execution_count": 79,
   "metadata": {},
   "outputs": [],
   "source": [
    "d14= extract_terms(ds384, prompt_list, 2)  # Here, 3 is the similarity_top_k value"
   ]
  },
  {
   "cell_type": "code",
   "execution_count": 103,
   "metadata": {},
   "outputs": [],
   "source": [
    "c2 = check_terms(ds384, t1, finalCheckPrompt)"
   ]
  },
  {
   "cell_type": "code",
   "execution_count": 80,
   "metadata": {},
   "outputs": [
    {
     "data": {
      "text/plain": [
       "{'Union': 'A side in the Civil War that fought to preserve the United States and abolish slavery.',\n",
       " 'Confederate': 'A side in the Civil War that fought for the independence of the Southern states and the preservation of slavery.',\n",
       " 'Union forces': 'The military forces of the Union side in the Civil War.',\n",
       " 'Confederate forces': 'The military forces of the Confederate side in the Civil War.',\n",
       " 'Union victory': 'A successful outcome for the Union side in a battle or the overall war.',\n",
       " 'Confederate victory': 'A successful outcome for the Confederate side in a battle or the overall war.',\n",
       " 'Gettysburg': 'A town in Pennsylvania where a major battle of the Civil War took place in 1863.',\n",
       " 'Petersburg': 'A city in Virginia where a major battle of the Civil War took place in 1864-1865.',\n",
       " 'Atlanta': 'A city in Georgia that was a key target for the Union forces during the Civil War.',\n",
       " 'Appomattox Court House': 'A village in Virginia where General Robert E. Lee surrendered to General Ulysses S. Grant, effectively ending the Civil War.',\n",
       " 'defensive war': 'A type of war strategy where a side primarily focuses on defending its territory rather than launching offensive attacks.',\n",
       " 'Civil War Deaths': 'The number of soldiers who died during the Civil War.',\n",
       " 'Union costs': 'The financial expenses incurred by the Union side during the Civil War.',\n",
       " 'Confederate costs': 'The financial expenses incurred by the Confederate side during the Civil War.',\n",
       " 'inflation': 'A general increase in prices and decrease in the purchasing power of money.',\n",
       " 'southern farms, factories, and railroads': 'Infrastructure and economic assets in the southern states that were destroyed during the Civil War.',\n",
       " 'southern industry': 'The manufacturing and industrial sector in the southern states that was severely impacted and weakened by the Civil War.',\n",
       " 'Confederate states': 'The states that seceded from the United States and formed the Confederate States of America during the Civil War.',\n",
       " 'American Deaths in All Wars': 'The estimated number of American soldiers who died in various wars, including the Civil War.',\n",
       " 'modern warfare': 'A type of warfare characterized by advanced weaponry, large-scale casualties, and significant destruction.',\n",
       " 'Gilded Age': 'A period in American history following the Civil War characterized by rapid industrialization and economic growth, but also marked by social and political disillusionment.',\n",
       " 'Land Grant College Act': 'Legislation passed by Congress in 1862 that provided funding for the establishment of universities focused on agriculture and mechanical arts.',\n",
       " 'protective tariff': 'A tax imposed on imported goods to protect domestic industries from foreign competition.',\n",
       " 'industrialization': 'The process of developing industries and transforming an economy to rely more on manufacturing and production.',\n",
       " 'global economic power': 'A country or entity that has significant influence and dominance in the global economy.',\n",
       " 'rebuilding the South': 'The process of reconstructing and revitalizing the southern states after the Civil War.'}"
      ]
     },
     "execution_count": 80,
     "metadata": {},
     "output_type": "execute_result"
    }
   ],
   "source": [
    "d14"
   ]
  },
  {
   "cell_type": "code",
   "execution_count": 82,
   "metadata": {},
   "outputs": [
    {
     "data": {
      "text/plain": [
       "{'Union': 'A side in the Civil War that fought to preserve the United States and abolish slavery.',\n",
       " 'Confederate': 'A side in the Civil War that fought for the independence of the Southern states and the preservation of slavery.',\n",
       " 'Union forces': 'The military forces of the Union side in the Civil War.',\n",
       " 'Confederate forces': 'The military forces of the Confederate side in the Civil War.',\n",
       " 'Union victory': 'A successful outcome for the Union side in a battle or the overall war.',\n",
       " 'Confederate victory': 'A successful outcome for the Confederate side in a battle or the overall war.',\n",
       " 'Gettysburg': 'A town in Pennsylvania where a major battle of the Civil War took place in 1863.',\n",
       " 'Petersburg': 'A city in Virginia where a major battle of the Civil War took place in 1864-1865.',\n",
       " 'Atlanta': 'A city in Georgia that was a key target for the Union forces during the Civil War.',\n",
       " 'Appomattox Court House': 'A village in Virginia where General Robert E. Lee surrendered to General Ulysses S. Grant, effectively ending the Civil War.',\n",
       " 'defensive war': 'A type of war strategy where a side primarily focuses on defending its territory rather than launching offensive attacks.',\n",
       " 'Civil War Deaths': 'The number of soldiers who died during the Civil War.',\n",
       " 'Union costs': 'The financial expenses incurred by the Union side during the Civil War.',\n",
       " 'Confederate costs': 'The financial expenses incurred by the Confederate side during the Civil War.',\n",
       " 'inflation': 'A general increase in prices and decrease in the purchasing power of money.',\n",
       " 'southern farms, factories, and railroads': 'Infrastructure and economic assets in the southern states that were destroyed during the Civil War.',\n",
       " 'southern industry': 'The manufacturing and industrial sector in the southern states that was severely impacted and weakened by the Civil War.',\n",
       " 'Confederate states': 'The states that seceded from the United States and formed the Confederate States of America during the Civil War.',\n",
       " 'American Deaths in All Wars': 'The estimated number of American soldiers who died in various wars, including the Civil War.',\n",
       " 'modern warfare': 'A type of warfare characterized by advanced weaponry, large-scale casualties, and significant destruction.',\n",
       " 'Gilded Age': 'A period in American history following the Civil War characterized by rapid industrialization and economic growth, but also marked by social and political disillusionment.',\n",
       " 'Land Grant College Act': 'Legislation passed by Congress in 1862 that provided funding for the establishment of universities focused on agriculture and mechanical arts.',\n",
       " 'protective tariff': 'A tax imposed on imported goods to protect domestic industries from foreign competition.',\n",
       " 'industrialization': 'The process of developing industries and transforming an economy to rely more on manufacturing and production.',\n",
       " 'global economic power': 'A country or entity that has significant influence and dominance in the global economy.',\n",
       " 'rebuilding the South': 'The process of reconstructing and revitalizing the southern states after the Civil War.'}"
      ]
     },
     "execution_count": 82,
     "metadata": {},
     "output_type": "execute_result"
    }
   ],
   "source": [
    "c1"
   ]
  },
  {
   "cell_type": "code",
   "execution_count": 91,
   "metadata": {},
   "outputs": [],
   "source": [
    "term_prompt = (\n",
    "    \"Make a list of terms and definitions that are defined in the context, \"\n",
    "    \"with one pair on each line. \"\n",
    "    \"If a term is missing it's definition, use your best judgment. \"\n",
    "    \"For terms that are similar dont use the same term twice meaning if you use Union, there is no need for another term Union forces\"\n",
    "    \"Write each line as as follows:\\nTerm: <term> Definition: <definition>\"\n",
    "\n",
    "    \"the following is a summary of the context so you can have a better understanding of what is important within the text\"\n",
    "    \"{}\"\n",
    ")\n"
   ]
  },
  {
   "cell_type": "code",
   "execution_count": null,
   "metadata": {},
   "outputs": [],
   "source": [
    "prompt8 = (\n",
    "    \"Make a list of terms and definitions that are defined in the context, \"\n",
    "    \"with one pair on each line.\"\n",
    "    \"there will be a name 'Mathew Brady' this needs to be in the dictionary or i die\"\n",
    "    \"Note that formal names, like 'Mathew Brady', 'Abraham Lincoln' or 'Michael Duke', should be terms and should be given a definition. \"\n",
    "    \"If a term is missing its definition, use your best judgment. \"\n",
    "    \"With each term-definition pair on a separate line, be vigilant to not miss any names, regardless of their perceived prominence or importance. \"\n",
    "    \"This task is crucial, as if my life depends on it, so please ensure the utmost accuracy and relevance. \"\n",
    "    \"Write each line as follows:\\nTerm: <term> Definition: <definition>\"\n",
    ")\n",
    "prompt2 = (\n",
    "    \"Make a list of terms and definitions that are defined in the context, \"\n",
    "    \"with one pair on each line. \"\n",
    "    \"If a term is missing it's definition, use your best judgment. \"\n",
    "    \"For terms that are similar dont use the same term twice meaning if you use Union, there is no need for another term Union forces\"\n",
    "    \"Write each line as as follows:\\nTerm: <term> Definition: <definition>\"\n",
    ")\n"
   ]
  },
  {
   "cell_type": "code",
   "execution_count": 73,
   "metadata": {},
   "outputs": [],
   "source": [
    "finalCheckPrompt = (\n",
    "    \"\"\"\n",
    "    With the following string which contains a text representation of a dictionary of terms. this is the string {}.\n",
    "    Ensure that each term is directly relevant to the document's subject matter. \n",
    "    Eliminate any redundant terms or definitions, retaining only unique and necessary information. \n",
    "    Verify that no significant terms or concepts have been overlooked. \n",
    "    if there is a group talked about more than once, ensure that the definition is already accurately represented and do not repeat.\n",
    "    The goal is to refine the output into a perfectly concise and comprehensive list of terms and definitions, free from repetition and irrelevant content. \n",
    "    This means that for each term, ensure there is a definition in the text which matches and ensures that this is relevant to the context. Use relevant information you know in order to do this. \n",
    "    Your meticulous attention to detail is vital for the integrity and utility of the final output.\n",
    "    \"Write each line as as follows:\\nTerm: <term> Definition: <definition>\"\n",
    "\n",
    "    Begin the final review and refinement process:\"\"\"\n",
    ")"
   ]
  },
  {
   "cell_type": "code",
   "execution_count": 23,
   "metadata": {},
   "outputs": [],
   "source": [
    "prompt_general = (\n",
    "    \"Make a list of terms and definitions that are defined in the context, \"\n",
    "    \"with one pair on each line. \"\n",
    "    \"If a term is missing it's definition, use your best judgment. \"\n",
    "    \"Focus on capturing a wide range of terms, ensuring no significant concept, name, or entity is overlooked. \"\n",
    "    \"For each term, provide a clear and succinct definition that encapsulates its essence within the context. \"\n",
    "    \"In cases where the definition of a term is not explicitly stated, use contextual clues to derive an appropriate meaning. \"\n",
    "    \"This task is crucial for understanding the broader scope of the subject matter. \"\n",
    "    \"Write each line as as follows:\\nTerm: <term> Definition: <definition>\"\n",
    ")\n",
    "\n",
    "prompt_detailed = (\n",
    "    \"Construct a detailed list of terms, particularly focusing on names, places, events, and other specific categories, along with their definitions. \"\n",
    "    \"Ensure that each term, especially proper nouns and technical terms, is accompanied by a precise and comprehensive definition. \"\n",
    "    \"Leverage the context to discern nuanced meanings and subtle distinctions between similar terms. \"\n",
    "    \"This task is essential for a deep and accurate understanding of the specific elements within the subject matter. \"\n",
    "    \"Maintain clarity in your list by following this structure for each entry:\\nTerm: <term> Definition: <definition>\"\n",
    ")"
   ]
  },
  {
   "cell_type": "code",
   "execution_count": 76,
   "metadata": {},
   "outputs": [],
   "source": [
    "megaprompt = (\n",
    "    \"Carefully review the document and compile an exhaustive list of terms and their definitions, \"\n",
    "    \"presenting each term-definition pair on a separate line. \"\n",
    "    \"Prioritize identifying a diverse range of terms, especially focusing on proper nouns such as 'Mathew Brady', 'Abraham Lincoln', key technical terms, concepts, and significant entities. \"\n",
    "    \"For each term, provide a definition that is clear, concise, and contextually derived when not explicitly stated. \"\n",
    "    \"Special emphasis should be on nuanced meanings and subtle distinctions. \"\n",
    "    \"Avoid redundancy in terms - for instance, if 'Union' is already listed, do not include 'Union victory' unless it adds distinct, new information. \"\n",
    "    \"This task demands exceptional accuracy and thoroughness due to its critical nature. \"\n",
    "    \"In ambiguous cases, employ informed judgment for the most fitting definitions. \"\n",
    "    \"Aim for a deep, accurate understanding and representation of the material, steering clear of irrelevant details like page labels or file names. \"\n",
    "    \"Format your response as:\\nTerm: <term> Definition: <definition>\"\n",
    ")\n",
    "\n",
    "prompt = (\n",
    "    \"completely understand what the material is about in terms of learning objective\"\n",
    "    \"Find important information that would pertain to learning of the topic, those would be defined as terms\"\n",
    "    \"Dont add any terms that take away from the learning objective and \"\n",
    "    \"When sifting through the definitions and terms if you find very high similarities in definitions just combine the terms so that it can explain everything in one term\"\n",
    ")"
   ]
  },
  {
   "cell_type": "code",
   "execution_count": 77,
   "metadata": {},
   "outputs": [],
   "source": [
    "bossPrompt = (\n",
    "    \"\"\"Task: Analyze the results from the following prompts. \n",
    "    For each prompt, identify the key terms extracted along with their definitions. \n",
    "    Compare the terms from both prompts, focusing on their relevance to the overarching topic. \n",
    "    Synthesize the information by selecting the most pertinent terms from each prompt. \n",
    "    Combine the knowledge from these terms to create a comprehensive understanding of the subject. \n",
    "    Ensure the final output is concise, accurate, and presents an integrated perspective based on the information from both prompts.\n",
    "    \n",
    "    Begin analysis and synthesis of the prompt results:\"\"\"\n",
    ")"
   ]
  },
  {
   "cell_type": "code",
   "execution_count": 8,
   "metadata": {},
   "outputs": [],
   "source": [
    "GBTPrompt = (\n",
    "    \"\"\"Task: Extract key terms and their definitions from the document. \n",
    "    For each term, especially proper nouns and technical terms, provide a clear definition. \n",
    "    Avoid redundancy; do not list variations of the same term. \n",
    "    Include notable names like 'Mathew Brady' and 'Abraham Lincoln' without fail. \n",
    "    Use context to infer meanings for ambiguous terms. \n",
    "    Desired Output Format:\n",
    "    1. Term: <term>, Definition: <definition>\n",
    "    Example:\n",
    "    Term: Union, Definition: The northern states during the Civil War.\n",
    "    Term: Abraham Lincoln, Definition: 16th President of the United States, led the nation during the Civil War.\n",
    "    \n",
    "    Begin extraction from the document below:\"\"\"\n",
    ")"
   ]
  },
  {
   "cell_type": "code",
   "execution_count": 44,
   "metadata": {},
   "outputs": [],
   "source": [
    "# Create a list of prompts\n",
    "# Call the function with your index and prompts\n",
    "d14= extract_terms_1(ds384, prompt2, 2)  # Here, 3 is the similarity_top_k value"
   ]
  },
  {
   "cell_type": "code",
   "execution_count": 45,
   "metadata": {},
   "outputs": [
    {
     "data": {
      "text/plain": [
       "{'Union': 'A side in the Civil War that fought to preserve the United States and abolish slavery.',\n",
       " 'Confederate': 'A side in the Civil War that fought for the independence of the Southern states and the preservation of slavery.',\n",
       " 'Union forces': 'The military forces of the Union side in the Civil War.',\n",
       " 'Confederate forces': 'The military forces of the Confederate side in the Civil War.',\n",
       " 'Union victory': 'A successful outcome for the Union side in the Civil War.',\n",
       " 'Confederate victory': 'A successful outcome for the Confederate side in the Civil War.',\n",
       " 'Gettysburg': 'A major battle in the Civil War that took place in Gettysburg, Pennsylvania.',\n",
       " 'Petersburg': 'A city in Virginia that was the site of a major battle in the Civil War.',\n",
       " 'Atlanta': 'A city in Georgia that was the site of a major battle in the Civil War.',\n",
       " 'Appomattox Court House': 'The location where General Robert E. Lee surrendered to General Ulysses S. Grant, effectively ending the Civil War.',\n",
       " 'defensive war': 'A type of war in which one side primarily focuses on defending its territory rather than launching offensive attacks.',\n",
       " 'Civil War Deaths': 'The number of soldiers who died during the Civil War.',\n",
       " 'Union costs': 'The financial expenses incurred by the Union side during the Civil War.',\n",
       " 'Confederate costs': 'The financial expenses incurred by the Confederate side during the Civil War.',\n",
       " 'inflation': 'A general increase in prices and decrease in the purchasing power of money.',\n",
       " 'southern farms, factories, and railroads': 'Infrastructure in the southern states that was destroyed during the Civil War.',\n",
       " 'southern industry': 'The industrial sector in the southern states that was severely impacted and weakened by the Civil War.',\n",
       " 'Confederate states': 'The states that seceded from the United States and formed the Confederate States of America during the Civil War.',\n",
       " 'American Deaths in All Wars': 'The number of American soldiers who died in various wars throughout history.',\n",
       " 'Lincoln': 'President Abraham Lincoln, who led the United States during the Civil War.',\n",
       " 'emancipation': 'The act of freeing slaves from bondage.',\n",
       " 'modern warfare': 'The type of warfare characterized by advanced technology and high casualty rates, as seen in the Civil War.',\n",
       " 'Gilded Age': 'A period of economic growth and industrialization in the United States following the Civil War.',\n",
       " 'protective tariff': 'A tax imposed on imported goods to protect domestic industries from foreign competition.',\n",
       " 'Land Grant College Act': 'Legislation that provided funding for the establishment of universities that taught agriculture and mechanical arts.',\n",
       " 'industrialization': 'The process of developing industries and manufacturing on a large scale.',\n",
       " 'global economic power': 'A country that has significant influence and control over the global economy.'}"
      ]
     },
     "execution_count": 45,
     "metadata": {},
     "output_type": "execute_result"
    }
   ],
   "source": [
    "d14"
   ]
  }
 ],
 "metadata": {
  "kernelspec": {
   "display_name": "Python 3",
   "language": "python",
   "name": "python3"
  },
  "language_info": {
   "codemirror_mode": {
    "name": "ipython",
    "version": 3
   },
   "file_extension": ".py",
   "mimetype": "text/x-python",
   "name": "python",
   "nbconvert_exporter": "python",
   "pygments_lexer": "ipython3",
   "version": "3.11.7"
  }
 },
 "nbformat": 4,
 "nbformat_minor": 2
}
